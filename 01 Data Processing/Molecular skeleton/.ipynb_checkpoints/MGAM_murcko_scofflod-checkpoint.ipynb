{
 "cells": [
  {
   "cell_type": "markdown",
   "metadata": {},
   "source": [
    "### Murcko_scofflod"
   ]
  },
  {
   "cell_type": "code",
   "execution_count": 1,
   "metadata": {},
   "outputs": [],
   "source": [
    "import pandas as pd\n",
    "import numpy as np"
   ]
  },
  {
   "cell_type": "code",
   "execution_count": 18,
   "metadata": {},
   "outputs": [],
   "source": [
    "df = pd.read_csv('MGAM_murcko_scofflod.csv', sep=',')"
   ]
  },
  {
   "cell_type": "code",
   "execution_count": 19,
   "metadata": {},
   "outputs": [
    {
     "name": "stdout",
     "output_type": "stream",
     "text": [
      "  molecule_chembl_id                                   canonical_smiles  \\\n",
      "0      CHEMBL2051983  CO[C@H]1O[C@H](C)[C@@H](N[C@H]2C[C@](O)(CO)[C@...   \n",
      "1      CHEMBL2374254  OC[C@@]1(O)C[C@H](NC[C@H](O)c2ccccc2)[C@H](O)[...   \n",
      "2      CHEMBL3349432  OC[C@@]1(O)C[C@H](N[C@@H]2CCCC[C@H]2O)[C@H](O)...   \n",
      "3      CHEMBL2374253  OC[C@H](N[C@H]1C[C@](O)(CO)[C@@H](O)[C@H](O)[C...   \n",
      "4      CHEMBL3349431  OCN(CO)[C@H]1C[C@](O)(CO)[C@@H](O)[C@H](O)[C@H]1O   \n",
      "\n",
      "   bioactivity_class  standard_value Unit  \n",
      "0                  1             4.9   nM  \n",
      "1                  1             5.8   nM  \n",
      "2                  1             6.1   nM  \n",
      "3                  1            13.0   nM  \n",
      "4                  1            15.0   nM  \n"
     ]
    }
   ],
   "source": [
    "print(df.head())"
   ]
  },
  {
   "cell_type": "code",
   "execution_count": 20,
   "metadata": {},
   "outputs": [
    {
     "name": "stdout",
     "output_type": "stream",
     "text": [
      "(0, 5)\n"
     ]
    }
   ],
   "source": [
    "df = df[df['standard_value'] == 'IC50']\n",
    "print(df.shape)"
   ]
  },
  {
   "cell_type": "code",
   "execution_count": 21,
   "metadata": {},
   "outputs": [
    {
     "name": "stdout",
     "output_type": "stream",
     "text": [
      "Index(['molecule_chembl_id', 'canonical_smiles', 'bioactivity_class',\n",
      "       'standard_value', 'Unit'],\n",
      "      dtype='object')\n"
     ]
    }
   ],
   "source": [
    "print(df.columns)"
   ]
  },
  {
   "cell_type": "code",
   "execution_count": 5,
   "metadata": {},
   "outputs": [
    {
     "name": "stdout",
     "output_type": "stream",
     "text": [
      "(2825, 47)\n"
     ]
    }
   ],
   "source": [
    "# df = df[~df['Standard Relation'].isin([\"'<'\", \"'>'\"])]\n",
    "# print(df.shape)"
   ]
  },
  {
   "cell_type": "code",
   "execution_count": 6,
   "metadata": {},
   "outputs": [],
   "source": [
    "# if 'Standard Relation' in df.columns:\n",
    "#     df = df[df['Standard Relation'] == \"'='\"]"
   ]
  },
  {
   "cell_type": "code",
   "execution_count": 7,
   "metadata": {},
   "outputs": [],
   "source": [
    "# df = df.dropna(subset=['Standard Value'])"
   ]
  },
  {
   "cell_type": "code",
   "execution_count": 8,
   "metadata": {},
   "outputs": [
    {
     "name": "stdout",
     "output_type": "stream",
     "text": [
      "(1905, 47)\n"
     ]
    }
   ],
   "source": [
    "# df = df.dropna(subset=['Smiles'])\n",
    "# print(df.shape)"
   ]
  },
  {
   "cell_type": "code",
   "execution_count": 9,
   "metadata": {},
   "outputs": [
    {
     "name": "stdout",
     "output_type": "stream",
     "text": [
      "(1905, 47)\n"
     ]
    }
   ],
   "source": [
    "# df = df[df['Smiles'] != '']\n",
    "# print(df.shape)"
   ]
  },
  {
   "cell_type": "code",
   "execution_count": 10,
   "metadata": {},
   "outputs": [
    {
     "name": "stdout",
     "output_type": "stream",
     "text": [
      "(1876, 47)\n"
     ]
    }
   ],
   "source": [
    "# if 'Standard Units' in df.columns:\n",
    "#     df = df[df['Standard Units'] == 'nM']\n",
    "# print(df.shape)"
   ]
  },
  {
   "cell_type": "code",
   "execution_count": 38,
   "metadata": {},
   "outputs": [],
   "source": [
    "df['standard_value'] = pd.to_numeric(df['standard_value'], errors='coerce')\n",
    "df['pIC50'] = -np.log10(df['standard_value'] * 1e-9)"
   ]
  },
  {
   "cell_type": "code",
   "execution_count": 39,
   "metadata": {},
   "outputs": [
    {
     "name": "stdout",
     "output_type": "stream",
     "text": [
      "After pIC50 calculation: (757, 8)\n",
      "0    5.319664\n",
      "1    5.175874\n",
      "2    5.146302\n",
      "3    5.066513\n",
      "4    5.060980\n",
      "Name: pIC50, dtype: float64\n"
     ]
    }
   ],
   "source": [
    "print(\"After pIC50 calculation:\", df.shape)\n",
    "print(df['pIC50'].head())"
   ]
  },
  {
   "cell_type": "code",
   "execution_count": 41,
   "metadata": {},
   "outputs": [],
   "source": [
    "df.to_csv('MGAM_pIC50.csv', index=False)"
   ]
  },
  {
   "cell_type": "code",
   "execution_count": 13,
   "metadata": {},
   "outputs": [
    {
     "name": "stdout",
     "output_type": "stream",
     "text": [
      "(1504, 48)\n"
     ]
    }
   ],
   "source": [
    "# df = df.drop_duplicates(subset='Molecule ChEMBL ID', keep='first')\n",
    "# print(df.shape)"
   ]
  },
  {
   "cell_type": "code",
   "execution_count": 14,
   "metadata": {},
   "outputs": [
    {
     "name": "stdout",
     "output_type": "stream",
     "text": [
      "(1504, 48)\n"
     ]
    }
   ],
   "source": [
    "# df = df.drop_duplicates(subset='Smiles', keep='first')\n",
    "# print(df.shape)"
   ]
  },
  {
   "cell_type": "code",
   "execution_count": 15,
   "metadata": {},
   "outputs": [],
   "source": [
    "# df.to_csv('D:\\\\Chongqing_University\\computer\\ML_practice\\database\\ACE\\merged_data_ACE.csv', index=False)"
   ]
  },
  {
   "cell_type": "code",
   "execution_count": null,
   "metadata": {},
   "outputs": [],
   "source": [
    "#添加活性分类，并去掉多余的列"
   ]
  },
  {
   "cell_type": "code",
   "execution_count": 48,
   "metadata": {},
   "outputs": [],
   "source": [
    "def classify_bioactivity(x):\n",
    "    if x > 5:\n",
    "        return 'b1-active'\n",
    "    elif x >= 4:\n",
    "        return 'b2-intermediate'\n",
    "    else:\n",
    "        return 'b3-inactive'"
   ]
  },
  {
   "cell_type": "code",
   "execution_count": 49,
   "metadata": {},
   "outputs": [],
   "source": [
    "df['bioactivity'] = df['pIC50'].apply(classify_bioactivity)"
   ]
  },
  {
   "cell_type": "code",
   "execution_count": 50,
   "metadata": {},
   "outputs": [
    {
     "name": "stdout",
     "output_type": "stream",
     "text": [
      "bioactivity\n",
      "b1-active          432\n",
      "b2-intermediate    289\n",
      "b3-inactive         36\n",
      "Name: count, dtype: int64\n"
     ]
    }
   ],
   "source": [
    "counts = df['bioactivity'].value_counts()\n",
    "print(counts)"
   ]
  },
  {
   "cell_type": "code",
   "execution_count": 51,
   "metadata": {},
   "outputs": [
    {
     "name": "stdout",
     "output_type": "stream",
     "text": [
      "      pIC50 bioactivity\n",
      "0  5.319664   b1-active\n",
      "1  5.175874   b1-active\n",
      "2  5.146302   b1-active\n",
      "3  5.066513   b1-active\n",
      "4  5.060980   b1-active\n"
     ]
    }
   ],
   "source": [
    "print(df[['pIC50', 'bioactivity']].head())"
   ]
  },
  {
   "cell_type": "code",
   "execution_count": 57,
   "metadata": {},
   "outputs": [],
   "source": [
    "# columns_to_keep = [\n",
    "#     'molecule_chembl_id',\n",
    "#     'canonical_smiles',\n",
    "#     'bioactivity_class',\n",
    "#     'standard_value',\n",
    "#     'Unit',\n",
    "#     'MurckoScaffold',\n",
    "#     'Murcko frequency',\n",
    "#     'pIC50',\n",
    "#     'bioactivity'\n",
    "# ]"
   ]
  },
  {
   "cell_type": "code",
   "execution_count": 58,
   "metadata": {},
   "outputs": [],
   "source": [
    "# df = df[columns_to_keep]"
   ]
  },
  {
   "cell_type": "code",
   "execution_count": 59,
   "metadata": {},
   "outputs": [],
   "source": [
    "# rename_columns = {\n",
    "#     'molecule_chembl_id': 'molecule_chembl_id',\n",
    "#     'canonical_smiles': 'canonical_smiles',\n",
    "#     'bioactivity_class': 'bioactivity_class',\n",
    "#     'standard_value': 'standard_value',\n",
    "#     'Unit': 'Unit',\n",
    "#     'MurckoScaffold': 'MurckoScaffold',\n",
    "#     'Murcko frequency': 'Murcko frequency',\n",
    "#     'pIC50': 'pIC50',\n",
    "#     'bioactivity': 'bioactivity'\n",
    "# }"
   ]
  },
  {
   "cell_type": "code",
   "execution_count": 60,
   "metadata": {},
   "outputs": [
    {
     "name": "stdout",
     "output_type": "stream",
     "text": [
      "Index(['molecule_chembl_id', 'canonical_smiles', 'bioactivity_class',\n",
      "       'standard_value', 'Unit', 'MurckoScaffold', 'Murcko frequency', 'pIC50',\n",
      "       'bioactivity', 'bioactivity'],\n",
      "      dtype='object')\n"
     ]
    }
   ],
   "source": [
    "# df.rename(columns=rename_columns, inplace=True)\n",
    "# print(df.columns)"
   ]
  },
  {
   "cell_type": "code",
   "execution_count": 61,
   "metadata": {},
   "outputs": [],
   "source": [
    "df.to_csv('MGAM_pIC50_class.csv', index=False)"
   ]
  },
  {
   "cell_type": "markdown",
   "metadata": {},
   "source": [
    "#### 1. murcko_scofflod"
   ]
  },
  {
   "cell_type": "code",
   "execution_count": 22,
   "metadata": {},
   "outputs": [],
   "source": [
    "import csv\n",
    "smiles_list = []\n",
    "with open(r\"MGAM_murcko_scofflod.csv\", 'r', encoding='utf-8') as file:\n",
    "    reader = csv.reader(file)\n",
    "    next(reader) # 跳过标题行\n",
    "    for row in reader:\n",
    "        smiles = row[1] # 假设SMILES字符串在第二列\n",
    "        smiles_list.append(smiles)"
   ]
  },
  {
   "cell_type": "markdown",
   "metadata": {},
   "source": [
    "##### 1.1 提取数据集中的全部mucko_scofflod"
   ]
  },
  {
   "cell_type": "code",
   "execution_count": 23,
   "metadata": {},
   "outputs": [],
   "source": [
    "import pandas as pd\n",
    "from rdkit import Chem\n",
    "from rdkit.Chem.Scaffolds import MurckoScaffold\n",
    "from collections import Counter\n",
    "from collections import defaultdict\n",
    "\n",
    "def most_common_scaffolds(smiles_list):\n",
    "    # 将SMILES字符串转换为分子对象\n",
    "    mols = [Chem.MolFromSmiles(smiles) for smiles in smiles_list]\n",
    "    \n",
    "    #使用defaultdict创建一个字典来存储每个骨架及其对应的原始SMILES字符串\n",
    "    scaffold_to_smiles = defaultdict(list)\n",
    "    \n",
    "    # 计算每个分子的Murcko骨架\n",
    "    for mol, smiles in zip(mols, smiles_list):\n",
    "        if mol:  # 确保分子对象有效\n",
    "            scaffold = MurckoScaffold.MurckoScaffoldSmiles(mol=mol)\n",
    "            scaffold_to_smiles[scaffold].append(smiles)\n",
    "    \n",
    "    # 统计出现频率最高的骨架\n",
    "    count = Counter({scaffold: len(smiles) for scaffold, smiles in scaffold_to_smiles.items()})\n",
    "    most_common = count.most_common()\n",
    "    \n",
    "    return most_common, scaffold_to_smiles\n",
    "\n",
    "# 获取最常见的骨架及每个骨架对应的化合物SMILES列表\n",
    "result = most_common_scaffolds(smiles_list)\n",
    "most_common, scaffold_to_smiles = result \n",
    "with open(r\"murcko_summarize.csv\", 'w', newline='') as file:\n",
    "    writer = csv.writer(file)\n",
    "    writer.writerow(['Scaffold', 'Count'])\n",
    "    for scaffold, count in most_common:  \n",
    "        writer.writerow([scaffold, count]) "
   ]
  },
  {
   "cell_type": "code",
   "execution_count": 27,
   "metadata": {},
   "outputs": [],
   "source": [
    "# 定义函数来获取最常见的骨架和对应的化合物信息\n",
    "def most_common_scaffolds(compounds_list):\n",
    "    scaffold_to_compounds = defaultdict(list)\n",
    "\n",
    "    for compound in compounds_list:\n",
    "        smiles = compound['canonical_smiles']  # 确保SMILES是CSV文件中对应列的标题\n",
    "        mol = Chem.MolFromSmiles(smiles)\n",
    "        if mol:\n",
    "            scaffold = MurckoScaffold.MurckoScaffoldSmiles(mol=mol)\n",
    "            scaffold_to_compounds[scaffold].append(compound)\n",
    "\n",
    "    count = Counter({scaffold: len(items) for scaffold, items in scaffold_to_compounds.items()})\n",
    "    most_common = count.most_common()\n",
    "\n",
    "    return most_common, scaffold_to_compounds"
   ]
  },
  {
   "cell_type": "code",
   "execution_count": 28,
   "metadata": {},
   "outputs": [],
   "source": [
    "compounds_list = []\n",
    "with open(r\"MGAM_murcko_scofflod.csv\", 'r', encoding='utf-8') as file:\n",
    "    reader = csv.DictReader(file)  # 使用DictReader来读取所有列,包含所有化合物信息\n",
    "    for row in reader:\n",
    "        compounds_list.append(row)"
   ]
  },
  {
   "cell_type": "code",
   "execution_count": 29,
   "metadata": {},
   "outputs": [],
   "source": [
    "most_common, scaffold_to_compounds = most_common_scaffolds(compounds_list)\n",
    "top_10_scaffolds_compounds_info = {scaffold: scaffold_to_compounds[scaffold] for scaffold, _ in most_common[:501]}#提取前x个骨架对应的化合物"
   ]
  },
  {
   "cell_type": "code",
   "execution_count": 30,
   "metadata": {},
   "outputs": [],
   "source": [
    "data = []\n",
    "for scaffold, compounds_info in top_10_scaffolds_compounds_info.items():\n",
    "    for compound_info in compounds_info:\n",
    "        # 添加MurckoScaffold信息到每条化合物信息中\n",
    "        compound_info['MurckoScaffold'] = scaffold\n",
    "        data.append(compound_info)\n",
    "df_scaffolds_compounds = pd.DataFrame(data)\n",
    "df_scaffolds_compounds.to_csv(r'scaffolds_compounds.csv', index=False)"
   ]
  },
  {
   "cell_type": "markdown",
   "metadata": {},
   "source": [
    "##### 1.2 绘制Murcko核心片段 vs pIC50"
   ]
  },
  {
   "cell_type": "code",
   "execution_count": 31,
   "metadata": {},
   "outputs": [],
   "source": [
    "import pandas as pd\n",
    "import matplotlib.pyplot as plt\n",
    "import matplotlib.colors as mcolors"
   ]
  },
  {
   "cell_type": "code",
   "execution_count": 32,
   "metadata": {},
   "outputs": [],
   "source": [
    "mol_data = pd.read_csv('scaffolds_compounds.csv')\n",
    "scaffold_data = pd.read_csv('murcko_summarize.csv')"
   ]
  },
  {
   "cell_type": "code",
   "execution_count": 33,
   "metadata": {},
   "outputs": [],
   "source": [
    "merged_data = mol_data.merge(scaffold_data, left_on='MurckoScaffold', right_on='Scaffold')"
   ]
  },
  {
   "cell_type": "code",
   "execution_count": 34,
   "metadata": {},
   "outputs": [],
   "source": [
    "from matplotlib.colors import LinearSegmentedColormap\n",
    "colors = [(0, 0, 1), (0, 1, 0), (1, 0, 0)]  # 蓝色 -> 绿色 -> 红色\n",
    "n_bins = [0, 0.5, 1]  # 设定蓝色从0开始，中间转换绿色，红色结束\n",
    "cmap_name = 'my_list'\n",
    "cm = LinearSegmentedColormap.from_list(cmap_name, list(zip(n_bins, colors)))\n",
    "\n",
    "# 应用颜色映射\n",
    "norm = mcolors.Normalize(vmin=merged_data['Count'].min(), vmax=merged_data['Count'].max())"
   ]
  },
  {
   "cell_type": "code",
   "execution_count": 49,
   "metadata": {
    "scrolled": true
   },
   "outputs": [
    {
     "data": {
      "image/png": "[encoded data removed]",
      "text/plain": [
       "<Figure size 432x288 with 2 Axes>"
      ]
     },
     "metadata": {
      "needs_background": "light"
     },
     "output_type": "display_data"
    }
   ],
   "source": [
    "plt.scatter(\n",
    "    x=range(len(merged_data)),  # 使用数据点的索引作为X轴\n",
    "    y=merged_data['pIC50'],     # Y轴是pIC50值\n",
    "    c=merged_data['Count'],     # 根据Scaffold的Count改变颜色\n",
    "    cmap=cm,\n",
    "    norm=norm,\n",
    "    s=8  # 设置散点大小\n",
    ")\n",
    "\n",
    "# 添加颜色条来表示支架的频次\n",
    "sm = plt.cm.ScalarMappable(cmap=cm, norm=norm)\n",
    "sm.set_array([])\n",
    "plt.colorbar(sm, label='Scaffold Frequency')\n",
    "\n",
    "# 添加X轴和Y轴标签以及图像标题\n",
    "plt.xlabel('Scaffold Index')\n",
    "plt.ylabel('pIC50 Value')\n",
    "plt.title('Murcko Scaffolds vs. pIC50')\n",
    "\n",
    "# 显示图表\n",
    "plt.show()"
   ]
  },
  {
   "cell_type": "code",
   "execution_count": 35,
   "metadata": {},
   "outputs": [],
   "source": [
    "import pandas as pd\n",
    "\n",
    "# 步骤1：读取CSV文件\n",
    "df1 = pd.read_csv('scaffolds_compounds.csv')  # 包含化合物信息和MurckoScaffold的CSV\n",
    "df2 = pd.read_csv('murcko_summarize.csv')  # 包含Scaffold和Count的CSV\n",
    "\n",
    "# 步骤2：合并DataFrame\n",
    "# 使用left merge保证第一个文件的所有行都被保留，即使某些MurckoScaffold在第二个文件中没有对应的Count\n",
    "merged_df = pd.merge(df1, df2, left_on='MurckoScaffold', right_on='Scaffold', how='left')\n",
    "\n",
    "# 步骤3：重命名列\n",
    "merged_df.rename(columns={'Count': 'Murcko frequency'}, inplace=True)\n",
    "\n",
    "# 可选：如果你想去除现在重复的'Scaffold'列\n",
    "merged_df.drop('Scaffold', axis=1, inplace=True)\n",
    "\n",
    "# 步骤4：保存结果到新的CSV文件\n",
    "merged_df.to_csv('merged_MGAM.csv', index=False)"
   ]
  },
  {
   "cell_type": "code",
   "execution_count": 36,
   "metadata": {},
   "outputs": [],
   "source": [
    "df = pd.read_csv('merged_MGAM.csv')\n",
    "filtered_df = df[df['Murcko frequency'] >= 10]\n",
    "filtered_df.to_csv('top10_murcko.csv', index=False)"
   ]
  },
  {
   "cell_type": "code",
   "execution_count": 37,
   "metadata": {},
   "outputs": [
    {
     "name": "stdout",
     "output_type": "stream",
     "text": [
      "Row 71 contains non-string data: nan\n"
     ]
    },
    {
     "data": {
      "image/svg+xml": [
       "<svg xmlns=\"http://www.w3.org/2000/svg\" xmlns:rdkit=\"http://www.rdkit.org/xml\" xmlns:xlink=\"http://www.w3.org/1999/xlink\" version=\"1.1\" baseProfile=\"full\" xml:space=\"preserve\" width=\"1000px\" height=\"600px\" viewBox=\"0 0 1000 600\">\n",
       "<!-- END OF HEADER -->\n",
       "<rect style=\"opacity:1.0;fill:#FFFFFF;stroke:none\" width=\"1000.0\" height=\"600.0\" x=\"0.0\" y=\"0.0\"> </rect>\n",
       "<path class=\"bond-0 atom-0 atom-1\" d=\"M 154.9,100.0 L 148.0,111.9\" style=\"fill:none;fill-rule:evenodd;stroke:#000000;stroke-width:2.0px;stroke-linecap:butt;stroke-linejoin:miter;stroke-opacity:1\"/>\n",
       "<path class=\"bond-0 atom-0 atom-1\" d=\"M 152.5,100.0 L 146.8,109.8\" style=\"fill:none;fill-rule:evenodd;stroke:#000000;stroke-width:2.0px;stroke-linecap:butt;stroke-linejoin:miter;stroke-opacity:1\"/>\n",
       "<path class=\"bond-1 atom-1 atom-2\" d=\"M 148.0,111.9 L 134.3,111.9\" style=\"fill:none;fill-rule:evenodd;stroke:#000000;stroke-width:2.0px;stroke-linecap:butt;stroke-linejoin:miter;stroke-opacity:1\"/>\n",
       "<path class=\"bond-2 atom-2 atom-3\" d=\"M 134.3,111.9 L 127.4,100.0\" style=\"fill:none;fill-rule:evenodd;stroke:#000000;stroke-width:2.0px;stroke-linecap:butt;stroke-linejoin:miter;stroke-opacity:1\"/>\n",
       "<path class=\"bond-2 atom-2 atom-3\" d=\"M 135.5,109.8 L 129.8,100.0\" style=\"fill:none;fill-rule:evenodd;stroke:#000000;stroke-width:2.0px;stroke-linecap:butt;stroke-linejoin:miter;stroke-opacity:1\"/>\n",
       "<path class=\"bond-3 atom-3 atom-4\" d=\"M 127.4,100.0 L 113.7,100.0\" style=\"fill:none;fill-rule:evenodd;stroke:#000000;stroke-width:2.0px;stroke-linecap:butt;stroke-linejoin:miter;stroke-opacity:1\"/>\n",
       "<path class=\"bond-4 atom-4 atom-5\" d=\"M 113.7,100.0 L 106.9,88.1\" style=\"fill:none;fill-rule:evenodd;stroke:#000000;stroke-width:2.0px;stroke-linecap:butt;stroke-linejoin:miter;stroke-opacity:1\"/>\n",
       "<path class=\"bond-4 atom-4 atom-5\" d=\"M 111.3,100.0 L 105.7,90.2\" style=\"fill:none;fill-rule:evenodd;stroke:#000000;stroke-width:2.0px;stroke-linecap:butt;stroke-linejoin:miter;stroke-opacity:1\"/>\n",
       "<path class=\"bond-5 atom-5 atom-6\" d=\"M 106.9,88.1 L 93.1,88.1\" style=\"fill:none;fill-rule:evenodd;stroke:#000000;stroke-width:2.0px;stroke-linecap:butt;stroke-linejoin:miter;stroke-opacity:1\"/>\n",
       "<path class=\"bond-6 atom-6 atom-7\" d=\"M 93.1,88.1 L 86.3,100.0\" style=\"fill:none;fill-rule:evenodd;stroke:#000000;stroke-width:2.0px;stroke-linecap:butt;stroke-linejoin:miter;stroke-opacity:1\"/>\n",
       "<path class=\"bond-6 atom-6 atom-7\" d=\"M 94.3,90.2 L 88.7,100.0\" style=\"fill:none;fill-rule:evenodd;stroke:#000000;stroke-width:2.0px;stroke-linecap:butt;stroke-linejoin:miter;stroke-opacity:1\"/>\n",
       "<path class=\"bond-7 atom-7 atom-8\" d=\"M 86.3,100.0 L 72.6,100.0\" style=\"fill:none;fill-rule:evenodd;stroke:#000000;stroke-width:2.0px;stroke-linecap:butt;stroke-linejoin:miter;stroke-opacity:1\"/>\n",
       "<path class=\"bond-8 atom-8 atom-9\" d=\"M 72.6,100.0 L 65.7,88.1\" style=\"fill:none;fill-rule:evenodd;stroke:#000000;stroke-width:2.0px;stroke-linecap:butt;stroke-linejoin:miter;stroke-opacity:1\"/>\n",
       "<path class=\"bond-8 atom-8 atom-9\" d=\"M 70.2,100.0 L 64.5,90.2\" style=\"fill:none;fill-rule:evenodd;stroke:#000000;stroke-width:2.0px;stroke-linecap:butt;stroke-linejoin:miter;stroke-opacity:1\"/>\n",
       "<path class=\"bond-9 atom-9 atom-10\" d=\"M 65.7,88.1 L 52.0,88.1\" style=\"fill:none;fill-rule:evenodd;stroke:#000000;stroke-width:2.0px;stroke-linecap:butt;stroke-linejoin:miter;stroke-opacity:1\"/>\n",
       "<path class=\"bond-10 atom-10 atom-11\" d=\"M 52.0,88.1 L 45.1,100.0\" style=\"fill:none;fill-rule:evenodd;stroke:#000000;stroke-width:2.0px;stroke-linecap:butt;stroke-linejoin:miter;stroke-opacity:1\"/>\n",
       "<path class=\"bond-10 atom-10 atom-11\" d=\"M 53.2,90.2 L 47.5,100.0\" style=\"fill:none;fill-rule:evenodd;stroke:#000000;stroke-width:2.0px;stroke-linecap:butt;stroke-linejoin:miter;stroke-opacity:1\"/>\n",
       "<path class=\"bond-11 atom-11 atom-12\" d=\"M 45.1,100.0 L 52.0,111.9\" style=\"fill:none;fill-rule:evenodd;stroke:#000000;stroke-width:2.0px;stroke-linecap:butt;stroke-linejoin:miter;stroke-opacity:1\"/>\n",
       "<path class=\"bond-12 atom-12 atom-13\" d=\"M 52.0,111.9 L 65.7,111.9\" style=\"fill:none;fill-rule:evenodd;stroke:#000000;stroke-width:2.0px;stroke-linecap:butt;stroke-linejoin:miter;stroke-opacity:1\"/>\n",
       "<path class=\"bond-12 atom-12 atom-13\" d=\"M 53.2,109.8 L 64.5,109.8\" style=\"fill:none;fill-rule:evenodd;stroke:#000000;stroke-width:2.0px;stroke-linecap:butt;stroke-linejoin:miter;stroke-opacity:1\"/>\n",
       "<path class=\"bond-13 atom-7 atom-14\" d=\"M 86.3,100.0 L 93.1,111.9\" style=\"fill:none;fill-rule:evenodd;stroke:#000000;stroke-width:2.0px;stroke-linecap:butt;stroke-linejoin:miter;stroke-opacity:1\"/>\n",
       "<path class=\"bond-14 atom-14 atom-15\" d=\"M 93.1,111.9 L 106.9,111.9\" style=\"fill:none;fill-rule:evenodd;stroke:#000000;stroke-width:2.0px;stroke-linecap:butt;stroke-linejoin:miter;stroke-opacity:1\"/>\n",
       "<path class=\"bond-14 atom-14 atom-15\" d=\"M 94.3,109.8 L 105.7,109.8\" style=\"fill:none;fill-rule:evenodd;stroke:#000000;stroke-width:2.0px;stroke-linecap:butt;stroke-linejoin:miter;stroke-opacity:1\"/>\n",
       "<path class=\"bond-15 atom-3 atom-16\" d=\"M 127.4,100.0 L 134.3,88.1\" style=\"fill:none;fill-rule:evenodd;stroke:#000000;stroke-width:2.0px;stroke-linecap:butt;stroke-linejoin:miter;stroke-opacity:1\"/>\n",
       "<path class=\"bond-16 atom-16 atom-17\" d=\"M 134.3,88.1 L 148.0,88.1\" style=\"fill:none;fill-rule:evenodd;stroke:#000000;stroke-width:2.0px;stroke-linecap:butt;stroke-linejoin:miter;stroke-opacity:1\"/>\n",
       "<path class=\"bond-16 atom-16 atom-17\" d=\"M 135.5,90.2 L 146.8,90.2\" style=\"fill:none;fill-rule:evenodd;stroke:#000000;stroke-width:2.0px;stroke-linecap:butt;stroke-linejoin:miter;stroke-opacity:1\"/>\n",
       "<path class=\"bond-17 atom-17 atom-0\" d=\"M 148.0,88.1 L 154.9,100.0\" style=\"fill:none;fill-rule:evenodd;stroke:#000000;stroke-width:2.0px;stroke-linecap:butt;stroke-linejoin:miter;stroke-opacity:1\"/>\n",
       "<path class=\"bond-18 atom-15 atom-4\" d=\"M 106.9,111.9 L 113.7,100.0\" style=\"fill:none;fill-rule:evenodd;stroke:#000000;stroke-width:2.0px;stroke-linecap:butt;stroke-linejoin:miter;stroke-opacity:1\"/>\n",
       "<path class=\"bond-19 atom-13 atom-8\" d=\"M 65.7,111.9 L 72.6,100.0\" style=\"fill:none;fill-rule:evenodd;stroke:#000000;stroke-width:2.0px;stroke-linecap:butt;stroke-linejoin:miter;stroke-opacity:1\"/>\n",
       "<path d=\"M 154.5,100.6 L 154.9,100.0 L 154.5,99.4\" style=\"fill:none;stroke:#000000;stroke-width:2.0px;stroke-linecap:butt;stroke-linejoin:miter;stroke-opacity:1;\"/>\n",
       "<path d=\"M 148.4,111.3 L 148.0,111.9 L 147.3,111.9\" style=\"fill:none;stroke:#000000;stroke-width:2.0px;stroke-linecap:butt;stroke-linejoin:miter;stroke-opacity:1;\"/>\n",
       "<path d=\"M 135.0,111.9 L 134.3,111.9 L 134.0,111.3\" style=\"fill:none;stroke:#000000;stroke-width:2.0px;stroke-linecap:butt;stroke-linejoin:miter;stroke-opacity:1;\"/>\n",
       "<path d=\"M 107.2,88.7 L 106.9,88.1 L 106.2,88.1\" style=\"fill:none;stroke:#000000;stroke-width:2.0px;stroke-linecap:butt;stroke-linejoin:miter;stroke-opacity:1;\"/>\n",
       "<path d=\"M 93.8,88.1 L 93.1,88.1 L 92.8,88.7\" style=\"fill:none;stroke:#000000;stroke-width:2.0px;stroke-linecap:butt;stroke-linejoin:miter;stroke-opacity:1;\"/>\n",
       "<path d=\"M 66.0,88.7 L 65.7,88.1 L 65.0,88.1\" style=\"fill:none;stroke:#000000;stroke-width:2.0px;stroke-linecap:butt;stroke-linejoin:miter;stroke-opacity:1;\"/>\n",
       "<path d=\"M 52.7,88.1 L 52.0,88.1 L 51.6,88.7\" style=\"fill:none;stroke:#000000;stroke-width:2.0px;stroke-linecap:butt;stroke-linejoin:miter;stroke-opacity:1;\"/>\n",
       "<path d=\"M 45.5,99.4 L 45.1,100.0 L 45.5,100.6\" style=\"fill:none;stroke:#000000;stroke-width:2.0px;stroke-linecap:butt;stroke-linejoin:miter;stroke-opacity:1;\"/>\n",
       "<path d=\"M 51.6,111.3 L 52.0,111.9 L 52.7,111.9\" style=\"fill:none;stroke:#000000;stroke-width:2.0px;stroke-linecap:butt;stroke-linejoin:miter;stroke-opacity:1;\"/>\n",
       "<path d=\"M 65.0,111.9 L 65.7,111.9 L 66.0,111.3\" style=\"fill:none;stroke:#000000;stroke-width:2.0px;stroke-linecap:butt;stroke-linejoin:miter;stroke-opacity:1;\"/>\n",
       "<path d=\"M 92.8,111.3 L 93.1,111.9 L 93.8,111.9\" style=\"fill:none;stroke:#000000;stroke-width:2.0px;stroke-linecap:butt;stroke-linejoin:miter;stroke-opacity:1;\"/>\n",
       "<path d=\"M 106.2,111.9 L 106.9,111.9 L 107.2,111.3\" style=\"fill:none;stroke:#000000;stroke-width:2.0px;stroke-linecap:butt;stroke-linejoin:miter;stroke-opacity:1;\"/>\n",
       "<path d=\"M 134.0,88.7 L 134.3,88.1 L 135.0,88.1\" style=\"fill:none;stroke:#000000;stroke-width:2.0px;stroke-linecap:butt;stroke-linejoin:miter;stroke-opacity:1;\"/>\n",
       "<path d=\"M 147.3,88.1 L 148.0,88.1 L 148.4,88.7\" style=\"fill:none;stroke:#000000;stroke-width:2.0px;stroke-linecap:butt;stroke-linejoin:miter;stroke-opacity:1;\"/>\n",
       "<path class=\"bond-0 atom-0 atom-1\" d=\"M 281.3,116.5 L 283.3,111.1\" style=\"fill:none;fill-rule:evenodd;stroke:#FF0000;stroke-width:2.0px;stroke-linecap:butt;stroke-linejoin:miter;stroke-opacity:1\"/>\n",
       "<path class=\"bond-0 atom-0 atom-1\" d=\"M 283.3,111.1 L 285.3,105.7\" style=\"fill:none;fill-rule:evenodd;stroke:#000000;stroke-width:2.0px;stroke-linecap:butt;stroke-linejoin:miter;stroke-opacity:1\"/>\n",
       "<path class=\"bond-0 atom-0 atom-1\" d=\"M 283.2,117.2 L 285.2,111.8\" style=\"fill:none;fill-rule:evenodd;stroke:#FF0000;stroke-width:2.0px;stroke-linecap:butt;stroke-linejoin:miter;stroke-opacity:1\"/>\n",
       "<path class=\"bond-0 atom-0 atom-1\" d=\"M 285.2,111.8 L 287.2,106.4\" style=\"fill:none;fill-rule:evenodd;stroke:#000000;stroke-width:2.0px;stroke-linecap:butt;stroke-linejoin:miter;stroke-opacity:1\"/>\n",
       "<path class=\"bond-1 atom-1 atom-2\" d=\"M 286.1,106.6 L 282.7,102.6\" style=\"fill:none;fill-rule:evenodd;stroke:#000000;stroke-width:2.0px;stroke-linecap:butt;stroke-linejoin:miter;stroke-opacity:1\"/>\n",
       "<path class=\"bond-1 atom-1 atom-2\" d=\"M 282.7,102.6 L 279.4,98.6\" style=\"fill:none;fill-rule:evenodd;stroke:#0000FF;stroke-width:2.0px;stroke-linecap:butt;stroke-linejoin:miter;stroke-opacity:1\"/>\n",
       "<path class=\"bond-2 atom-2 atom-3\" d=\"M 275.2,96.4 L 265.8,98.0\" style=\"fill:none;fill-rule:evenodd;stroke:#0000FF;stroke-width:2.0px;stroke-linecap:butt;stroke-linejoin:miter;stroke-opacity:1\"/>\n",
       "<path class=\"bond-3 atom-3 atom-4\" d=\"M 261.7,95.8 L 258.4,91.8\" style=\"fill:none;fill-rule:evenodd;stroke:#0000FF;stroke-width:2.0px;stroke-linecap:butt;stroke-linejoin:miter;stroke-opacity:1\"/>\n",
       "<path class=\"bond-3 atom-3 atom-4\" d=\"M 258.4,91.8 L 255.0,87.7\" style=\"fill:none;fill-rule:evenodd;stroke:#000000;stroke-width:2.0px;stroke-linecap:butt;stroke-linejoin:miter;stroke-opacity:1\"/>\n",
       "<path class=\"bond-3 atom-3 atom-4\" d=\"M 263.3,94.5 L 260.0,90.5\" style=\"fill:none;fill-rule:evenodd;stroke:#0000FF;stroke-width:2.0px;stroke-linecap:butt;stroke-linejoin:miter;stroke-opacity:1\"/>\n",
       "<path class=\"bond-3 atom-3 atom-4\" d=\"M 260.0,90.5 L 256.6,86.4\" style=\"fill:none;fill-rule:evenodd;stroke:#000000;stroke-width:2.0px;stroke-linecap:butt;stroke-linejoin:miter;stroke-opacity:1\"/>\n",
       "<path class=\"bond-4 atom-4 atom-5\" d=\"M 255.0,87.7 L 241.5,90.0\" style=\"fill:none;fill-rule:evenodd;stroke:#000000;stroke-width:2.0px;stroke-linecap:butt;stroke-linejoin:miter;stroke-opacity:1\"/>\n",
       "<path class=\"bond-5 atom-5 atom-6\" d=\"M 241.5,90.0 L 232.7,79.5\" style=\"fill:none;fill-rule:evenodd;stroke:#000000;stroke-width:2.0px;stroke-linecap:butt;stroke-linejoin:miter;stroke-opacity:1\"/>\n",
       "<path class=\"bond-5 atom-5 atom-6\" d=\"M 239.2,90.4 L 231.9,81.7\" style=\"fill:none;fill-rule:evenodd;stroke:#000000;stroke-width:2.0px;stroke-linecap:butt;stroke-linejoin:miter;stroke-opacity:1\"/>\n",
       "<path class=\"bond-6 atom-6 atom-7\" d=\"M 232.7,79.5 L 219.2,81.8\" style=\"fill:none;fill-rule:evenodd;stroke:#000000;stroke-width:2.0px;stroke-linecap:butt;stroke-linejoin:miter;stroke-opacity:1\"/>\n",
       "<path class=\"bond-7 atom-7 atom-8\" d=\"M 219.2,81.8 L 214.4,94.6\" style=\"fill:none;fill-rule:evenodd;stroke:#000000;stroke-width:2.0px;stroke-linecap:butt;stroke-linejoin:miter;stroke-opacity:1\"/>\n",
       "<path class=\"bond-7 atom-7 atom-8\" d=\"M 220.7,83.6 L 216.8,94.2\" style=\"fill:none;fill-rule:evenodd;stroke:#000000;stroke-width:2.0px;stroke-linecap:butt;stroke-linejoin:miter;stroke-opacity:1\"/>\n",
       "<path class=\"bond-8 atom-8 atom-9\" d=\"M 214.4,94.6 L 223.2,105.2\" style=\"fill:none;fill-rule:evenodd;stroke:#000000;stroke-width:2.0px;stroke-linecap:butt;stroke-linejoin:miter;stroke-opacity:1\"/>\n",
       "<path class=\"bond-9 atom-9 atom-10\" d=\"M 223.2,105.2 L 236.7,102.9\" style=\"fill:none;fill-rule:evenodd;stroke:#000000;stroke-width:2.0px;stroke-linecap:butt;stroke-linejoin:miter;stroke-opacity:1\"/>\n",
       "<path class=\"bond-9 atom-9 atom-10\" d=\"M 224.0,103.0 L 235.2,101.1\" style=\"fill:none;fill-rule:evenodd;stroke:#000000;stroke-width:2.0px;stroke-linecap:butt;stroke-linejoin:miter;stroke-opacity:1\"/>\n",
       "<path class=\"bond-10 atom-1 atom-11\" d=\"M 286.1,106.6 L 299.6,104.3\" style=\"fill:none;fill-rule:evenodd;stroke:#000000;stroke-width:2.0px;stroke-linecap:butt;stroke-linejoin:miter;stroke-opacity:1\"/>\n",
       "<path class=\"bond-11 atom-11 atom-12\" d=\"M 299.6,104.3 L 308.3,114.8\" style=\"fill:none;fill-rule:evenodd;stroke:#000000;stroke-width:2.0px;stroke-linecap:butt;stroke-linejoin:miter;stroke-opacity:1\"/>\n",
       "<path class=\"bond-11 atom-11 atom-12\" d=\"M 301.9,103.9 L 309.2,112.6\" style=\"fill:none;fill-rule:evenodd;stroke:#000000;stroke-width:2.0px;stroke-linecap:butt;stroke-linejoin:miter;stroke-opacity:1\"/>\n",
       "<path class=\"bond-12 atom-12 atom-13\" d=\"M 308.3,114.8 L 321.9,112.6\" style=\"fill:none;fill-rule:evenodd;stroke:#000000;stroke-width:2.0px;stroke-linecap:butt;stroke-linejoin:miter;stroke-opacity:1\"/>\n",
       "<path class=\"bond-13 atom-13 atom-14\" d=\"M 321.9,112.6 L 326.6,99.7\" style=\"fill:none;fill-rule:evenodd;stroke:#000000;stroke-width:2.0px;stroke-linecap:butt;stroke-linejoin:miter;stroke-opacity:1\"/>\n",
       "<path class=\"bond-13 atom-13 atom-14\" d=\"M 320.3,110.7 L 324.3,100.1\" style=\"fill:none;fill-rule:evenodd;stroke:#000000;stroke-width:2.0px;stroke-linecap:butt;stroke-linejoin:miter;stroke-opacity:1\"/>\n",
       "<path class=\"bond-14 atom-14 atom-15\" d=\"M 326.6,99.7 L 340.2,97.4\" style=\"fill:none;fill-rule:evenodd;stroke:#000000;stroke-width:2.0px;stroke-linecap:butt;stroke-linejoin:miter;stroke-opacity:1\"/>\n",
       "<path class=\"bond-15 atom-15 atom-16\" d=\"M 340.2,97.4 L 344.0,101.2\" style=\"fill:none;fill-rule:evenodd;stroke:#000000;stroke-width:2.0px;stroke-linecap:butt;stroke-linejoin:miter;stroke-opacity:1\"/>\n",
       "<path class=\"bond-15 atom-15 atom-16\" d=\"M 344.0,101.2 L 347.9,105.0\" style=\"fill:none;fill-rule:evenodd;stroke:#0000FF;stroke-width:2.0px;stroke-linecap:butt;stroke-linejoin:miter;stroke-opacity:1\"/>\n",
       "<path class=\"bond-15 atom-15 atom-16\" d=\"M 342.7,97.0 L 346.0,100.2\" style=\"fill:none;fill-rule:evenodd;stroke:#000000;stroke-width:2.0px;stroke-linecap:butt;stroke-linejoin:miter;stroke-opacity:1\"/>\n",
       "<path class=\"bond-15 atom-15 atom-16\" d=\"M 346.0,100.2 L 349.3,103.5\" style=\"fill:none;fill-rule:evenodd;stroke:#0000FF;stroke-width:2.0px;stroke-linecap:butt;stroke-linejoin:miter;stroke-opacity:1\"/>\n",
       "<path class=\"bond-16 atom-16 atom-17\" d=\"M 352.0,105.9 L 357.1,103.3\" style=\"fill:none;fill-rule:evenodd;stroke:#0000FF;stroke-width:2.0px;stroke-linecap:butt;stroke-linejoin:miter;stroke-opacity:1\"/>\n",
       "<path class=\"bond-16 atom-16 atom-17\" d=\"M 357.1,103.3 L 362.1,100.6\" style=\"fill:none;fill-rule:evenodd;stroke:#000000;stroke-width:2.0px;stroke-linecap:butt;stroke-linejoin:miter;stroke-opacity:1\"/>\n",
       "<path class=\"bond-17 atom-17 atom-18\" d=\"M 362.1,100.6 L 375.0,105.4\" style=\"fill:none;fill-rule:evenodd;stroke:#000000;stroke-width:2.0px;stroke-linecap:butt;stroke-linejoin:miter;stroke-opacity:1\"/>\n",
       "<path class=\"bond-17 atom-17 atom-18\" d=\"M 364.0,99.1 L 374.6,103.1\" style=\"fill:none;fill-rule:evenodd;stroke:#000000;stroke-width:2.0px;stroke-linecap:butt;stroke-linejoin:miter;stroke-opacity:1\"/>\n",
       "<path class=\"bond-18 atom-18 atom-19\" d=\"M 375.0,105.4 L 385.6,96.6\" style=\"fill:none;fill-rule:evenodd;stroke:#000000;stroke-width:2.0px;stroke-linecap:butt;stroke-linejoin:miter;stroke-opacity:1\"/>\n",
       "<path class=\"bond-19 atom-19 atom-20\" d=\"M 385.6,96.6 L 383.3,83.1\" style=\"fill:none;fill-rule:evenodd;stroke:#000000;stroke-width:2.0px;stroke-linecap:butt;stroke-linejoin:miter;stroke-opacity:1\"/>\n",
       "<path class=\"bond-19 atom-19 atom-20\" d=\"M 383.3,95.8 L 381.4,84.6\" style=\"fill:none;fill-rule:evenodd;stroke:#000000;stroke-width:2.0px;stroke-linecap:butt;stroke-linejoin:miter;stroke-opacity:1\"/>\n",
       "<path class=\"bond-20 atom-20 atom-21\" d=\"M 383.3,83.1 L 370.4,78.3\" style=\"fill:none;fill-rule:evenodd;stroke:#000000;stroke-width:2.0px;stroke-linecap:butt;stroke-linejoin:miter;stroke-opacity:1\"/>\n",
       "<path class=\"bond-21 atom-21 atom-22\" d=\"M 370.4,78.3 L 359.8,87.1\" style=\"fill:none;fill-rule:evenodd;stroke:#000000;stroke-width:2.0px;stroke-linecap:butt;stroke-linejoin:miter;stroke-opacity:1\"/>\n",
       "<path class=\"bond-21 atom-21 atom-22\" d=\"M 370.8,80.7 L 362.1,87.9\" style=\"fill:none;fill-rule:evenodd;stroke:#000000;stroke-width:2.0px;stroke-linecap:butt;stroke-linejoin:miter;stroke-opacity:1\"/>\n",
       "<path class=\"bond-22 atom-22 atom-23\" d=\"M 359.8,87.1 L 354.0,86.2\" style=\"fill:none;fill-rule:evenodd;stroke:#000000;stroke-width:2.0px;stroke-linecap:butt;stroke-linejoin:miter;stroke-opacity:1\"/>\n",
       "<path class=\"bond-22 atom-22 atom-23\" d=\"M 354.0,86.2 L 348.1,85.4\" style=\"fill:none;fill-rule:evenodd;stroke:#CCCC00;stroke-width:2.0px;stroke-linecap:butt;stroke-linejoin:miter;stroke-opacity:1\"/>\n",
       "<path class=\"bond-23 atom-14 atom-24\" d=\"M 326.6,99.7 L 317.9,89.1\" style=\"fill:none;fill-rule:evenodd;stroke:#000000;stroke-width:2.0px;stroke-linecap:butt;stroke-linejoin:miter;stroke-opacity:1\"/>\n",
       "<path class=\"bond-24 atom-24 atom-25\" d=\"M 317.9,89.1 L 304.4,91.4\" style=\"fill:none;fill-rule:evenodd;stroke:#000000;stroke-width:2.0px;stroke-linecap:butt;stroke-linejoin:miter;stroke-opacity:1\"/>\n",
       "<path class=\"bond-24 atom-24 atom-25\" d=\"M 317.1,91.4 L 305.9,93.2\" style=\"fill:none;fill-rule:evenodd;stroke:#000000;stroke-width:2.0px;stroke-linecap:butt;stroke-linejoin:miter;stroke-opacity:1\"/>\n",
       "<path class=\"bond-25 atom-10 atom-5\" d=\"M 236.7,102.9 L 241.5,90.0\" style=\"fill:none;fill-rule:evenodd;stroke:#000000;stroke-width:2.0px;stroke-linecap:butt;stroke-linejoin:miter;stroke-opacity:1\"/>\n",
       "<path class=\"bond-26 atom-25 atom-11\" d=\"M 304.4,91.4 L 299.6,104.3\" style=\"fill:none;fill-rule:evenodd;stroke:#000000;stroke-width:2.0px;stroke-linecap:butt;stroke-linejoin:miter;stroke-opacity:1\"/>\n",
       "<path class=\"bond-27 atom-23 atom-15\" d=\"M 344.9,87.8 L 342.5,92.6\" style=\"fill:none;fill-rule:evenodd;stroke:#CCCC00;stroke-width:2.0px;stroke-linecap:butt;stroke-linejoin:miter;stroke-opacity:1\"/>\n",
       "<path class=\"bond-27 atom-23 atom-15\" d=\"M 342.5,92.6 L 340.2,97.4\" style=\"fill:none;fill-rule:evenodd;stroke:#000000;stroke-width:2.0px;stroke-linecap:butt;stroke-linejoin:miter;stroke-opacity:1\"/>\n",
       "<path class=\"bond-28 atom-22 atom-17\" d=\"M 359.8,87.1 L 362.1,100.6\" style=\"fill:none;fill-rule:evenodd;stroke:#000000;stroke-width:2.0px;stroke-linecap:butt;stroke-linejoin:miter;stroke-opacity:1\"/>\n",
       "<path d=\"M 285.9,106.4 L 286.1,106.6 L 286.7,106.5\" style=\"fill:none;stroke:#000000;stroke-width:2.0px;stroke-linecap:butt;stroke-linejoin:miter;stroke-opacity:1;\"/>\n",
       "<path d=\"M 255.2,87.9 L 255.0,87.7 L 254.3,87.9\" style=\"fill:none;stroke:#000000;stroke-width:2.0px;stroke-linecap:butt;stroke-linejoin:miter;stroke-opacity:1;\"/>\n",
       "<path d=\"M 233.2,80.0 L 232.7,79.5 L 232.1,79.6\" style=\"fill:none;stroke:#000000;stroke-width:2.0px;stroke-linecap:butt;stroke-linejoin:miter;stroke-opacity:1;\"/>\n",
       "<path d=\"M 219.9,81.6 L 219.2,81.8 L 219.0,82.4\" style=\"fill:none;stroke:#000000;stroke-width:2.0px;stroke-linecap:butt;stroke-linejoin:miter;stroke-opacity:1;\"/>\n",
       "<path d=\"M 214.7,94.0 L 214.4,94.6 L 214.9,95.2\" style=\"fill:none;stroke:#000000;stroke-width:2.0px;stroke-linecap:butt;stroke-linejoin:miter;stroke-opacity:1;\"/>\n",
       "<path d=\"M 222.8,104.7 L 223.2,105.2 L 223.9,105.1\" style=\"fill:none;stroke:#000000;stroke-width:2.0px;stroke-linecap:butt;stroke-linejoin:miter;stroke-opacity:1;\"/>\n",
       "<path d=\"M 236.0,103.0 L 236.7,102.9 L 237.0,102.3\" style=\"fill:none;stroke:#000000;stroke-width:2.0px;stroke-linecap:butt;stroke-linejoin:miter;stroke-opacity:1;\"/>\n",
       "<path d=\"M 307.9,114.3 L 308.3,114.8 L 309.0,114.7\" style=\"fill:none;stroke:#000000;stroke-width:2.0px;stroke-linecap:butt;stroke-linejoin:miter;stroke-opacity:1;\"/>\n",
       "<path d=\"M 321.2,112.7 L 321.9,112.6 L 322.1,111.9\" style=\"fill:none;stroke:#000000;stroke-width:2.0px;stroke-linecap:butt;stroke-linejoin:miter;stroke-opacity:1;\"/>\n",
       "<path d=\"M 374.3,105.2 L 375.0,105.4 L 375.5,105.0\" style=\"fill:none;stroke:#000000;stroke-width:2.0px;stroke-linecap:butt;stroke-linejoin:miter;stroke-opacity:1;\"/>\n",
       "<path d=\"M 385.0,97.1 L 385.6,96.6 L 385.4,96.0\" style=\"fill:none;stroke:#000000;stroke-width:2.0px;stroke-linecap:butt;stroke-linejoin:miter;stroke-opacity:1;\"/>\n",
       "<path d=\"M 383.4,83.8 L 383.3,83.1 L 382.6,82.9\" style=\"fill:none;stroke:#000000;stroke-width:2.0px;stroke-linecap:butt;stroke-linejoin:miter;stroke-opacity:1;\"/>\n",
       "<path d=\"M 371.0,78.6 L 370.4,78.3 L 369.9,78.8\" style=\"fill:none;stroke:#000000;stroke-width:2.0px;stroke-linecap:butt;stroke-linejoin:miter;stroke-opacity:1;\"/>\n",
       "<path d=\"M 318.3,89.7 L 317.9,89.1 L 317.2,89.2\" style=\"fill:none;stroke:#000000;stroke-width:2.0px;stroke-linecap:butt;stroke-linejoin:miter;stroke-opacity:1;\"/>\n",
       "<path d=\"M 305.0,91.3 L 304.4,91.4 L 304.1,92.1\" style=\"fill:none;stroke:#000000;stroke-width:2.0px;stroke-linecap:butt;stroke-linejoin:miter;stroke-opacity:1;\"/>\n",
       "<path class=\"atom-0\" d=\"M 279.3 119.5 Q 279.3 118.4, 279.8 117.9 Q 280.3 117.3, 281.3 117.3 Q 282.2 117.3, 282.7 117.9 Q 283.2 118.4, 283.2 119.5 Q 283.2 120.5, 282.7 121.1 Q 282.2 121.7, 281.3 121.7 Q 280.3 121.7, 279.8 121.1 Q 279.3 120.5, 279.3 119.5 M 281.3 121.2 Q 281.9 121.2, 282.3 120.7 Q 282.6 120.3, 282.6 119.5 Q 282.6 118.6, 282.3 118.2 Q 281.9 117.8, 281.3 117.8 Q 280.6 117.8, 280.3 118.2 Q 279.9 118.6, 279.9 119.5 Q 279.9 120.3, 280.3 120.7 Q 280.6 121.2, 281.3 121.2 \" fill=\"#FF0000\"/>\n",
       "<path class=\"atom-2\" d=\"M 276.4 93.9 L 277.8 96.1 Q 277.9 96.4, 278.1 96.8 Q 278.3 97.2, 278.4 97.2 L 278.4 93.9 L 278.9 93.9 L 278.9 98.1 L 278.3 98.1 L 276.8 95.7 Q 276.7 95.4, 276.5 95.1 Q 276.3 94.7, 276.2 94.6 L 276.2 98.1 L 275.7 98.1 L 275.7 93.9 L 276.4 93.9 \" fill=\"#0000FF\"/>\n",
       "<path class=\"atom-2\" d=\"M 279.7 93.9 L 280.3 93.9 L 280.3 95.7 L 282.5 95.7 L 282.5 93.9 L 283.1 93.9 L 283.1 98.1 L 282.5 98.1 L 282.5 96.2 L 280.3 96.2 L 280.3 98.1 L 279.7 98.1 L 279.7 93.9 \" fill=\"#0000FF\"/>\n",
       "<path class=\"atom-3\" d=\"M 262.8 96.2 L 264.2 98.4 Q 264.4 98.7, 264.6 99.1 Q 264.8 99.5, 264.8 99.5 L 264.8 96.2 L 265.4 96.2 L 265.4 100.4 L 264.8 100.4 L 263.3 98.0 Q 263.1 97.7, 263.0 97.4 Q 262.8 97.0, 262.7 96.9 L 262.7 100.4 L 262.2 100.4 L 262.2 96.2 L 262.8 96.2 \" fill=\"#0000FF\"/>\n",
       "<path class=\"atom-16\" d=\"M 349.0 104.9 L 350.4 107.1 Q 350.6 107.3, 350.8 107.7 Q 351.0 108.1, 351.0 108.2 L 351.0 104.9 L 351.6 104.9 L 351.6 109.1 L 351.0 109.1 L 349.5 106.7 Q 349.3 106.4, 349.1 106.0 Q 349.0 105.7, 348.9 105.6 L 348.9 109.1 L 348.4 109.1 L 348.4 104.9 L 349.0 104.9 \" fill=\"#0000FF\"/>\n",
       "<path class=\"atom-23\" d=\"M 345.1 86.6 Q 345.1 86.6, 345.3 86.7 Q 345.5 86.7, 345.7 86.8 Q 345.9 86.8, 346.2 86.8 Q 346.6 86.8, 346.8 86.7 Q 347.0 86.5, 347.0 86.1 Q 347.0 85.9, 346.9 85.7 Q 346.8 85.6, 346.6 85.5 Q 346.4 85.4, 346.1 85.3 Q 345.8 85.2, 345.5 85.1 Q 345.3 85.0, 345.1 84.8 Q 345.0 84.6, 345.0 84.2 Q 345.0 83.6, 345.3 83.3 Q 345.7 83.0, 346.4 83.0 Q 346.9 83.0, 347.5 83.2 L 347.3 83.7 Q 346.8 83.5, 346.4 83.5 Q 346.0 83.5, 345.8 83.6 Q 345.6 83.8, 345.6 84.1 Q 345.6 84.3, 345.7 84.5 Q 345.8 84.6, 346.0 84.7 Q 346.2 84.8, 346.4 84.9 Q 346.8 85.0, 347.1 85.1 Q 347.3 85.2, 347.5 85.5 Q 347.6 85.7, 347.6 86.1 Q 347.6 86.7, 347.2 87.0 Q 346.8 87.3, 346.2 87.3 Q 345.8 87.3, 345.5 87.2 Q 345.2 87.2, 344.9 87.0 L 345.1 86.6 \" fill=\"#CCCC00\"/>\n",
       "<path class=\"bond-0 atom-0 atom-1\" d=\"M 460.1,99.9 L 456.4,103.8\" style=\"fill:none;fill-rule:evenodd;stroke:#FF0000;stroke-width:2.0px;stroke-linecap:butt;stroke-linejoin:miter;stroke-opacity:1\"/>\n",
       "<path class=\"bond-0 atom-0 atom-1\" d=\"M 456.4,103.8 L 452.7,107.7\" style=\"fill:none;fill-rule:evenodd;stroke:#000000;stroke-width:2.0px;stroke-linecap:butt;stroke-linejoin:miter;stroke-opacity:1\"/>\n",
       "<path class=\"bond-0 atom-0 atom-1\" d=\"M 458.6,98.4 L 454.9,102.4\" style=\"fill:none;fill-rule:evenodd;stroke:#FF0000;stroke-width:2.0px;stroke-linecap:butt;stroke-linejoin:miter;stroke-opacity:1\"/>\n",
       "<path class=\"bond-0 atom-0 atom-1\" d=\"M 454.9,102.4 L 451.2,106.3\" style=\"fill:none;fill-rule:evenodd;stroke:#000000;stroke-width:2.0px;stroke-linecap:butt;stroke-linejoin:miter;stroke-opacity:1\"/>\n",
       "<path class=\"bond-1 atom-1 atom-2\" d=\"M 452.3,106.6 L 456.3,119.7\" style=\"fill:none;fill-rule:evenodd;stroke:#000000;stroke-width:2.0px;stroke-linecap:butt;stroke-linejoin:miter;stroke-opacity:1\"/>\n",
       "<path class=\"bond-2 atom-2 atom-3\" d=\"M 456.3,119.7 L 461.9,121.1\" style=\"fill:none;fill-rule:evenodd;stroke:#000000;stroke-width:2.0px;stroke-linecap:butt;stroke-linejoin:miter;stroke-opacity:1\"/>\n",
       "<path class=\"bond-2 atom-2 atom-3\" d=\"M 461.9,121.1 L 467.5,122.4\" style=\"fill:none;fill-rule:evenodd;stroke:#0000FF;stroke-width:2.0px;stroke-linecap:butt;stroke-linejoin:miter;stroke-opacity:1\"/>\n",
       "<path class=\"bond-3 atom-3 atom-4\" d=\"M 471.7,121.1 L 475.8,117.6\" style=\"fill:none;fill-rule:evenodd;stroke:#0000FF;stroke-width:2.0px;stroke-linecap:butt;stroke-linejoin:miter;stroke-opacity:1\"/>\n",
       "<path class=\"bond-3 atom-3 atom-4\" d=\"M 475.8,117.6 L 480.0,114.0\" style=\"fill:none;fill-rule:evenodd;stroke:#000000;stroke-width:2.0px;stroke-linecap:butt;stroke-linejoin:miter;stroke-opacity:1\"/>\n",
       "<path class=\"bond-4 atom-4 atom-5\" d=\"M 480.0,114.0 L 491.7,121.1\" style=\"fill:none;fill-rule:evenodd;stroke:#000000;stroke-width:2.0px;stroke-linecap:butt;stroke-linejoin:miter;stroke-opacity:1\"/>\n",
       "<path class=\"bond-4 atom-4 atom-5\" d=\"M 480.2,116.5 L 489.4,122.1\" style=\"fill:none;fill-rule:evenodd;stroke:#000000;stroke-width:2.0px;stroke-linecap:butt;stroke-linejoin:miter;stroke-opacity:1\"/>\n",
       "<path class=\"bond-5 atom-5 atom-6\" d=\"M 491.7,121.1 L 504.4,115.9\" style=\"fill:none;fill-rule:evenodd;stroke:#000000;stroke-width:2.0px;stroke-linecap:butt;stroke-linejoin:miter;stroke-opacity:1\"/>\n",
       "<path class=\"bond-6 atom-6 atom-7\" d=\"M 504.4,115.9 L 508.7,119.1\" style=\"fill:none;fill-rule:evenodd;stroke:#000000;stroke-width:2.0px;stroke-linecap:butt;stroke-linejoin:miter;stroke-opacity:1\"/>\n",
       "<path class=\"bond-6 atom-6 atom-7\" d=\"M 508.7,119.1 L 512.9,122.4\" style=\"fill:none;fill-rule:evenodd;stroke:#FF0000;stroke-width:2.0px;stroke-linecap:butt;stroke-linejoin:miter;stroke-opacity:1\"/>\n",
       "<path class=\"bond-7 atom-7 atom-8\" d=\"M 517.7,123.2 L 522.8,121.1\" style=\"fill:none;fill-rule:evenodd;stroke:#FF0000;stroke-width:2.0px;stroke-linecap:butt;stroke-linejoin:miter;stroke-opacity:1\"/>\n",
       "<path class=\"bond-7 atom-7 atom-8\" d=\"M 522.8,121.1 L 528.0,118.9\" style=\"fill:none;fill-rule:evenodd;stroke:#000000;stroke-width:2.0px;stroke-linecap:butt;stroke-linejoin:miter;stroke-opacity:1\"/>\n",
       "<path class=\"bond-8 atom-8 atom-9\" d=\"M 528.0,118.9 L 538.9,127.3\" style=\"fill:none;fill-rule:evenodd;stroke:#000000;stroke-width:2.0px;stroke-linecap:butt;stroke-linejoin:miter;stroke-opacity:1\"/>\n",
       "<path class=\"bond-8 atom-8 atom-9\" d=\"M 530.2,118.0 L 539.2,124.9\" style=\"fill:none;fill-rule:evenodd;stroke:#000000;stroke-width:2.0px;stroke-linecap:butt;stroke-linejoin:miter;stroke-opacity:1\"/>\n",
       "<path class=\"bond-9 atom-9 atom-10\" d=\"M 538.9,127.3 L 551.5,122.0\" style=\"fill:none;fill-rule:evenodd;stroke:#000000;stroke-width:2.0px;stroke-linecap:butt;stroke-linejoin:miter;stroke-opacity:1\"/>\n",
       "<path class=\"bond-10 atom-10 atom-11\" d=\"M 551.5,122.0 L 553.3,108.4\" style=\"fill:none;fill-rule:evenodd;stroke:#000000;stroke-width:2.0px;stroke-linecap:butt;stroke-linejoin:miter;stroke-opacity:1\"/>\n",
       "<path class=\"bond-10 atom-10 atom-11\" d=\"M 549.6,120.5 L 551.1,109.3\" style=\"fill:none;fill-rule:evenodd;stroke:#000000;stroke-width:2.0px;stroke-linecap:butt;stroke-linejoin:miter;stroke-opacity:1\"/>\n",
       "<path class=\"bond-11 atom-11 atom-12\" d=\"M 553.3,108.4 L 566.0,103.1\" style=\"fill:none;fill-rule:evenodd;stroke:#000000;stroke-width:2.0px;stroke-linecap:butt;stroke-linejoin:miter;stroke-opacity:1\"/>\n",
       "<path class=\"bond-12 atom-12 atom-13\" d=\"M 564.9,103.6 L 569.4,107.0\" style=\"fill:none;fill-rule:evenodd;stroke:#000000;stroke-width:2.0px;stroke-linecap:butt;stroke-linejoin:miter;stroke-opacity:1\"/>\n",
       "<path class=\"bond-12 atom-12 atom-13\" d=\"M 569.4,107.0 L 573.8,110.4\" style=\"fill:none;fill-rule:evenodd;stroke:#FF0000;stroke-width:2.0px;stroke-linecap:butt;stroke-linejoin:miter;stroke-opacity:1\"/>\n",
       "<path class=\"bond-12 atom-12 atom-13\" d=\"M 566.1,101.9 L 570.6,105.4\" style=\"fill:none;fill-rule:evenodd;stroke:#000000;stroke-width:2.0px;stroke-linecap:butt;stroke-linejoin:miter;stroke-opacity:1\"/>\n",
       "<path class=\"bond-12 atom-12 atom-13\" d=\"M 570.6,105.4 L 575.1,108.8\" style=\"fill:none;fill-rule:evenodd;stroke:#FF0000;stroke-width:2.0px;stroke-linecap:butt;stroke-linejoin:miter;stroke-opacity:1\"/>\n",
       "<path class=\"bond-13 atom-12 atom-14\" d=\"M 566.0,103.1 L 567.7,89.5\" style=\"fill:none;fill-rule:evenodd;stroke:#000000;stroke-width:2.0px;stroke-linecap:butt;stroke-linejoin:miter;stroke-opacity:1\"/>\n",
       "<path class=\"bond-14 atom-14 atom-15\" d=\"M 567.7,89.5 L 580.4,84.2\" style=\"fill:none;fill-rule:evenodd;stroke:#000000;stroke-width:2.0px;stroke-linecap:butt;stroke-linejoin:miter;stroke-opacity:1\"/>\n",
       "<path class=\"bond-14 atom-14 atom-15\" d=\"M 568.1,87.2 L 578.5,82.8\" style=\"fill:none;fill-rule:evenodd;stroke:#000000;stroke-width:2.0px;stroke-linecap:butt;stroke-linejoin:miter;stroke-opacity:1\"/>\n",
       "<path class=\"bond-15 atom-15 atom-16\" d=\"M 580.4,84.2 L 582.2,70.6\" style=\"fill:none;fill-rule:evenodd;stroke:#000000;stroke-width:2.0px;stroke-linecap:butt;stroke-linejoin:miter;stroke-opacity:1\"/>\n",
       "<path class=\"bond-16 atom-16 atom-17\" d=\"M 582.2,70.6 L 571.3,62.3\" style=\"fill:none;fill-rule:evenodd;stroke:#000000;stroke-width:2.0px;stroke-linecap:butt;stroke-linejoin:miter;stroke-opacity:1\"/>\n",
       "<path class=\"bond-16 atom-16 atom-17\" d=\"M 580.0,71.5 L 571.0,64.7\" style=\"fill:none;fill-rule:evenodd;stroke:#000000;stroke-width:2.0px;stroke-linecap:butt;stroke-linejoin:miter;stroke-opacity:1\"/>\n",
       "<path class=\"bond-17 atom-17 atom-18\" d=\"M 571.3,62.3 L 558.6,67.6\" style=\"fill:none;fill-rule:evenodd;stroke:#000000;stroke-width:2.0px;stroke-linecap:butt;stroke-linejoin:miter;stroke-opacity:1\"/>\n",
       "<path class=\"bond-18 atom-18 atom-19\" d=\"M 558.6,67.6 L 556.8,81.2\" style=\"fill:none;fill-rule:evenodd;stroke:#000000;stroke-width:2.0px;stroke-linecap:butt;stroke-linejoin:miter;stroke-opacity:1\"/>\n",
       "<path class=\"bond-18 atom-18 atom-19\" d=\"M 560.5,69.0 L 559.0,80.3\" style=\"fill:none;fill-rule:evenodd;stroke:#000000;stroke-width:2.0px;stroke-linecap:butt;stroke-linejoin:miter;stroke-opacity:1\"/>\n",
       "<path class=\"bond-19 atom-19 atom-20\" d=\"M 556.8,81.2 L 551.7,83.3\" style=\"fill:none;fill-rule:evenodd;stroke:#000000;stroke-width:2.0px;stroke-linecap:butt;stroke-linejoin:miter;stroke-opacity:1\"/>\n",
       "<path class=\"bond-19 atom-19 atom-20\" d=\"M 551.7,83.3 L 546.6,85.4\" style=\"fill:none;fill-rule:evenodd;stroke:#FF0000;stroke-width:2.0px;stroke-linecap:butt;stroke-linejoin:miter;stroke-opacity:1\"/>\n",
       "<path class=\"bond-20 atom-20 atom-21\" d=\"M 543.8,89.1 L 543.1,94.6\" style=\"fill:none;fill-rule:evenodd;stroke:#FF0000;stroke-width:2.0px;stroke-linecap:butt;stroke-linejoin:miter;stroke-opacity:1\"/>\n",
       "<path class=\"bond-20 atom-20 atom-21\" d=\"M 543.1,94.6 L 542.4,100.1\" style=\"fill:none;fill-rule:evenodd;stroke:#000000;stroke-width:2.0px;stroke-linecap:butt;stroke-linejoin:miter;stroke-opacity:1\"/>\n",
       "<path class=\"bond-21 atom-21 atom-22\" d=\"M 542.4,100.1 L 529.7,105.3\" style=\"fill:none;fill-rule:evenodd;stroke:#000000;stroke-width:2.0px;stroke-linecap:butt;stroke-linejoin:miter;stroke-opacity:1\"/>\n",
       "<path class=\"bond-21 atom-21 atom-22\" d=\"M 542.1,102.4 L 531.6,106.8\" style=\"fill:none;fill-rule:evenodd;stroke:#000000;stroke-width:2.0px;stroke-linecap:butt;stroke-linejoin:miter;stroke-opacity:1\"/>\n",
       "<path class=\"bond-22 atom-5 atom-23\" d=\"M 491.7,121.1 L 490.5,126.5\" style=\"fill:none;fill-rule:evenodd;stroke:#000000;stroke-width:2.0px;stroke-linecap:butt;stroke-linejoin:miter;stroke-opacity:1\"/>\n",
       "<path class=\"bond-22 atom-5 atom-23\" d=\"M 490.5,126.5 L 489.2,131.9\" style=\"fill:none;fill-rule:evenodd;stroke:#0000FF;stroke-width:2.0px;stroke-linecap:butt;stroke-linejoin:miter;stroke-opacity:1\"/>\n",
       "<path class=\"bond-23 atom-23 atom-24\" d=\"M 486.5,134.6 L 476.9,135.4\" style=\"fill:none;fill-rule:evenodd;stroke:#0000FF;stroke-width:2.0px;stroke-linecap:butt;stroke-linejoin:miter;stroke-opacity:1\"/>\n",
       "<path class=\"bond-23 atom-23 atom-24\" d=\"M 486.3,132.6 L 476.8,133.4\" style=\"fill:none;fill-rule:evenodd;stroke:#0000FF;stroke-width:2.0px;stroke-linecap:butt;stroke-linejoin:miter;stroke-opacity:1\"/>\n",
       "<path class=\"bond-24 atom-1 atom-25\" d=\"M 452.3,106.6 L 446.7,105.2\" style=\"fill:none;fill-rule:evenodd;stroke:#000000;stroke-width:2.0px;stroke-linecap:butt;stroke-linejoin:miter;stroke-opacity:1\"/>\n",
       "<path class=\"bond-24 atom-1 atom-25\" d=\"M 446.7,105.2 L 441.1,103.9\" style=\"fill:none;fill-rule:evenodd;stroke:#0000FF;stroke-width:2.0px;stroke-linecap:butt;stroke-linejoin:miter;stroke-opacity:1\"/>\n",
       "<path class=\"bond-25 atom-25 atom-26\" d=\"M 438.2,100.8 L 436.7,95.5\" style=\"fill:none;fill-rule:evenodd;stroke:#0000FF;stroke-width:2.0px;stroke-linecap:butt;stroke-linejoin:miter;stroke-opacity:1\"/>\n",
       "<path class=\"bond-25 atom-25 atom-26\" d=\"M 436.7,95.5 L 435.1,90.2\" style=\"fill:none;fill-rule:evenodd;stroke:#000000;stroke-width:2.0px;stroke-linecap:butt;stroke-linejoin:miter;stroke-opacity:1\"/>\n",
       "<path class=\"bond-26 atom-26 atom-27\" d=\"M 435.1,90.2 L 444.5,80.3\" style=\"fill:none;fill-rule:evenodd;stroke:#000000;stroke-width:2.0px;stroke-linecap:butt;stroke-linejoin:miter;stroke-opacity:1\"/>\n",
       "<path class=\"bond-26 atom-26 atom-27\" d=\"M 434.4,88.0 L 442.2,79.7\" style=\"fill:none;fill-rule:evenodd;stroke:#000000;stroke-width:2.0px;stroke-linecap:butt;stroke-linejoin:miter;stroke-opacity:1\"/>\n",
       "<path class=\"bond-27 atom-27 atom-28\" d=\"M 444.5,80.3 L 440.6,67.1\" style=\"fill:none;fill-rule:evenodd;stroke:#000000;stroke-width:2.0px;stroke-linecap:butt;stroke-linejoin:miter;stroke-opacity:1\"/>\n",
       "<path class=\"bond-28 atom-28 atom-29\" d=\"M 440.6,67.1 L 427.2,63.9\" style=\"fill:none;fill-rule:evenodd;stroke:#000000;stroke-width:2.0px;stroke-linecap:butt;stroke-linejoin:miter;stroke-opacity:1\"/>\n",
       "<path class=\"bond-28 atom-28 atom-29\" d=\"M 439.0,68.9 L 427.9,66.2\" style=\"fill:none;fill-rule:evenodd;stroke:#000000;stroke-width:2.0px;stroke-linecap:butt;stroke-linejoin:miter;stroke-opacity:1\"/>\n",
       "<path class=\"bond-29 atom-29 atom-30\" d=\"M 427.2,63.9 L 417.8,73.9\" style=\"fill:none;fill-rule:evenodd;stroke:#000000;stroke-width:2.0px;stroke-linecap:butt;stroke-linejoin:miter;stroke-opacity:1\"/>\n",
       "<path class=\"bond-30 atom-30 atom-31\" d=\"M 417.8,73.9 L 421.7,87.1\" style=\"fill:none;fill-rule:evenodd;stroke:#000000;stroke-width:2.0px;stroke-linecap:butt;stroke-linejoin:miter;stroke-opacity:1\"/>\n",
       "<path class=\"bond-30 atom-30 atom-31\" d=\"M 420.1,74.5 L 423.4,85.3\" style=\"fill:none;fill-rule:evenodd;stroke:#000000;stroke-width:2.0px;stroke-linecap:butt;stroke-linejoin:miter;stroke-opacity:1\"/>\n",
       "<path class=\"bond-31 atom-24 atom-3\" d=\"M 473.8,133.0 L 470.7,125.5\" style=\"fill:none;fill-rule:evenodd;stroke:#0000FF;stroke-width:2.0px;stroke-linecap:butt;stroke-linejoin:miter;stroke-opacity:1\"/>\n",
       "<path class=\"bond-32 atom-31 atom-26\" d=\"M 421.7,87.1 L 435.1,90.2\" style=\"fill:none;fill-rule:evenodd;stroke:#000000;stroke-width:2.0px;stroke-linecap:butt;stroke-linejoin:miter;stroke-opacity:1\"/>\n",
       "<path class=\"bond-33 atom-22 atom-8\" d=\"M 529.7,105.3 L 528.0,118.9\" style=\"fill:none;fill-rule:evenodd;stroke:#000000;stroke-width:2.0px;stroke-linecap:butt;stroke-linejoin:miter;stroke-opacity:1\"/>\n",
       "<path class=\"bond-34 atom-21 atom-11\" d=\"M 542.4,100.1 L 553.3,108.4\" style=\"fill:none;fill-rule:evenodd;stroke:#000000;stroke-width:2.0px;stroke-linecap:butt;stroke-linejoin:miter;stroke-opacity:1\"/>\n",
       "<path class=\"bond-35 atom-19 atom-14\" d=\"M 556.8,81.2 L 567.7,89.5\" style=\"fill:none;fill-rule:evenodd;stroke:#000000;stroke-width:2.0px;stroke-linecap:butt;stroke-linejoin:miter;stroke-opacity:1\"/>\n",
       "<path d=\"M 452.5,107.2 L 452.3,106.6 L 452.1,106.5\" style=\"fill:none;stroke:#000000;stroke-width:2.0px;stroke-linecap:butt;stroke-linejoin:miter;stroke-opacity:1;\"/>\n",
       "<path d=\"M 456.1,119.1 L 456.3,119.7 L 456.5,119.8\" style=\"fill:none;stroke:#000000;stroke-width:2.0px;stroke-linecap:butt;stroke-linejoin:miter;stroke-opacity:1;\"/>\n",
       "<path d=\"M 479.8,114.2 L 480.0,114.0 L 480.6,114.3\" style=\"fill:none;stroke:#000000;stroke-width:2.0px;stroke-linecap:butt;stroke-linejoin:miter;stroke-opacity:1;\"/>\n",
       "<path d=\"M 503.8,116.1 L 504.4,115.9 L 504.6,116.0\" style=\"fill:none;stroke:#000000;stroke-width:2.0px;stroke-linecap:butt;stroke-linejoin:miter;stroke-opacity:1;\"/>\n",
       "<path d=\"M 538.3,126.8 L 538.9,127.3 L 539.5,127.0\" style=\"fill:none;stroke:#000000;stroke-width:2.0px;stroke-linecap:butt;stroke-linejoin:miter;stroke-opacity:1;\"/>\n",
       "<path d=\"M 550.9,122.3 L 551.5,122.0 L 551.6,121.3\" style=\"fill:none;stroke:#000000;stroke-width:2.0px;stroke-linecap:butt;stroke-linejoin:miter;stroke-opacity:1;\"/>\n",
       "<path d=\"M 565.3,103.4 L 566.0,103.1 L 566.1,102.4\" style=\"fill:none;stroke:#000000;stroke-width:2.0px;stroke-linecap:butt;stroke-linejoin:miter;stroke-opacity:1;\"/>\n",
       "<path d=\"M 579.8,84.5 L 580.4,84.2 L 580.5,83.6\" style=\"fill:none;stroke:#000000;stroke-width:2.0px;stroke-linecap:butt;stroke-linejoin:miter;stroke-opacity:1;\"/>\n",
       "<path d=\"M 582.1,71.3 L 582.2,70.6 L 581.6,70.2\" style=\"fill:none;stroke:#000000;stroke-width:2.0px;stroke-linecap:butt;stroke-linejoin:miter;stroke-opacity:1;\"/>\n",
       "<path d=\"M 571.8,62.7 L 571.3,62.3 L 570.6,62.6\" style=\"fill:none;stroke:#000000;stroke-width:2.0px;stroke-linecap:butt;stroke-linejoin:miter;stroke-opacity:1;\"/>\n",
       "<path d=\"M 559.2,67.3 L 558.6,67.6 L 558.5,68.3\" style=\"fill:none;stroke:#000000;stroke-width:2.0px;stroke-linecap:butt;stroke-linejoin:miter;stroke-opacity:1;\"/>\n",
       "<path d=\"M 530.4,105.1 L 529.7,105.3 L 529.7,106.0\" style=\"fill:none;stroke:#000000;stroke-width:2.0px;stroke-linecap:butt;stroke-linejoin:miter;stroke-opacity:1;\"/>\n",
       "<path d=\"M 444.0,80.8 L 444.5,80.3 L 444.3,79.6\" style=\"fill:none;stroke:#000000;stroke-width:2.0px;stroke-linecap:butt;stroke-linejoin:miter;stroke-opacity:1;\"/>\n",
       "<path d=\"M 440.8,67.8 L 440.6,67.1 L 439.9,67.0\" style=\"fill:none;stroke:#000000;stroke-width:2.0px;stroke-linecap:butt;stroke-linejoin:miter;stroke-opacity:1;\"/>\n",
       "<path d=\"M 427.9,64.1 L 427.2,63.9 L 426.8,64.4\" style=\"fill:none;stroke:#000000;stroke-width:2.0px;stroke-linecap:butt;stroke-linejoin:miter;stroke-opacity:1;\"/>\n",
       "<path d=\"M 418.3,73.4 L 417.8,73.9 L 418.0,74.6\" style=\"fill:none;stroke:#000000;stroke-width:2.0px;stroke-linecap:butt;stroke-linejoin:miter;stroke-opacity:1;\"/>\n",
       "<path d=\"M 421.5,86.4 L 421.7,87.1 L 422.4,87.2\" style=\"fill:none;stroke:#000000;stroke-width:2.0px;stroke-linecap:butt;stroke-linejoin:miter;stroke-opacity:1;\"/>\n",
       "<path class=\"atom-0\" d=\"M 459.8 96.6 Q 459.8 95.6, 460.3 95.0 Q 460.8 94.5, 461.8 94.5 Q 462.7 94.5, 463.2 95.0 Q 463.7 95.6, 463.7 96.6 Q 463.7 97.7, 463.2 98.2 Q 462.7 98.8, 461.8 98.8 Q 460.8 98.8, 460.3 98.2 Q 459.8 97.7, 459.8 96.6 M 461.8 98.3 Q 462.4 98.3, 462.8 97.9 Q 463.1 97.5, 463.1 96.6 Q 463.1 95.8, 462.8 95.4 Q 462.4 94.9, 461.8 94.9 Q 461.1 94.9, 460.8 95.4 Q 460.4 95.8, 460.4 96.6 Q 460.4 97.5, 460.8 97.9 Q 461.1 98.3, 461.8 98.3 \" fill=\"#FF0000\"/>\n",
       "<path class=\"atom-3\" d=\"M 468.7 120.8 L 470.1 123.0 Q 470.2 123.3, 470.4 123.7 Q 470.6 124.1, 470.7 124.1 L 470.7 120.8 L 471.2 120.8 L 471.2 125.0 L 470.6 125.0 L 469.1 122.6 Q 469.0 122.3, 468.8 122.0 Q 468.6 121.6, 468.5 121.5 L 468.5 125.0 L 468.0 125.0 L 468.0 120.8 L 468.7 120.8 \" fill=\"#0000FF\"/>\n",
       "<path class=\"atom-7\" d=\"M 513.4 124.2 Q 513.4 123.2, 513.9 122.6 Q 514.4 122.0, 515.3 122.0 Q 516.2 122.0, 516.7 122.6 Q 517.3 123.2, 517.3 124.2 Q 517.3 125.2, 516.7 125.8 Q 516.2 126.4, 515.3 126.4 Q 514.4 126.4, 513.9 125.8 Q 513.4 125.2, 513.4 124.2 M 515.3 125.9 Q 516.0 125.9, 516.3 125.5 Q 516.7 125.1, 516.7 124.2 Q 516.7 123.4, 516.3 123.0 Q 516.0 122.5, 515.3 122.5 Q 514.7 122.5, 514.3 122.9 Q 514.0 123.4, 514.0 124.2 Q 514.0 125.1, 514.3 125.5 Q 514.7 125.9, 515.3 125.9 \" fill=\"#FF0000\"/>\n",
       "<path class=\"atom-13\" d=\"M 574.9 111.5 Q 574.9 110.4, 575.4 109.9 Q 575.9 109.3, 576.9 109.3 Q 577.8 109.3, 578.3 109.9 Q 578.8 110.4, 578.8 111.5 Q 578.8 112.5, 578.3 113.1 Q 577.8 113.7, 576.9 113.7 Q 575.9 113.7, 575.4 113.1 Q 574.9 112.5, 574.9 111.5 M 576.9 113.2 Q 577.5 113.2, 577.9 112.8 Q 578.2 112.3, 578.2 111.5 Q 578.2 110.6, 577.9 110.2 Q 577.5 109.8, 576.9 109.8 Q 576.2 109.8, 575.9 110.2 Q 575.5 110.6, 575.5 111.5 Q 575.5 112.3, 575.9 112.8 Q 576.2 113.2, 576.9 113.2 \" fill=\"#FF0000\"/>\n",
       "<path class=\"atom-20\" d=\"M 542.2 86.5 Q 542.2 85.4, 542.7 84.9 Q 543.2 84.3, 544.2 84.3 Q 545.1 84.3, 545.6 84.9 Q 546.1 85.4, 546.1 86.5 Q 546.1 87.5, 545.6 88.1 Q 545.1 88.7, 544.2 88.7 Q 543.2 88.7, 542.7 88.1 Q 542.2 87.5, 542.2 86.5 M 544.2 88.2 Q 544.8 88.2, 545.2 87.7 Q 545.5 87.3, 545.5 86.5 Q 545.5 85.6, 545.2 85.2 Q 544.8 84.8, 544.2 84.8 Q 543.5 84.8, 543.2 85.2 Q 542.8 85.6, 542.8 86.5 Q 542.8 87.3, 543.2 87.7 Q 543.5 88.2, 544.2 88.2 \" fill=\"#FF0000\"/>\n",
       "<path class=\"atom-23\" d=\"M 487.6 132.4 L 489.0 134.6 Q 489.1 134.8, 489.4 135.2 Q 489.6 135.6, 489.6 135.7 L 489.6 132.4 L 490.2 132.4 L 490.2 136.6 L 489.6 136.6 L 488.1 134.1 Q 487.9 133.9, 487.7 133.5 Q 487.5 133.2, 487.5 133.1 L 487.5 136.6 L 486.9 136.6 L 486.9 132.4 L 487.6 132.4 \" fill=\"#0000FF\"/>\n",
       "<path class=\"atom-24\" d=\"M 473.9 133.5 L 475.3 135.7 Q 475.5 135.9, 475.7 136.3 Q 475.9 136.7, 475.9 136.8 L 475.9 133.5 L 476.5 133.5 L 476.5 137.7 L 475.9 137.7 L 474.4 135.2 Q 474.2 135.0, 474.1 134.6 Q 473.9 134.3, 473.8 134.2 L 473.8 137.7 L 473.3 137.7 L 473.3 133.5 L 473.9 133.5 \" fill=\"#0000FF\"/>\n",
       "<path class=\"atom-25\" d=\"M 433.2 101.3 L 433.8 101.3 L 433.8 103.1 L 436.0 103.1 L 436.0 101.3 L 436.6 101.3 L 436.6 105.5 L 436.0 105.5 L 436.0 103.6 L 433.8 103.6 L 433.8 105.5 L 433.2 105.5 L 433.2 101.3 \" fill=\"#0000FF\"/>\n",
       "<path class=\"atom-25\" d=\"M 438.1 101.3 L 439.5 103.5 Q 439.6 103.7, 439.8 104.1 Q 440.0 104.5, 440.0 104.6 L 440.0 101.3 L 440.6 101.3 L 440.6 105.5 L 440.0 105.5 L 438.5 103.1 Q 438.4 102.8, 438.2 102.4 Q 438.0 102.1, 437.9 102.0 L 437.9 105.5 L 437.4 105.5 L 437.4 101.3 L 438.1 101.3 \" fill=\"#0000FF\"/>\n",
       "<path class=\"bond-0 atom-0 atom-1\" d=\"M 716.6,100.0 L 709.7,111.9\" style=\"fill:none;fill-rule:evenodd;stroke:#000000;stroke-width:2.0px;stroke-linecap:butt;stroke-linejoin:miter;stroke-opacity:1\"/>\n",
       "<path class=\"bond-1 atom-1 atom-2\" d=\"M 709.7,111.9 L 696.0,111.9\" style=\"fill:none;fill-rule:evenodd;stroke:#000000;stroke-width:2.0px;stroke-linecap:butt;stroke-linejoin:miter;stroke-opacity:1\"/>\n",
       "<path class=\"bond-2 atom-2 atom-3\" d=\"M 696.0,111.9 L 693.3,107.2\" style=\"fill:none;fill-rule:evenodd;stroke:#000000;stroke-width:2.0px;stroke-linecap:butt;stroke-linejoin:miter;stroke-opacity:1\"/>\n",
       "<path class=\"bond-2 atom-2 atom-3\" d=\"M 693.3,107.2 L 690.7,102.6\" style=\"fill:none;fill-rule:evenodd;stroke:#0000FF;stroke-width:2.0px;stroke-linecap:butt;stroke-linejoin:miter;stroke-opacity:1\"/>\n",
       "<path class=\"bond-3 atom-3 atom-4\" d=\"M 690.7,97.4 L 693.3,92.8\" style=\"fill:none;fill-rule:evenodd;stroke:#0000FF;stroke-width:2.0px;stroke-linecap:butt;stroke-linejoin:miter;stroke-opacity:1\"/>\n",
       "<path class=\"bond-3 atom-3 atom-4\" d=\"M 693.3,92.8 L 696.0,88.1\" style=\"fill:none;fill-rule:evenodd;stroke:#000000;stroke-width:2.0px;stroke-linecap:butt;stroke-linejoin:miter;stroke-opacity:1\"/>\n",
       "<path class=\"bond-4 atom-4 atom-5\" d=\"M 696.0,88.1 L 709.7,88.1\" style=\"fill:none;fill-rule:evenodd;stroke:#000000;stroke-width:2.0px;stroke-linecap:butt;stroke-linejoin:miter;stroke-opacity:1\"/>\n",
       "<path class=\"bond-5 atom-5 atom-0\" d=\"M 709.7,88.1 L 716.6,100.0\" style=\"fill:none;fill-rule:evenodd;stroke:#000000;stroke-width:2.0px;stroke-linecap:butt;stroke-linejoin:miter;stroke-opacity:1\"/>\n",
       "<path d=\"M 716.3,100.6 L 716.6,100.0 L 716.3,99.4\" style=\"fill:none;stroke:#000000;stroke-width:2.0px;stroke-linecap:butt;stroke-linejoin:miter;stroke-opacity:1;\"/>\n",
       "<path d=\"M 710.1,111.3 L 709.7,111.9 L 709.1,111.9\" style=\"fill:none;stroke:#000000;stroke-width:2.0px;stroke-linecap:butt;stroke-linejoin:miter;stroke-opacity:1;\"/>\n",
       "<path d=\"M 696.7,111.9 L 696.0,111.9 L 695.9,111.6\" style=\"fill:none;stroke:#000000;stroke-width:2.0px;stroke-linecap:butt;stroke-linejoin:miter;stroke-opacity:1;\"/>\n",
       "<path d=\"M 695.9,88.4 L 696.0,88.1 L 696.7,88.1\" style=\"fill:none;stroke:#000000;stroke-width:2.0px;stroke-linecap:butt;stroke-linejoin:miter;stroke-opacity:1;\"/>\n",
       "<path d=\"M 709.1,88.1 L 709.7,88.1 L 710.1,88.7\" style=\"fill:none;stroke:#000000;stroke-width:2.0px;stroke-linecap:butt;stroke-linejoin:miter;stroke-opacity:1;\"/>\n",
       "<path class=\"atom-3\" d=\"M 683.4 97.9 L 684.0 97.9 L 684.0 99.7 L 686.1 99.7 L 686.1 97.9 L 686.7 97.9 L 686.7 102.1 L 686.1 102.1 L 686.1 100.2 L 684.0 100.2 L 684.0 102.1 L 683.4 102.1 L 683.4 97.9 \" fill=\"#0000FF\"/>\n",
       "<path class=\"atom-3\" d=\"M 688.2 97.9 L 689.6 100.1 Q 689.8 100.3, 690.0 100.8 Q 690.2 101.2, 690.2 101.2 L 690.2 97.9 L 690.8 97.9 L 690.8 102.1 L 690.2 102.1 L 688.7 99.7 Q 688.5 99.4, 688.3 99.0 Q 688.2 98.7, 688.1 98.6 L 688.1 102.1 L 687.6 102.1 L 687.6 97.9 L 688.2 97.9 \" fill=\"#0000FF\"/>\n",
       "<path class=\"bond-0 atom-0 atom-1\" d=\"M 985.8,100.7 L 976.6,110.8\" style=\"fill:none;fill-rule:evenodd;stroke:#000000;stroke-width:2.0px;stroke-linecap:butt;stroke-linejoin:miter;stroke-opacity:1\"/>\n",
       "<path class=\"bond-0 atom-0 atom-1\" d=\"M 983.5,100.2 L 975.9,108.6\" style=\"fill:none;fill-rule:evenodd;stroke:#000000;stroke-width:2.0px;stroke-linecap:butt;stroke-linejoin:miter;stroke-opacity:1\"/>\n",
       "<path class=\"bond-1 atom-1 atom-2\" d=\"M 976.6,110.8 L 963.2,108.0\" style=\"fill:none;fill-rule:evenodd;stroke:#000000;stroke-width:2.0px;stroke-linecap:butt;stroke-linejoin:miter;stroke-opacity:1\"/>\n",
       "<path class=\"bond-2 atom-2 atom-3\" d=\"M 963.2,108.0 L 959.0,94.9\" style=\"fill:none;fill-rule:evenodd;stroke:#000000;stroke-width:2.0px;stroke-linecap:butt;stroke-linejoin:miter;stroke-opacity:1\"/>\n",
       "<path class=\"bond-2 atom-2 atom-3\" d=\"M 964.8,106.2 L 961.3,95.4\" style=\"fill:none;fill-rule:evenodd;stroke:#000000;stroke-width:2.0px;stroke-linecap:butt;stroke-linejoin:miter;stroke-opacity:1\"/>\n",
       "<path class=\"bond-3 atom-3 atom-4\" d=\"M 959.0,94.9 L 946.4,89.3\" style=\"fill:none;fill-rule:evenodd;stroke:#000000;stroke-width:2.0px;stroke-linecap:butt;stroke-linejoin:miter;stroke-opacity:1\"/>\n",
       "<path class=\"bond-4 atom-4 atom-5\" d=\"M 946.4,89.3 L 934.5,96.2\" style=\"fill:none;fill-rule:evenodd;stroke:#000000;stroke-width:2.0px;stroke-linecap:butt;stroke-linejoin:miter;stroke-opacity:1\"/>\n",
       "<path class=\"bond-5 atom-5 atom-6\" d=\"M 934.5,96.2 L 934.0,101.7\" style=\"fill:none;fill-rule:evenodd;stroke:#000000;stroke-width:2.0px;stroke-linecap:butt;stroke-linejoin:miter;stroke-opacity:1\"/>\n",
       "<path class=\"bond-5 atom-5 atom-6\" d=\"M 934.0,101.7 L 933.4,107.2\" style=\"fill:none;fill-rule:evenodd;stroke:#0000FF;stroke-width:2.0px;stroke-linecap:butt;stroke-linejoin:miter;stroke-opacity:1\"/>\n",
       "<path class=\"bond-5 atom-5 atom-6\" d=\"M 932.3,97.5 L 931.8,102.2\" style=\"fill:none;fill-rule:evenodd;stroke:#000000;stroke-width:2.0px;stroke-linecap:butt;stroke-linejoin:miter;stroke-opacity:1\"/>\n",
       "<path class=\"bond-5 atom-5 atom-6\" d=\"M 931.8,102.2 L 931.3,107.0\" style=\"fill:none;fill-rule:evenodd;stroke:#0000FF;stroke-width:2.0px;stroke-linecap:butt;stroke-linejoin:miter;stroke-opacity:1\"/>\n",
       "<path class=\"bond-6 atom-6 atom-7\" d=\"M 931.0,110.3 L 921.7,112.2\" style=\"fill:none;fill-rule:evenodd;stroke:#0000FF;stroke-width:2.0px;stroke-linecap:butt;stroke-linejoin:miter;stroke-opacity:1\"/>\n",
       "<path class=\"bond-7 atom-7 atom-8\" d=\"M 918.2,110.1 L 915.5,105.4\" style=\"fill:none;fill-rule:evenodd;stroke:#0000FF;stroke-width:2.0px;stroke-linecap:butt;stroke-linejoin:miter;stroke-opacity:1\"/>\n",
       "<path class=\"bond-7 atom-7 atom-8\" d=\"M 915.5,105.4 L 912.8,100.8\" style=\"fill:none;fill-rule:evenodd;stroke:#000000;stroke-width:2.0px;stroke-linecap:butt;stroke-linejoin:miter;stroke-opacity:1\"/>\n",
       "<path class=\"bond-7 atom-7 atom-8\" d=\"M 920.0,109.1 L 917.7,105.1\" style=\"fill:none;fill-rule:evenodd;stroke:#0000FF;stroke-width:2.0px;stroke-linecap:butt;stroke-linejoin:miter;stroke-opacity:1\"/>\n",
       "<path class=\"bond-7 atom-7 atom-8\" d=\"M 917.7,105.1 L 915.4,101.0\" style=\"fill:none;fill-rule:evenodd;stroke:#000000;stroke-width:2.0px;stroke-linecap:butt;stroke-linejoin:miter;stroke-opacity:1\"/>\n",
       "<path class=\"bond-8 atom-8 atom-9\" d=\"M 912.8,100.8 L 899.2,99.3\" style=\"fill:none;fill-rule:evenodd;stroke:#000000;stroke-width:2.0px;stroke-linecap:butt;stroke-linejoin:miter;stroke-opacity:1\"/>\n",
       "<path class=\"bond-9 atom-9 atom-10\" d=\"M 899.2,99.3 L 893.6,86.8\" style=\"fill:none;fill-rule:evenodd;stroke:#000000;stroke-width:2.0px;stroke-linecap:butt;stroke-linejoin:miter;stroke-opacity:1\"/>\n",
       "<path class=\"bond-9 atom-9 atom-10\" d=\"M 896.8,99.1 L 892.2,88.7\" style=\"fill:none;fill-rule:evenodd;stroke:#000000;stroke-width:2.0px;stroke-linecap:butt;stroke-linejoin:miter;stroke-opacity:1\"/>\n",
       "<path class=\"bond-10 atom-10 atom-11\" d=\"M 893.6,86.8 L 880.0,85.3\" style=\"fill:none;fill-rule:evenodd;stroke:#000000;stroke-width:2.0px;stroke-linecap:butt;stroke-linejoin:miter;stroke-opacity:1\"/>\n",
       "<path class=\"bond-11 atom-11 atom-12\" d=\"M 880.0,85.3 L 871.9,96.4\" style=\"fill:none;fill-rule:evenodd;stroke:#000000;stroke-width:2.0px;stroke-linecap:butt;stroke-linejoin:miter;stroke-opacity:1\"/>\n",
       "<path class=\"bond-11 atom-11 atom-12\" d=\"M 880.9,87.5 L 874.3,96.7\" style=\"fill:none;fill-rule:evenodd;stroke:#000000;stroke-width:2.0px;stroke-linecap:butt;stroke-linejoin:miter;stroke-opacity:1\"/>\n",
       "<path class=\"bond-12 atom-12 atom-13\" d=\"M 871.9,96.4 L 858.2,95.0\" style=\"fill:none;fill-rule:evenodd;stroke:#000000;stroke-width:2.0px;stroke-linecap:butt;stroke-linejoin:miter;stroke-opacity:1\"/>\n",
       "<path class=\"bond-13 atom-13 atom-14\" d=\"M 858.2,95.0 L 852.7,82.4\" style=\"fill:none;fill-rule:evenodd;stroke:#000000;stroke-width:2.0px;stroke-linecap:butt;stroke-linejoin:miter;stroke-opacity:1\"/>\n",
       "<path class=\"bond-14 atom-14 atom-15\" d=\"M 852.7,82.4 L 859.6,70.6\" style=\"fill:none;fill-rule:evenodd;stroke:#000000;stroke-width:2.0px;stroke-linecap:butt;stroke-linejoin:miter;stroke-opacity:1\"/>\n",
       "<path class=\"bond-14 atom-14 atom-15\" d=\"M 851.6,80.1 L 857.0,70.8\" style=\"fill:none;fill-rule:evenodd;stroke:#000000;stroke-width:2.0px;stroke-linecap:butt;stroke-linejoin:miter;stroke-opacity:1\"/>\n",
       "<path class=\"bond-15 atom-15 atom-16\" d=\"M 859.6,70.6 L 856.0,66.6\" style=\"fill:none;fill-rule:evenodd;stroke:#000000;stroke-width:2.0px;stroke-linecap:butt;stroke-linejoin:miter;stroke-opacity:1\"/>\n",
       "<path class=\"bond-15 atom-15 atom-16\" d=\"M 856.0,66.6 L 852.4,62.7\" style=\"fill:none;fill-rule:evenodd;stroke:#0000FF;stroke-width:2.0px;stroke-linecap:butt;stroke-linejoin:miter;stroke-opacity:1\"/>\n",
       "<path class=\"bond-16 atom-16 atom-17\" d=\"M 848.3,61.3 L 843.1,63.6\" style=\"fill:none;fill-rule:evenodd;stroke:#0000FF;stroke-width:2.0px;stroke-linecap:butt;stroke-linejoin:miter;stroke-opacity:1\"/>\n",
       "<path class=\"bond-16 atom-16 atom-17\" d=\"M 843.1,63.6 L 837.8,65.9\" style=\"fill:none;fill-rule:evenodd;stroke:#000000;stroke-width:2.0px;stroke-linecap:butt;stroke-linejoin:miter;stroke-opacity:1\"/>\n",
       "<path class=\"bond-17 atom-17 atom-18\" d=\"M 837.8,65.9 L 825.3,60.3\" style=\"fill:none;fill-rule:evenodd;stroke:#000000;stroke-width:2.0px;stroke-linecap:butt;stroke-linejoin:miter;stroke-opacity:1\"/>\n",
       "<path class=\"bond-17 atom-17 atom-18\" d=\"M 835.9,67.3 L 825.6,62.7\" style=\"fill:none;fill-rule:evenodd;stroke:#000000;stroke-width:2.0px;stroke-linecap:butt;stroke-linejoin:miter;stroke-opacity:1\"/>\n",
       "<path class=\"bond-18 atom-18 atom-19\" d=\"M 825.3,60.3 L 814.2,68.4\" style=\"fill:none;fill-rule:evenodd;stroke:#000000;stroke-width:2.0px;stroke-linecap:butt;stroke-linejoin:miter;stroke-opacity:1\"/>\n",
       "<path class=\"bond-19 atom-19 atom-20\" d=\"M 814.2,68.4 L 815.6,82.0\" style=\"fill:none;fill-rule:evenodd;stroke:#000000;stroke-width:2.0px;stroke-linecap:butt;stroke-linejoin:miter;stroke-opacity:1\"/>\n",
       "<path class=\"bond-19 atom-19 atom-20\" d=\"M 816.4,69.4 L 817.5,80.7\" style=\"fill:none;fill-rule:evenodd;stroke:#000000;stroke-width:2.0px;stroke-linecap:butt;stroke-linejoin:miter;stroke-opacity:1\"/>\n",
       "<path class=\"bond-20 atom-20 atom-21\" d=\"M 815.6,82.0 L 828.2,87.6\" style=\"fill:none;fill-rule:evenodd;stroke:#000000;stroke-width:2.0px;stroke-linecap:butt;stroke-linejoin:miter;stroke-opacity:1\"/>\n",
       "<path class=\"bond-21 atom-21 atom-22\" d=\"M 828.2,87.6 L 839.3,79.6\" style=\"fill:none;fill-rule:evenodd;stroke:#000000;stroke-width:2.0px;stroke-linecap:butt;stroke-linejoin:miter;stroke-opacity:1\"/>\n",
       "<path class=\"bond-21 atom-21 atom-22\" d=\"M 827.9,85.3 L 837.1,78.6\" style=\"fill:none;fill-rule:evenodd;stroke:#000000;stroke-width:2.0px;stroke-linecap:butt;stroke-linejoin:miter;stroke-opacity:1\"/>\n",
       "<path class=\"bond-22 atom-13 atom-23\" d=\"M 858.2,95.0 L 850.2,106.1\" style=\"fill:none;fill-rule:evenodd;stroke:#000000;stroke-width:2.0px;stroke-linecap:butt;stroke-linejoin:miter;stroke-opacity:1\"/>\n",
       "<path class=\"bond-23 atom-23 atom-24\" d=\"M 850.2,106.1 L 836.5,106.1\" style=\"fill:none;fill-rule:evenodd;stroke:#000000;stroke-width:2.0px;stroke-linecap:butt;stroke-linejoin:miter;stroke-opacity:1\"/>\n",
       "<path class=\"bond-23 atom-23 atom-24\" d=\"M 848.7,108.1 L 837.9,108.1\" style=\"fill:none;fill-rule:evenodd;stroke:#000000;stroke-width:2.0px;stroke-linecap:butt;stroke-linejoin:miter;stroke-opacity:1\"/>\n",
       "<path class=\"bond-24 atom-24 atom-25\" d=\"M 836.5,106.1 L 834.7,111.3\" style=\"fill:none;fill-rule:evenodd;stroke:#000000;stroke-width:2.0px;stroke-linecap:butt;stroke-linejoin:miter;stroke-opacity:1\"/>\n",
       "<path class=\"bond-24 atom-24 atom-25\" d=\"M 834.7,111.3 L 833.0,116.5\" style=\"fill:none;fill-rule:evenodd;stroke:#0000FF;stroke-width:2.0px;stroke-linecap:butt;stroke-linejoin:miter;stroke-opacity:1\"/>\n",
       "<path class=\"bond-25 atom-25 atom-26\" d=\"M 834.3,120.6 L 838.8,123.9\" style=\"fill:none;fill-rule:evenodd;stroke:#0000FF;stroke-width:2.0px;stroke-linecap:butt;stroke-linejoin:miter;stroke-opacity:1\"/>\n",
       "<path class=\"bond-25 atom-25 atom-26\" d=\"M 838.8,123.9 L 843.3,127.2\" style=\"fill:none;fill-rule:evenodd;stroke:#000000;stroke-width:2.0px;stroke-linecap:butt;stroke-linejoin:miter;stroke-opacity:1\"/>\n",
       "<path class=\"bond-26 atom-26 atom-27\" d=\"M 843.3,127.2 L 844.7,140.8\" style=\"fill:none;fill-rule:evenodd;stroke:#000000;stroke-width:2.0px;stroke-linecap:butt;stroke-linejoin:miter;stroke-opacity:1\"/>\n",
       "<path class=\"bond-26 atom-26 atom-27\" d=\"M 845.5,128.2 L 846.6,139.4\" style=\"fill:none;fill-rule:evenodd;stroke:#000000;stroke-width:2.0px;stroke-linecap:butt;stroke-linejoin:miter;stroke-opacity:1\"/>\n",
       "<path class=\"bond-27 atom-27 atom-28\" d=\"M 844.7,140.8 L 857.2,146.4\" style=\"fill:none;fill-rule:evenodd;stroke:#000000;stroke-width:2.0px;stroke-linecap:butt;stroke-linejoin:miter;stroke-opacity:1\"/>\n",
       "<path class=\"bond-28 atom-28 atom-29\" d=\"M 857.2,146.4 L 868.4,138.4\" style=\"fill:none;fill-rule:evenodd;stroke:#000000;stroke-width:2.0px;stroke-linecap:butt;stroke-linejoin:miter;stroke-opacity:1\"/>\n",
       "<path class=\"bond-28 atom-28 atom-29\" d=\"M 857.0,144.1 L 866.2,137.4\" style=\"fill:none;fill-rule:evenodd;stroke:#000000;stroke-width:2.0px;stroke-linecap:butt;stroke-linejoin:miter;stroke-opacity:1\"/>\n",
       "<path class=\"bond-29 atom-29 atom-30\" d=\"M 868.4,138.4 L 866.9,124.7\" style=\"fill:none;fill-rule:evenodd;stroke:#000000;stroke-width:2.0px;stroke-linecap:butt;stroke-linejoin:miter;stroke-opacity:1\"/>\n",
       "<path class=\"bond-30 atom-30 atom-31\" d=\"M 866.9,124.7 L 854.4,119.1\" style=\"fill:none;fill-rule:evenodd;stroke:#000000;stroke-width:2.0px;stroke-linecap:butt;stroke-linejoin:miter;stroke-opacity:1\"/>\n",
       "<path class=\"bond-30 atom-30 atom-31\" d=\"M 865.0,126.1 L 854.6,121.5\" style=\"fill:none;fill-rule:evenodd;stroke:#000000;stroke-width:2.0px;stroke-linecap:butt;stroke-linejoin:miter;stroke-opacity:1\"/>\n",
       "<path class=\"bond-31 atom-12 atom-32\" d=\"M 871.9,96.4 L 877.5,109.0\" style=\"fill:none;fill-rule:evenodd;stroke:#000000;stroke-width:2.0px;stroke-linecap:butt;stroke-linejoin:miter;stroke-opacity:1\"/>\n",
       "<path class=\"bond-32 atom-32 atom-33\" d=\"M 877.5,109.0 L 891.1,110.4\" style=\"fill:none;fill-rule:evenodd;stroke:#000000;stroke-width:2.0px;stroke-linecap:butt;stroke-linejoin:miter;stroke-opacity:1\"/>\n",
       "<path class=\"bond-32 atom-32 atom-33\" d=\"M 878.9,107.1 L 890.1,108.3\" style=\"fill:none;fill-rule:evenodd;stroke:#000000;stroke-width:2.0px;stroke-linecap:butt;stroke-linejoin:miter;stroke-opacity:1\"/>\n",
       "<path class=\"bond-33 atom-8 atom-34\" d=\"M 912.8,100.8 L 916.2,97.0\" style=\"fill:none;fill-rule:evenodd;stroke:#000000;stroke-width:2.0px;stroke-linecap:butt;stroke-linejoin:miter;stroke-opacity:1\"/>\n",
       "<path class=\"bond-33 atom-8 atom-34\" d=\"M 916.2,97.0 L 919.6,93.3\" style=\"fill:none;fill-rule:evenodd;stroke:#FF0000;stroke-width:2.0px;stroke-linecap:butt;stroke-linejoin:miter;stroke-opacity:1\"/>\n",
       "<path class=\"bond-34 atom-4 atom-35\" d=\"M 946.4,89.3 L 947.9,75.7\" style=\"fill:none;fill-rule:evenodd;stroke:#000000;stroke-width:2.0px;stroke-linecap:butt;stroke-linejoin:miter;stroke-opacity:1\"/>\n",
       "<path class=\"bond-34 atom-4 atom-35\" d=\"M 948.6,88.1 L 949.8,77.4\" style=\"fill:none;fill-rule:evenodd;stroke:#000000;stroke-width:2.0px;stroke-linecap:butt;stroke-linejoin:miter;stroke-opacity:1\"/>\n",
       "<path class=\"bond-35 atom-35 atom-36\" d=\"M 947.9,75.7 L 953.6,74.5\" style=\"fill:none;fill-rule:evenodd;stroke:#000000;stroke-width:2.0px;stroke-linecap:butt;stroke-linejoin:miter;stroke-opacity:1\"/>\n",
       "<path class=\"bond-35 atom-35 atom-36\" d=\"M 953.6,74.5 L 959.2,73.3\" style=\"fill:none;fill-rule:evenodd;stroke:#0000FF;stroke-width:2.0px;stroke-linecap:butt;stroke-linejoin:miter;stroke-opacity:1\"/>\n",
       "<path class=\"bond-36 atom-36 atom-37\" d=\"M 962.8,75.4 L 965.5,80.1\" style=\"fill:none;fill-rule:evenodd;stroke:#0000FF;stroke-width:2.0px;stroke-linecap:butt;stroke-linejoin:miter;stroke-opacity:1\"/>\n",
       "<path class=\"bond-36 atom-36 atom-37\" d=\"M 965.5,80.1 L 968.2,84.7\" style=\"fill:none;fill-rule:evenodd;stroke:#000000;stroke-width:2.0px;stroke-linecap:butt;stroke-linejoin:miter;stroke-opacity:1\"/>\n",
       "<path class=\"bond-37 atom-37 atom-38\" d=\"M 968.2,84.7 L 981.6,87.6\" style=\"fill:none;fill-rule:evenodd;stroke:#000000;stroke-width:2.0px;stroke-linecap:butt;stroke-linejoin:miter;stroke-opacity:1\"/>\n",
       "<path class=\"bond-37 atom-37 atom-38\" d=\"M 968.9,87.0 L 980.0,89.4\" style=\"fill:none;fill-rule:evenodd;stroke:#000000;stroke-width:2.0px;stroke-linecap:butt;stroke-linejoin:miter;stroke-opacity:1\"/>\n",
       "<path class=\"bond-38 atom-38 atom-0\" d=\"M 981.6,87.6 L 985.8,100.7\" style=\"fill:none;fill-rule:evenodd;stroke:#000000;stroke-width:2.0px;stroke-linecap:butt;stroke-linejoin:miter;stroke-opacity:1\"/>\n",
       "<path class=\"bond-39 atom-37 atom-3\" d=\"M 968.2,84.7 L 959.0,94.9\" style=\"fill:none;fill-rule:evenodd;stroke:#000000;stroke-width:2.0px;stroke-linecap:butt;stroke-linejoin:miter;stroke-opacity:1\"/>\n",
       "<path class=\"bond-40 atom-34 atom-5\" d=\"M 924.4,91.7 L 929.5,93.9\" style=\"fill:none;fill-rule:evenodd;stroke:#FF0000;stroke-width:2.0px;stroke-linecap:butt;stroke-linejoin:miter;stroke-opacity:1\"/>\n",
       "<path class=\"bond-40 atom-34 atom-5\" d=\"M 929.5,93.9 L 934.5,96.2\" style=\"fill:none;fill-rule:evenodd;stroke:#000000;stroke-width:2.0px;stroke-linecap:butt;stroke-linejoin:miter;stroke-opacity:1\"/>\n",
       "<path class=\"bond-41 atom-33 atom-9\" d=\"M 891.1,110.4 L 899.2,99.3\" style=\"fill:none;fill-rule:evenodd;stroke:#000000;stroke-width:2.0px;stroke-linecap:butt;stroke-linejoin:miter;stroke-opacity:1\"/>\n",
       "<path class=\"bond-42 atom-22 atom-14\" d=\"M 839.3,79.6 L 852.7,82.4\" style=\"fill:none;fill-rule:evenodd;stroke:#000000;stroke-width:2.0px;stroke-linecap:butt;stroke-linejoin:miter;stroke-opacity:1\"/>\n",
       "<path class=\"bond-43 atom-31 atom-23\" d=\"M 854.4,119.1 L 850.2,106.1\" style=\"fill:none;fill-rule:evenodd;stroke:#000000;stroke-width:2.0px;stroke-linecap:butt;stroke-linejoin:miter;stroke-opacity:1\"/>\n",
       "<path class=\"bond-44 atom-22 atom-17\" d=\"M 839.3,79.6 L 837.8,65.9\" style=\"fill:none;fill-rule:evenodd;stroke:#000000;stroke-width:2.0px;stroke-linecap:butt;stroke-linejoin:miter;stroke-opacity:1\"/>\n",
       "<path class=\"bond-45 atom-31 atom-26\" d=\"M 854.4,119.1 L 843.3,127.2\" style=\"fill:none;fill-rule:evenodd;stroke:#000000;stroke-width:2.0px;stroke-linecap:butt;stroke-linejoin:miter;stroke-opacity:1\"/>\n",
       "<path d=\"M 985.3,101.2 L 985.8,100.7 L 985.6,100.0\" style=\"fill:none;stroke:#000000;stroke-width:2.0px;stroke-linecap:butt;stroke-linejoin:miter;stroke-opacity:1;\"/>\n",
       "<path d=\"M 977.1,110.3 L 976.6,110.8 L 975.9,110.7\" style=\"fill:none;stroke:#000000;stroke-width:2.0px;stroke-linecap:butt;stroke-linejoin:miter;stroke-opacity:1;\"/>\n",
       "<path d=\"M 963.9,108.1 L 963.2,108.0 L 963.0,107.3\" style=\"fill:none;stroke:#000000;stroke-width:2.0px;stroke-linecap:butt;stroke-linejoin:miter;stroke-opacity:1;\"/>\n",
       "<path d=\"M 893.9,87.4 L 893.6,86.8 L 892.9,86.7\" style=\"fill:none;stroke:#000000;stroke-width:2.0px;stroke-linecap:butt;stroke-linejoin:miter;stroke-opacity:1;\"/>\n",
       "<path d=\"M 880.6,85.4 L 880.0,85.3 L 879.6,85.9\" style=\"fill:none;stroke:#000000;stroke-width:2.0px;stroke-linecap:butt;stroke-linejoin:miter;stroke-opacity:1;\"/>\n",
       "<path d=\"M 859.2,71.2 L 859.6,70.6 L 859.4,70.4\" style=\"fill:none;stroke:#000000;stroke-width:2.0px;stroke-linecap:butt;stroke-linejoin:miter;stroke-opacity:1;\"/>\n",
       "<path d=\"M 825.9,60.6 L 825.3,60.3 L 824.8,60.7\" style=\"fill:none;stroke:#000000;stroke-width:2.0px;stroke-linecap:butt;stroke-linejoin:miter;stroke-opacity:1;\"/>\n",
       "<path d=\"M 814.8,68.0 L 814.2,68.4 L 814.3,69.1\" style=\"fill:none;stroke:#000000;stroke-width:2.0px;stroke-linecap:butt;stroke-linejoin:miter;stroke-opacity:1;\"/>\n",
       "<path d=\"M 815.6,81.4 L 815.6,82.0 L 816.3,82.3\" style=\"fill:none;stroke:#000000;stroke-width:2.0px;stroke-linecap:butt;stroke-linejoin:miter;stroke-opacity:1;\"/>\n",
       "<path d=\"M 827.5,87.4 L 828.2,87.6 L 828.7,87.2\" style=\"fill:none;stroke:#000000;stroke-width:2.0px;stroke-linecap:butt;stroke-linejoin:miter;stroke-opacity:1;\"/>\n",
       "<path d=\"M 837.1,106.1 L 836.5,106.1 L 836.4,106.3\" style=\"fill:none;stroke:#000000;stroke-width:2.0px;stroke-linecap:butt;stroke-linejoin:miter;stroke-opacity:1;\"/>\n",
       "<path d=\"M 844.6,140.2 L 844.7,140.8 L 845.3,141.1\" style=\"fill:none;stroke:#000000;stroke-width:2.0px;stroke-linecap:butt;stroke-linejoin:miter;stroke-opacity:1;\"/>\n",
       "<path d=\"M 856.6,146.1 L 857.2,146.4 L 857.8,146.0\" style=\"fill:none;stroke:#000000;stroke-width:2.0px;stroke-linecap:butt;stroke-linejoin:miter;stroke-opacity:1;\"/>\n",
       "<path d=\"M 867.8,138.8 L 868.4,138.4 L 868.3,137.7\" style=\"fill:none;stroke:#000000;stroke-width:2.0px;stroke-linecap:butt;stroke-linejoin:miter;stroke-opacity:1;\"/>\n",
       "<path d=\"M 867.0,125.4 L 866.9,124.7 L 866.3,124.4\" style=\"fill:none;stroke:#000000;stroke-width:2.0px;stroke-linecap:butt;stroke-linejoin:miter;stroke-opacity:1;\"/>\n",
       "<path d=\"M 877.2,108.3 L 877.5,109.0 L 878.1,109.0\" style=\"fill:none;stroke:#000000;stroke-width:2.0px;stroke-linecap:butt;stroke-linejoin:miter;stroke-opacity:1;\"/>\n",
       "<path d=\"M 890.4,110.4 L 891.1,110.4 L 891.5,109.9\" style=\"fill:none;stroke:#000000;stroke-width:2.0px;stroke-linecap:butt;stroke-linejoin:miter;stroke-opacity:1;\"/>\n",
       "<path d=\"M 947.8,76.4 L 947.9,75.7 L 948.2,75.6\" style=\"fill:none;stroke:#000000;stroke-width:2.0px;stroke-linecap:butt;stroke-linejoin:miter;stroke-opacity:1;\"/>\n",
       "<path d=\"M 980.9,87.5 L 981.6,87.6 L 981.8,88.3\" style=\"fill:none;stroke:#000000;stroke-width:2.0px;stroke-linecap:butt;stroke-linejoin:miter;stroke-opacity:1;\"/>\n",
       "<path class=\"atom-6\" d=\"M 932.2 107.7 L 933.5 110.0 Q 933.7 110.2, 933.9 110.6 Q 934.1 111.0, 934.1 111.0 L 934.1 107.7 L 934.7 107.7 L 934.7 112.0 L 934.1 112.0 L 932.6 109.5 Q 932.5 109.2, 932.3 108.9 Q 932.1 108.5, 932.0 108.4 L 932.0 112.0 L 931.5 112.0 L 931.5 107.7 L 932.2 107.7 \" fill=\"#0000FF\"/>\n",
       "<path class=\"atom-7\" d=\"M 918.7 110.5 L 920.1 112.8 Q 920.3 113.0, 920.5 113.4 Q 920.7 113.8, 920.7 113.8 L 920.7 110.5 L 921.3 110.5 L 921.3 114.8 L 920.7 114.8 L 919.2 112.3 Q 919.0 112.0, 918.8 111.7 Q 918.7 111.4, 918.6 111.3 L 918.6 114.8 L 918.1 114.8 L 918.1 110.5 L 918.7 110.5 \" fill=\"#0000FF\"/>\n",
       "<path class=\"atom-16\" d=\"M 849.4 58.2 L 850.8 60.5 Q 851.0 60.7, 851.2 61.1 Q 851.4 61.5, 851.4 61.5 L 851.4 58.2 L 852.0 58.2 L 852.0 62.5 L 851.4 62.5 L 849.9 60.0 Q 849.7 59.7, 849.6 59.4 Q 849.4 59.1, 849.3 59.0 L 849.3 62.5 L 848.8 62.5 L 848.8 58.2 L 849.4 58.2 \" fill=\"#0000FF\"/>\n",
       "<path class=\"atom-16\" d=\"M 848.7 53.6 L 849.3 53.6 L 849.3 55.4 L 851.5 55.4 L 851.5 53.6 L 852.0 53.6 L 852.0 57.8 L 851.5 57.8 L 851.5 55.9 L 849.3 55.9 L 849.3 57.8 L 848.7 57.8 L 848.7 53.6 \" fill=\"#0000FF\"/>\n",
       "<path class=\"atom-25\" d=\"M 826.4 117.0 L 827.0 117.0 L 827.0 118.8 L 829.2 118.8 L 829.2 117.0 L 829.8 117.0 L 829.8 121.2 L 829.2 121.2 L 829.2 119.3 L 827.0 119.3 L 827.0 121.2 L 826.4 121.2 L 826.4 117.0 \" fill=\"#0000FF\"/>\n",
       "<path class=\"atom-25\" d=\"M 831.3 117.0 L 832.7 119.2 Q 832.8 119.5, 833.0 119.9 Q 833.2 120.3, 833.2 120.3 L 833.2 117.0 L 833.8 117.0 L 833.8 121.2 L 833.2 121.2 L 831.7 118.8 Q 831.6 118.5, 831.4 118.2 Q 831.2 117.8, 831.1 117.7 L 831.1 121.2 L 830.6 121.2 L 830.6 117.0 L 831.3 117.0 \" fill=\"#0000FF\"/>\n",
       "<path class=\"atom-34\" d=\"M 920.1 90.6 Q 920.1 89.6, 920.6 89.0 Q 921.1 88.4, 922.0 88.4 Q 923.0 88.4, 923.5 89.0 Q 924.0 89.6, 924.0 90.6 Q 924.0 91.6, 923.5 92.2 Q 922.9 92.8, 922.0 92.8 Q 921.1 92.8, 920.6 92.2 Q 920.1 91.6, 920.1 90.6 M 922.0 92.3 Q 922.7 92.3, 923.0 91.9 Q 923.4 91.5, 923.4 90.6 Q 923.4 89.8, 923.0 89.3 Q 922.7 88.9, 922.0 88.9 Q 921.4 88.9, 921.0 89.3 Q 920.7 89.8, 920.7 90.6 Q 920.7 91.5, 921.0 91.9 Q 921.4 92.3, 922.0 92.3 \" fill=\"#FF0000\"/>\n",
       "<path class=\"atom-36\" d=\"M 960.4 70.7 L 961.8 73.0 Q 961.9 73.2, 962.1 73.6 Q 962.3 74.0, 962.3 74.0 L 962.3 70.7 L 962.9 70.7 L 962.9 75.0 L 962.3 75.0 L 960.8 72.5 Q 960.7 72.2, 960.5 71.9 Q 960.3 71.6, 960.2 71.5 L 960.2 75.0 L 959.7 75.0 L 959.7 70.7 L 960.4 70.7 \" fill=\"#0000FF\"/>\n",
       "<path class=\"atom-36\" d=\"M 963.7 70.7 L 964.3 70.7 L 964.3 72.5 L 966.5 72.5 L 966.5 70.7 L 967.1 70.7 L 967.1 75.0 L 966.5 75.0 L 966.5 73.0 L 964.3 73.0 L 964.3 75.0 L 963.7 75.0 L 963.7 70.7 \" fill=\"#0000FF\"/>\n",
       "<path class=\"bond-0 atom-0 atom-1\" d=\"M 97.2,282.0 L 96.0,287.7\" style=\"fill:none;fill-rule:evenodd;stroke:#FF0000;stroke-width:2.0px;stroke-linecap:butt;stroke-linejoin:miter;stroke-opacity:1\"/>\n",
       "<path class=\"bond-0 atom-0 atom-1\" d=\"M 96.0,287.7 L 94.9,293.4\" style=\"fill:none;fill-rule:evenodd;stroke:#000000;stroke-width:2.0px;stroke-linecap:butt;stroke-linejoin:miter;stroke-opacity:1\"/>\n",
       "<path class=\"bond-0 atom-0 atom-1\" d=\"M 95.2,281.6 L 94.0,287.3\" style=\"fill:none;fill-rule:evenodd;stroke:#FF0000;stroke-width:2.0px;stroke-linecap:butt;stroke-linejoin:miter;stroke-opacity:1\"/>\n",
       "<path class=\"bond-0 atom-0 atom-1\" d=\"M 94.0,287.3 L 92.9,293.0\" style=\"fill:none;fill-rule:evenodd;stroke:#000000;stroke-width:2.0px;stroke-linecap:butt;stroke-linejoin:miter;stroke-opacity:1\"/>\n",
       "<path class=\"bond-1 atom-1 atom-2\" d=\"M 94.0,292.6 L 81.0,296.9\" style=\"fill:none;fill-rule:evenodd;stroke:#000000;stroke-width:2.0px;stroke-linecap:butt;stroke-linejoin:miter;stroke-opacity:1\"/>\n",
       "<path class=\"bond-2 atom-2 atom-3\" d=\"M 81.0,296.9 L 70.7,287.8\" style=\"fill:none;fill-rule:evenodd;stroke:#000000;stroke-width:2.0px;stroke-linecap:butt;stroke-linejoin:miter;stroke-opacity:1\"/>\n",
       "<path class=\"bond-2 atom-2 atom-3\" d=\"M 78.7,297.7 L 70.2,290.1\" style=\"fill:none;fill-rule:evenodd;stroke:#000000;stroke-width:2.0px;stroke-linecap:butt;stroke-linejoin:miter;stroke-opacity:1\"/>\n",
       "<path class=\"bond-3 atom-3 atom-4\" d=\"M 70.7,287.8 L 57.7,292.1\" style=\"fill:none;fill-rule:evenodd;stroke:#000000;stroke-width:2.0px;stroke-linecap:butt;stroke-linejoin:miter;stroke-opacity:1\"/>\n",
       "<path class=\"bond-4 atom-4 atom-5\" d=\"M 57.7,292.1 L 54.9,305.5\" style=\"fill:none;fill-rule:evenodd;stroke:#000000;stroke-width:2.0px;stroke-linecap:butt;stroke-linejoin:miter;stroke-opacity:1\"/>\n",
       "<path class=\"bond-4 atom-4 atom-5\" d=\"M 59.5,293.7 L 57.2,304.8\" style=\"fill:none;fill-rule:evenodd;stroke:#000000;stroke-width:2.0px;stroke-linecap:butt;stroke-linejoin:miter;stroke-opacity:1\"/>\n",
       "<path class=\"bond-5 atom-5 atom-6\" d=\"M 54.9,305.5 L 65.2,314.7\" style=\"fill:none;fill-rule:evenodd;stroke:#000000;stroke-width:2.0px;stroke-linecap:butt;stroke-linejoin:miter;stroke-opacity:1\"/>\n",
       "<path class=\"bond-6 atom-6 atom-7\" d=\"M 65.2,314.7 L 78.2,310.3\" style=\"fill:none;fill-rule:evenodd;stroke:#000000;stroke-width:2.0px;stroke-linecap:butt;stroke-linejoin:miter;stroke-opacity:1\"/>\n",
       "<path class=\"bond-6 atom-6 atom-7\" d=\"M 65.6,312.3 L 76.4,308.8\" style=\"fill:none;fill-rule:evenodd;stroke:#000000;stroke-width:2.0px;stroke-linecap:butt;stroke-linejoin:miter;stroke-opacity:1\"/>\n",
       "<path class=\"bond-7 atom-1 atom-8\" d=\"M 94.0,292.6 L 98.1,296.2\" style=\"fill:none;fill-rule:evenodd;stroke:#000000;stroke-width:2.0px;stroke-linecap:butt;stroke-linejoin:miter;stroke-opacity:1\"/>\n",
       "<path class=\"bond-7 atom-1 atom-8\" d=\"M 98.1,296.2 L 102.2,299.9\" style=\"fill:none;fill-rule:evenodd;stroke:#0000FF;stroke-width:2.0px;stroke-linecap:butt;stroke-linejoin:miter;stroke-opacity:1\"/>\n",
       "<path class=\"bond-8 atom-8 atom-9\" d=\"M 104.0,304.3 L 103.1,312.8\" style=\"fill:none;fill-rule:evenodd;stroke:#0000FF;stroke-width:2.0px;stroke-linecap:butt;stroke-linejoin:miter;stroke-opacity:1\"/>\n",
       "<path class=\"bond-9 atom-9 atom-10\" d=\"M 104.9,316.3 L 113.4,320.0\" style=\"fill:none;fill-rule:evenodd;stroke:#0000FF;stroke-width:2.0px;stroke-linecap:butt;stroke-linejoin:miter;stroke-opacity:1\"/>\n",
       "<path class=\"bond-9 atom-9 atom-10\" d=\"M 105.8,314.4 L 114.2,318.1\" style=\"fill:none;fill-rule:evenodd;stroke:#0000FF;stroke-width:2.0px;stroke-linecap:butt;stroke-linejoin:miter;stroke-opacity:1\"/>\n",
       "<path class=\"bond-10 atom-10 atom-11\" d=\"M 117.5,318.6 L 121.0,314.6\" style=\"fill:none;fill-rule:evenodd;stroke:#0000FF;stroke-width:2.0px;stroke-linecap:butt;stroke-linejoin:miter;stroke-opacity:1\"/>\n",
       "<path class=\"bond-10 atom-10 atom-11\" d=\"M 121.0,314.6 L 124.6,310.6\" style=\"fill:none;fill-rule:evenodd;stroke:#000000;stroke-width:2.0px;stroke-linecap:butt;stroke-linejoin:miter;stroke-opacity:1\"/>\n",
       "<path class=\"bond-11 atom-11 atom-12\" d=\"M 124.6,310.6 L 138.3,310.5\" style=\"fill:none;fill-rule:evenodd;stroke:#000000;stroke-width:2.0px;stroke-linecap:butt;stroke-linejoin:miter;stroke-opacity:1\"/>\n",
       "<path class=\"bond-11 atom-11 atom-12\" d=\"M 125.7,308.6 L 137.1,308.5\" style=\"fill:none;fill-rule:evenodd;stroke:#000000;stroke-width:2.0px;stroke-linecap:butt;stroke-linejoin:miter;stroke-opacity:1\"/>\n",
       "<path class=\"bond-12 atom-12 atom-13\" d=\"M 138.3,310.5 L 145.1,298.6\" style=\"fill:none;fill-rule:evenodd;stroke:#000000;stroke-width:2.0px;stroke-linecap:butt;stroke-linejoin:miter;stroke-opacity:1\"/>\n",
       "<path class=\"bond-13 atom-13 atom-14\" d=\"M 145.1,298.6 L 138.2,286.8\" style=\"fill:none;fill-rule:evenodd;stroke:#000000;stroke-width:2.0px;stroke-linecap:butt;stroke-linejoin:miter;stroke-opacity:1\"/>\n",
       "<path class=\"bond-13 atom-13 atom-14\" d=\"M 142.7,298.6 L 137.0,288.8\" style=\"fill:none;fill-rule:evenodd;stroke:#000000;stroke-width:2.0px;stroke-linecap:butt;stroke-linejoin:miter;stroke-opacity:1\"/>\n",
       "<path class=\"bond-14 atom-14 atom-15\" d=\"M 138.2,286.8 L 124.4,286.9\" style=\"fill:none;fill-rule:evenodd;stroke:#000000;stroke-width:2.0px;stroke-linecap:butt;stroke-linejoin:miter;stroke-opacity:1\"/>\n",
       "<path class=\"bond-15 atom-15 atom-16\" d=\"M 124.4,286.9 L 117.6,298.8\" style=\"fill:none;fill-rule:evenodd;stroke:#000000;stroke-width:2.0px;stroke-linecap:butt;stroke-linejoin:miter;stroke-opacity:1\"/>\n",
       "<path class=\"bond-15 atom-15 atom-16\" d=\"M 125.6,288.9 L 120.0,298.8\" style=\"fill:none;fill-rule:evenodd;stroke:#000000;stroke-width:2.0px;stroke-linecap:butt;stroke-linejoin:miter;stroke-opacity:1\"/>\n",
       "<path class=\"bond-16 atom-7 atom-2\" d=\"M 78.2,310.3 L 81.0,296.9\" style=\"fill:none;fill-rule:evenodd;stroke:#000000;stroke-width:2.0px;stroke-linecap:butt;stroke-linejoin:miter;stroke-opacity:1\"/>\n",
       "<path class=\"bond-17 atom-16 atom-8\" d=\"M 117.6,298.8 L 112.0,300.0\" style=\"fill:none;fill-rule:evenodd;stroke:#000000;stroke-width:2.0px;stroke-linecap:butt;stroke-linejoin:miter;stroke-opacity:1\"/>\n",
       "<path class=\"bond-17 atom-16 atom-8\" d=\"M 112.0,300.0 L 106.3,301.3\" style=\"fill:none;fill-rule:evenodd;stroke:#0000FF;stroke-width:2.0px;stroke-linecap:butt;stroke-linejoin:miter;stroke-opacity:1\"/>\n",
       "<path class=\"bond-18 atom-16 atom-11\" d=\"M 117.6,298.8 L 124.6,310.6\" style=\"fill:none;fill-rule:evenodd;stroke:#000000;stroke-width:2.0px;stroke-linecap:butt;stroke-linejoin:miter;stroke-opacity:1\"/>\n",
       "<path d=\"M 93.3,292.8 L 94.0,292.6 L 94.2,292.8\" style=\"fill:none;stroke:#000000;stroke-width:2.0px;stroke-linecap:butt;stroke-linejoin:miter;stroke-opacity:1;\"/>\n",
       "<path d=\"M 71.2,288.2 L 70.7,287.8 L 70.1,288.0\" style=\"fill:none;stroke:#000000;stroke-width:2.0px;stroke-linecap:butt;stroke-linejoin:miter;stroke-opacity:1;\"/>\n",
       "<path d=\"M 58.3,291.9 L 57.7,292.1 L 57.6,292.8\" style=\"fill:none;stroke:#000000;stroke-width:2.0px;stroke-linecap:butt;stroke-linejoin:miter;stroke-opacity:1;\"/>\n",
       "<path d=\"M 55.1,304.9 L 54.9,305.5 L 55.4,306.0\" style=\"fill:none;stroke:#000000;stroke-width:2.0px;stroke-linecap:butt;stroke-linejoin:miter;stroke-opacity:1;\"/>\n",
       "<path d=\"M 64.7,314.2 L 65.2,314.7 L 65.8,314.4\" style=\"fill:none;stroke:#000000;stroke-width:2.0px;stroke-linecap:butt;stroke-linejoin:miter;stroke-opacity:1;\"/>\n",
       "<path d=\"M 77.5,310.6 L 78.2,310.3 L 78.3,309.7\" style=\"fill:none;stroke:#000000;stroke-width:2.0px;stroke-linecap:butt;stroke-linejoin:miter;stroke-opacity:1;\"/>\n",
       "<path d=\"M 137.6,310.5 L 138.3,310.5 L 138.6,309.9\" style=\"fill:none;stroke:#000000;stroke-width:2.0px;stroke-linecap:butt;stroke-linejoin:miter;stroke-opacity:1;\"/>\n",
       "<path d=\"M 144.7,299.2 L 145.1,298.6 L 144.7,298.0\" style=\"fill:none;stroke:#000000;stroke-width:2.0px;stroke-linecap:butt;stroke-linejoin:miter;stroke-opacity:1;\"/>\n",
       "<path d=\"M 138.5,287.4 L 138.2,286.8 L 137.5,286.8\" style=\"fill:none;stroke:#000000;stroke-width:2.0px;stroke-linecap:butt;stroke-linejoin:miter;stroke-opacity:1;\"/>\n",
       "<path d=\"M 125.1,286.9 L 124.4,286.9 L 124.1,287.5\" style=\"fill:none;stroke:#000000;stroke-width:2.0px;stroke-linecap:butt;stroke-linejoin:miter;stroke-opacity:1;\"/>\n",
       "<path class=\"atom-0\" d=\"M 94.8 279.2 Q 94.8 278.1, 95.3 277.6 Q 95.8 277.0, 96.8 277.0 Q 97.7 277.0, 98.2 277.6 Q 98.7 278.1, 98.7 279.2 Q 98.7 280.2, 98.2 280.8 Q 97.7 281.4, 96.8 281.4 Q 95.8 281.4, 95.3 280.8 Q 94.8 280.2, 94.8 279.2 M 96.8 280.9 Q 97.4 280.9, 97.8 280.5 Q 98.1 280.0, 98.1 279.2 Q 98.1 278.3, 97.8 277.9 Q 97.4 277.5, 96.8 277.5 Q 96.1 277.5, 95.8 277.9 Q 95.4 278.3, 95.4 279.2 Q 95.4 280.0, 95.8 280.5 Q 96.1 280.9, 96.8 280.9 \" fill=\"#FF0000\"/>\n",
       "<path class=\"atom-8\" d=\"M 103.3 299.6 L 104.7 301.8 Q 104.8 302.1, 105.1 302.5 Q 105.3 302.9, 105.3 302.9 L 105.3 299.6 L 105.8 299.6 L 105.8 303.8 L 105.3 303.8 L 103.8 301.4 Q 103.6 301.1, 103.4 300.8 Q 103.2 300.4, 103.2 300.3 L 103.2 303.8 L 102.6 303.8 L 102.6 299.6 L 103.3 299.6 \" fill=\"#0000FF\"/>\n",
       "<path class=\"atom-9\" d=\"M 101.9 313.2 L 103.3 315.5 Q 103.5 315.7, 103.7 316.1 Q 103.9 316.5, 103.9 316.5 L 103.9 313.2 L 104.5 313.2 L 104.5 317.5 L 103.9 317.5 L 102.4 315.0 Q 102.2 314.7, 102.1 314.4 Q 101.9 314.1, 101.8 314.0 L 101.8 317.5 L 101.3 317.5 L 101.3 313.2 L 101.9 313.2 \" fill=\"#0000FF\"/>\n",
       "<path class=\"atom-10\" d=\"M 114.5 318.7 L 115.9 321.0 Q 116.0 321.2, 116.3 321.6 Q 116.5 322.0, 116.5 322.0 L 116.5 318.7 L 117.1 318.7 L 117.1 323.0 L 116.5 323.0 L 115.0 320.5 Q 114.8 320.2, 114.6 319.9 Q 114.4 319.6, 114.4 319.5 L 114.4 323.0 L 113.8 323.0 L 113.8 318.7 L 114.5 318.7 \" fill=\"#0000FF\"/>\n",
       "<path class=\"bond-0 atom-0 atom-1\" d=\"M 313.3,300.0 L 305.2,288.9\" style=\"fill:none;fill-rule:evenodd;stroke:#000000;stroke-width:2.0px;stroke-linecap:butt;stroke-linejoin:miter;stroke-opacity:1\"/>\n",
       "<path class=\"bond-1 atom-1 atom-2\" d=\"M 305.2,288.9 L 292.2,293.1\" style=\"fill:none;fill-rule:evenodd;stroke:#000000;stroke-width:2.0px;stroke-linecap:butt;stroke-linejoin:miter;stroke-opacity:1\"/>\n",
       "<path class=\"bond-2 atom-2 atom-3\" d=\"M 292.2,293.1 L 292.2,298.7\" style=\"fill:none;fill-rule:evenodd;stroke:#000000;stroke-width:2.0px;stroke-linecap:butt;stroke-linejoin:miter;stroke-opacity:1\"/>\n",
       "<path class=\"bond-2 atom-2 atom-3\" d=\"M 292.2,298.7 L 292.2,304.3\" style=\"fill:none;fill-rule:evenodd;stroke:#CCCC00;stroke-width:2.0px;stroke-linecap:butt;stroke-linejoin:miter;stroke-opacity:1\"/>\n",
       "<path class=\"bond-3 atom-3 atom-4\" d=\"M 294.0,307.4 L 299.6,309.3\" style=\"fill:none;fill-rule:evenodd;stroke:#CCCC00;stroke-width:2.0px;stroke-linecap:butt;stroke-linejoin:miter;stroke-opacity:1\"/>\n",
       "<path class=\"bond-3 atom-3 atom-4\" d=\"M 299.6,309.3 L 305.2,311.1\" style=\"fill:none;fill-rule:evenodd;stroke:#000000;stroke-width:2.0px;stroke-linecap:butt;stroke-linejoin:miter;stroke-opacity:1\"/>\n",
       "<path class=\"bond-4 atom-4 atom-0\" d=\"M 305.2,311.1 L 313.3,300.0\" style=\"fill:none;fill-rule:evenodd;stroke:#000000;stroke-width:2.0px;stroke-linecap:butt;stroke-linejoin:miter;stroke-opacity:1\"/>\n",
       "<path d=\"M 312.9,299.4 L 313.3,300.0 L 312.9,300.6\" style=\"fill:none;stroke:#000000;stroke-width:2.0px;stroke-linecap:butt;stroke-linejoin:miter;stroke-opacity:1;\"/>\n",
       "<path d=\"M 305.6,289.5 L 305.2,288.9 L 304.6,289.1\" style=\"fill:none;stroke:#000000;stroke-width:2.0px;stroke-linecap:butt;stroke-linejoin:miter;stroke-opacity:1;\"/>\n",
       "<path d=\"M 292.8,292.9 L 292.2,293.1 L 292.2,293.4\" style=\"fill:none;stroke:#000000;stroke-width:2.0px;stroke-linecap:butt;stroke-linejoin:miter;stroke-opacity:1;\"/>\n",
       "<path d=\"M 305.0,311.0 L 305.2,311.1 L 305.6,310.5\" style=\"fill:none;stroke:#000000;stroke-width:2.0px;stroke-linecap:butt;stroke-linejoin:miter;stroke-opacity:1;\"/>\n",
       "<path class=\"atom-3\" d=\"M 286.7 304.7 L 287.3 304.7 L 287.3 306.5 L 289.4 306.5 L 289.4 304.7 L 290.0 304.7 L 290.0 309.0 L 289.4 309.0 L 289.4 307.0 L 287.3 307.0 L 287.3 309.0 L 286.7 309.0 L 286.7 304.7 \" fill=\"#CCCC00\"/>\n",
       "<path class=\"atom-3\" d=\"M 291.0 308.3 Q 291.0 308.3, 291.2 308.4 Q 291.4 308.5, 291.6 308.6 Q 291.9 308.6, 292.1 308.6 Q 292.5 308.6, 292.7 308.4 Q 293.0 308.2, 293.0 307.9 Q 293.0 307.6, 292.8 307.5 Q 292.7 307.4, 292.5 307.3 Q 292.4 307.2, 292.1 307.1 Q 291.7 307.0, 291.5 306.9 Q 291.2 306.8, 291.1 306.6 Q 290.9 306.3, 290.9 305.9 Q 290.9 305.4, 291.3 305.1 Q 291.6 304.7, 292.4 304.7 Q 292.9 304.7, 293.4 305.0 L 293.3 305.4 Q 292.8 305.2, 292.4 305.2 Q 292.0 305.2, 291.7 305.4 Q 291.5 305.6, 291.5 305.9 Q 291.5 306.1, 291.6 306.2 Q 291.8 306.4, 291.9 306.5 Q 292.1 306.5, 292.4 306.6 Q 292.8 306.7, 293.0 306.9 Q 293.2 307.0, 293.4 307.2 Q 293.6 307.5, 293.6 307.9 Q 293.6 308.5, 293.2 308.8 Q 292.8 309.1, 292.1 309.1 Q 291.7 309.1, 291.4 309.0 Q 291.2 308.9, 290.8 308.8 L 291.0 308.3 \" fill=\"#CCCC00\"/>\n",
       "<path class=\"atom-3\" d=\"M 294.1 305.5 L 294.9 305.5 L 294.9 304.7 L 295.2 304.7 L 295.2 305.5 L 296.0 305.5 L 296.0 305.7 L 295.2 305.7 L 295.2 306.5 L 294.9 306.5 L 294.9 305.7 L 294.1 305.7 L 294.1 305.5 \" fill=\"#CCCC00\"/>\n",
       "<path class=\"bond-0 atom-0 atom-1\" d=\"M 480.5,312.0 L 483.5,307.2\" style=\"fill:none;fill-rule:evenodd;stroke:#FF0000;stroke-width:2.0px;stroke-linecap:butt;stroke-linejoin:miter;stroke-opacity:1\"/>\n",
       "<path class=\"bond-0 atom-0 atom-1\" d=\"M 483.5,307.2 L 486.4,302.4\" style=\"fill:none;fill-rule:evenodd;stroke:#000000;stroke-width:2.0px;stroke-linecap:butt;stroke-linejoin:miter;stroke-opacity:1\"/>\n",
       "<path class=\"bond-0 atom-0 atom-1\" d=\"M 482.3,313.0 L 485.2,308.2\" style=\"fill:none;fill-rule:evenodd;stroke:#FF0000;stroke-width:2.0px;stroke-linecap:butt;stroke-linejoin:miter;stroke-opacity:1\"/>\n",
       "<path class=\"bond-0 atom-0 atom-1\" d=\"M 485.2,308.2 L 488.2,303.4\" style=\"fill:none;fill-rule:evenodd;stroke:#000000;stroke-width:2.0px;stroke-linecap:butt;stroke-linejoin:miter;stroke-opacity:1\"/>\n",
       "<path class=\"bond-1 atom-1 atom-2\" d=\"M 487.0,303.4 L 500.7,303.7\" style=\"fill:none;fill-rule:evenodd;stroke:#000000;stroke-width:2.0px;stroke-linecap:butt;stroke-linejoin:miter;stroke-opacity:1\"/>\n",
       "<path class=\"bond-2 atom-2 atom-3\" d=\"M 500.7,303.7 L 503.3,308.5\" style=\"fill:none;fill-rule:evenodd;stroke:#000000;stroke-width:2.0px;stroke-linecap:butt;stroke-linejoin:miter;stroke-opacity:1\"/>\n",
       "<path class=\"bond-2 atom-2 atom-3\" d=\"M 503.3,308.5 L 505.9,313.2\" style=\"fill:none;fill-rule:evenodd;stroke:#CCCC00;stroke-width:2.0px;stroke-linecap:butt;stroke-linejoin:miter;stroke-opacity:1\"/>\n",
       "<path class=\"bond-3 atom-3 atom-4\" d=\"M 509.1,315.8 L 515.0,316.0\" style=\"fill:none;fill-rule:evenodd;stroke:#CCCC00;stroke-width:2.0px;stroke-linecap:butt;stroke-linejoin:miter;stroke-opacity:1\"/>\n",
       "<path class=\"bond-3 atom-3 atom-4\" d=\"M 515.0,316.0 L 521.0,316.1\" style=\"fill:none;fill-rule:evenodd;stroke:#000000;stroke-width:2.0px;stroke-linecap:butt;stroke-linejoin:miter;stroke-opacity:1\"/>\n",
       "<path class=\"bond-4 atom-4 atom-5\" d=\"M 521.0,316.1 L 523.6,320.9\" style=\"fill:none;fill-rule:evenodd;stroke:#000000;stroke-width:2.0px;stroke-linecap:butt;stroke-linejoin:miter;stroke-opacity:1\"/>\n",
       "<path class=\"bond-4 atom-4 atom-5\" d=\"M 523.6,320.9 L 526.1,325.6\" style=\"fill:none;fill-rule:evenodd;stroke:#0000FF;stroke-width:2.0px;stroke-linecap:butt;stroke-linejoin:miter;stroke-opacity:1\"/>\n",
       "<path class=\"bond-4 atom-4 atom-5\" d=\"M 523.4,316.2 L 525.6,320.4\" style=\"fill:none;fill-rule:evenodd;stroke:#000000;stroke-width:2.0px;stroke-linecap:butt;stroke-linejoin:miter;stroke-opacity:1\"/>\n",
       "<path class=\"bond-4 atom-4 atom-5\" d=\"M 525.6,320.4 L 527.9,324.6\" style=\"fill:none;fill-rule:evenodd;stroke:#0000FF;stroke-width:2.0px;stroke-linecap:butt;stroke-linejoin:miter;stroke-opacity:1\"/>\n",
       "<path class=\"bond-5 atom-5 atom-6\" d=\"M 529.6,328.3 L 539.2,328.5\" style=\"fill:none;fill-rule:evenodd;stroke:#0000FF;stroke-width:2.0px;stroke-linecap:butt;stroke-linejoin:miter;stroke-opacity:1\"/>\n",
       "<path class=\"bond-6 atom-6 atom-7\" d=\"M 542.8,326.0 L 545.6,321.4\" style=\"fill:none;fill-rule:evenodd;stroke:#0000FF;stroke-width:2.0px;stroke-linecap:butt;stroke-linejoin:miter;stroke-opacity:1\"/>\n",
       "<path class=\"bond-6 atom-6 atom-7\" d=\"M 545.6,321.4 L 548.4,316.8\" style=\"fill:none;fill-rule:evenodd;stroke:#000000;stroke-width:2.0px;stroke-linecap:butt;stroke-linejoin:miter;stroke-opacity:1\"/>\n",
       "<path class=\"bond-6 atom-6 atom-7\" d=\"M 541.1,324.9 L 543.6,320.8\" style=\"fill:none;fill-rule:evenodd;stroke:#0000FF;stroke-width:2.0px;stroke-linecap:butt;stroke-linejoin:miter;stroke-opacity:1\"/>\n",
       "<path class=\"bond-6 atom-6 atom-7\" d=\"M 543.6,320.8 L 546.0,316.8\" style=\"fill:none;fill-rule:evenodd;stroke:#000000;stroke-width:2.0px;stroke-linecap:butt;stroke-linejoin:miter;stroke-opacity:1\"/>\n",
       "<path class=\"bond-7 atom-7 atom-8\" d=\"M 548.4,316.8 L 562.1,317.2\" style=\"fill:none;fill-rule:evenodd;stroke:#000000;stroke-width:2.0px;stroke-linecap:butt;stroke-linejoin:miter;stroke-opacity:1\"/>\n",
       "<path class=\"bond-8 atom-8 atom-9\" d=\"M 562.1,317.2 L 568.7,329.2\" style=\"fill:none;fill-rule:evenodd;stroke:#000000;stroke-width:2.0px;stroke-linecap:butt;stroke-linejoin:miter;stroke-opacity:1\"/>\n",
       "<path class=\"bond-8 atom-8 atom-9\" d=\"M 564.5,317.3 L 569.9,327.2\" style=\"fill:none;fill-rule:evenodd;stroke:#000000;stroke-width:2.0px;stroke-linecap:butt;stroke-linejoin:miter;stroke-opacity:1\"/>\n",
       "<path class=\"bond-9 atom-9 atom-10\" d=\"M 568.7,329.2 L 582.4,329.6\" style=\"fill:none;fill-rule:evenodd;stroke:#000000;stroke-width:2.0px;stroke-linecap:butt;stroke-linejoin:miter;stroke-opacity:1\"/>\n",
       "<path class=\"bond-10 atom-10 atom-11\" d=\"M 582.4,329.6 L 589.6,317.9\" style=\"fill:none;fill-rule:evenodd;stroke:#000000;stroke-width:2.0px;stroke-linecap:butt;stroke-linejoin:miter;stroke-opacity:1\"/>\n",
       "<path class=\"bond-10 atom-10 atom-11\" d=\"M 581.3,327.5 L 587.2,317.8\" style=\"fill:none;fill-rule:evenodd;stroke:#000000;stroke-width:2.0px;stroke-linecap:butt;stroke-linejoin:miter;stroke-opacity:1\"/>\n",
       "<path class=\"bond-11 atom-11 atom-12\" d=\"M 589.6,317.9 L 583.0,305.8\" style=\"fill:none;fill-rule:evenodd;stroke:#000000;stroke-width:2.0px;stroke-linecap:butt;stroke-linejoin:miter;stroke-opacity:1\"/>\n",
       "<path class=\"bond-12 atom-12 atom-13\" d=\"M 583.0,305.8 L 569.3,305.5\" style=\"fill:none;fill-rule:evenodd;stroke:#000000;stroke-width:2.0px;stroke-linecap:butt;stroke-linejoin:miter;stroke-opacity:1\"/>\n",
       "<path class=\"bond-12 atom-12 atom-13\" d=\"M 581.8,307.9 L 570.4,307.6\" style=\"fill:none;fill-rule:evenodd;stroke:#000000;stroke-width:2.0px;stroke-linecap:butt;stroke-linejoin:miter;stroke-opacity:1\"/>\n",
       "<path class=\"bond-13 atom-7 atom-14\" d=\"M 548.4,316.8 L 541.9,304.8\" style=\"fill:none;fill-rule:evenodd;stroke:#000000;stroke-width:2.0px;stroke-linecap:butt;stroke-linejoin:miter;stroke-opacity:1\"/>\n",
       "<path class=\"bond-14 atom-14 atom-15\" d=\"M 541.9,304.8 L 549.0,293.1\" style=\"fill:none;fill-rule:evenodd;stroke:#000000;stroke-width:2.0px;stroke-linecap:butt;stroke-linejoin:miter;stroke-opacity:1\"/>\n",
       "<path class=\"bond-15 atom-15 atom-16\" d=\"M 549.0,293.1 L 562.7,293.4\" style=\"fill:none;fill-rule:evenodd;stroke:#000000;stroke-width:2.0px;stroke-linecap:butt;stroke-linejoin:miter;stroke-opacity:1\"/>\n",
       "<path class=\"bond-15 atom-15 atom-16\" d=\"M 550.3,291.1 L 561.6,291.3\" style=\"fill:none;fill-rule:evenodd;stroke:#000000;stroke-width:2.0px;stroke-linecap:butt;stroke-linejoin:miter;stroke-opacity:1\"/>\n",
       "<path class=\"bond-16 atom-16 atom-17\" d=\"M 562.7,293.4 L 569.9,281.7\" style=\"fill:none;fill-rule:evenodd;stroke:#000000;stroke-width:2.0px;stroke-linecap:butt;stroke-linejoin:miter;stroke-opacity:1\"/>\n",
       "<path class=\"bond-17 atom-17 atom-18\" d=\"M 569.9,281.7 L 563.3,269.7\" style=\"fill:none;fill-rule:evenodd;stroke:#000000;stroke-width:2.0px;stroke-linecap:butt;stroke-linejoin:miter;stroke-opacity:1\"/>\n",
       "<path class=\"bond-17 atom-17 atom-18\" d=\"M 567.5,281.7 L 562.1,271.7\" style=\"fill:none;fill-rule:evenodd;stroke:#000000;stroke-width:2.0px;stroke-linecap:butt;stroke-linejoin:miter;stroke-opacity:1\"/>\n",
       "<path class=\"bond-18 atom-18 atom-19\" d=\"M 563.3,269.7 L 549.6,269.3\" style=\"fill:none;fill-rule:evenodd;stroke:#000000;stroke-width:2.0px;stroke-linecap:butt;stroke-linejoin:miter;stroke-opacity:1\"/>\n",
       "<path class=\"bond-19 atom-19 atom-20\" d=\"M 549.6,269.3 L 542.5,281.0\" style=\"fill:none;fill-rule:evenodd;stroke:#000000;stroke-width:2.0px;stroke-linecap:butt;stroke-linejoin:miter;stroke-opacity:1\"/>\n",
       "<path class=\"bond-19 atom-19 atom-20\" d=\"M 550.7,271.4 L 544.8,281.1\" style=\"fill:none;fill-rule:evenodd;stroke:#000000;stroke-width:2.0px;stroke-linecap:butt;stroke-linejoin:miter;stroke-opacity:1\"/>\n",
       "<path class=\"bond-20 atom-14 atom-21\" d=\"M 541.9,304.8 L 536.0,304.6\" style=\"fill:none;fill-rule:evenodd;stroke:#000000;stroke-width:2.0px;stroke-linecap:butt;stroke-linejoin:miter;stroke-opacity:1\"/>\n",
       "<path class=\"bond-20 atom-14 atom-21\" d=\"M 536.0,304.6 L 530.2,304.5\" style=\"fill:none;fill-rule:evenodd;stroke:#0000FF;stroke-width:2.0px;stroke-linecap:butt;stroke-linejoin:miter;stroke-opacity:1\"/>\n",
       "<path class=\"bond-20 atom-14 atom-21\" d=\"M 540.6,306.8 L 535.4,306.7\" style=\"fill:none;fill-rule:evenodd;stroke:#000000;stroke-width:2.0px;stroke-linecap:butt;stroke-linejoin:miter;stroke-opacity:1\"/>\n",
       "<path class=\"bond-20 atom-14 atom-21\" d=\"M 535.4,306.7 L 530.1,306.6\" style=\"fill:none;fill-rule:evenodd;stroke:#0000FF;stroke-width:2.0px;stroke-linecap:butt;stroke-linejoin:miter;stroke-opacity:1\"/>\n",
       "<path class=\"bond-21 atom-1 atom-22\" d=\"M 487.0,303.4 L 484.4,298.7\" style=\"fill:none;fill-rule:evenodd;stroke:#000000;stroke-width:2.0px;stroke-linecap:butt;stroke-linejoin:miter;stroke-opacity:1\"/>\n",
       "<path class=\"bond-21 atom-1 atom-22\" d=\"M 484.4,298.7 L 481.8,293.9\" style=\"fill:none;fill-rule:evenodd;stroke:#0000FF;stroke-width:2.0px;stroke-linecap:butt;stroke-linejoin:miter;stroke-opacity:1\"/>\n",
       "<path class=\"bond-22 atom-22 atom-23\" d=\"M 478.4,291.3 L 472.5,291.1\" style=\"fill:none;fill-rule:evenodd;stroke:#0000FF;stroke-width:2.0px;stroke-linecap:butt;stroke-linejoin:miter;stroke-opacity:1\"/>\n",
       "<path class=\"bond-22 atom-22 atom-23\" d=\"M 472.5,291.1 L 466.7,291.0\" style=\"fill:none;fill-rule:evenodd;stroke:#000000;stroke-width:2.0px;stroke-linecap:butt;stroke-linejoin:miter;stroke-opacity:1\"/>\n",
       "<path class=\"bond-23 atom-23 atom-24\" d=\"M 466.7,291.0 L 463.5,295.2\" style=\"fill:none;fill-rule:evenodd;stroke:#000000;stroke-width:2.0px;stroke-linecap:butt;stroke-linejoin:miter;stroke-opacity:1\"/>\n",
       "<path class=\"bond-23 atom-23 atom-24\" d=\"M 463.5,295.2 L 460.3,299.3\" style=\"fill:none;fill-rule:evenodd;stroke:#0000FF;stroke-width:2.0px;stroke-linecap:butt;stroke-linejoin:miter;stroke-opacity:1\"/>\n",
       "<path class=\"bond-23 atom-23 atom-24\" d=\"M 464.2,290.9 L 461.4,294.5\" style=\"fill:none;fill-rule:evenodd;stroke:#000000;stroke-width:2.0px;stroke-linecap:butt;stroke-linejoin:miter;stroke-opacity:1\"/>\n",
       "<path class=\"bond-23 atom-23 atom-24\" d=\"M 461.4,294.5 L 458.7,298.1\" style=\"fill:none;fill-rule:evenodd;stroke:#0000FF;stroke-width:2.0px;stroke-linecap:butt;stroke-linejoin:miter;stroke-opacity:1\"/>\n",
       "<path class=\"bond-24 atom-24 atom-25\" d=\"M 456.3,301.2 L 450.9,299.2\" style=\"fill:none;fill-rule:evenodd;stroke:#0000FF;stroke-width:2.0px;stroke-linecap:butt;stroke-linejoin:miter;stroke-opacity:1\"/>\n",
       "<path class=\"bond-24 atom-24 atom-25\" d=\"M 450.9,299.2 L 445.4,297.3\" style=\"fill:none;fill-rule:evenodd;stroke:#000000;stroke-width:2.0px;stroke-linecap:butt;stroke-linejoin:miter;stroke-opacity:1\"/>\n",
       "<path class=\"bond-25 atom-25 atom-26\" d=\"M 445.4,297.3 L 434.1,305.1\" style=\"fill:none;fill-rule:evenodd;stroke:#000000;stroke-width:2.0px;stroke-linecap:butt;stroke-linejoin:miter;stroke-opacity:1\"/>\n",
       "<path class=\"bond-26 atom-26 atom-27\" d=\"M 434.1,305.1 L 421.7,299.2\" style=\"fill:none;fill-rule:evenodd;stroke:#000000;stroke-width:2.0px;stroke-linecap:butt;stroke-linejoin:miter;stroke-opacity:1\"/>\n",
       "<path class=\"bond-26 atom-26 atom-27\" d=\"M 432.2,306.4 L 421.9,301.6\" style=\"fill:none;fill-rule:evenodd;stroke:#000000;stroke-width:2.0px;stroke-linecap:butt;stroke-linejoin:miter;stroke-opacity:1\"/>\n",
       "<path class=\"bond-27 atom-27 atom-28\" d=\"M 421.7,299.2 L 410.4,307.0\" style=\"fill:none;fill-rule:evenodd;stroke:#000000;stroke-width:2.0px;stroke-linecap:butt;stroke-linejoin:miter;stroke-opacity:1\"/>\n",
       "<path class=\"bond-28 atom-28 atom-29\" d=\"M 410.4,307.0 L 411.5,320.7\" style=\"fill:none;fill-rule:evenodd;stroke:#000000;stroke-width:2.0px;stroke-linecap:butt;stroke-linejoin:miter;stroke-opacity:1\"/>\n",
       "<path class=\"bond-28 atom-28 atom-29\" d=\"M 412.6,308.0 L 413.5,319.3\" style=\"fill:none;fill-rule:evenodd;stroke:#000000;stroke-width:2.0px;stroke-linecap:butt;stroke-linejoin:miter;stroke-opacity:1\"/>\n",
       "<path class=\"bond-29 atom-29 atom-30\" d=\"M 411.5,320.7 L 423.9,326.6\" style=\"fill:none;fill-rule:evenodd;stroke:#000000;stroke-width:2.0px;stroke-linecap:butt;stroke-linejoin:miter;stroke-opacity:1\"/>\n",
       "<path class=\"bond-30 atom-30 atom-31\" d=\"M 423.9,326.6 L 435.2,318.8\" style=\"fill:none;fill-rule:evenodd;stroke:#000000;stroke-width:2.0px;stroke-linecap:butt;stroke-linejoin:miter;stroke-opacity:1\"/>\n",
       "<path class=\"bond-30 atom-30 atom-31\" d=\"M 423.7,324.2 L 433.1,317.8\" style=\"fill:none;fill-rule:evenodd;stroke:#000000;stroke-width:2.0px;stroke-linecap:butt;stroke-linejoin:miter;stroke-opacity:1\"/>\n",
       "<path class=\"bond-31 atom-25 atom-32\" d=\"M 445.4,297.3 L 445.8,283.6\" style=\"fill:none;fill-rule:evenodd;stroke:#000000;stroke-width:2.0px;stroke-linecap:butt;stroke-linejoin:miter;stroke-opacity:1\"/>\n",
       "<path class=\"bond-31 atom-25 atom-32\" d=\"M 447.5,295.9 L 447.8,285.2\" style=\"fill:none;fill-rule:evenodd;stroke:#000000;stroke-width:2.0px;stroke-linecap:butt;stroke-linejoin:miter;stroke-opacity:1\"/>\n",
       "<path class=\"bond-32 atom-32 atom-33\" d=\"M 445.8,283.6 L 451.5,281.9\" style=\"fill:none;fill-rule:evenodd;stroke:#000000;stroke-width:2.0px;stroke-linecap:butt;stroke-linejoin:miter;stroke-opacity:1\"/>\n",
       "<path class=\"bond-32 atom-32 atom-33\" d=\"M 451.5,281.9 L 457.1,280.2\" style=\"fill:none;fill-rule:evenodd;stroke:#CCCC00;stroke-width:2.0px;stroke-linecap:butt;stroke-linejoin:miter;stroke-opacity:1\"/>\n",
       "<path class=\"bond-33 atom-21 atom-4\" d=\"M 526.6,307.0 L 523.8,311.6\" style=\"fill:none;fill-rule:evenodd;stroke:#0000FF;stroke-width:2.0px;stroke-linecap:butt;stroke-linejoin:miter;stroke-opacity:1\"/>\n",
       "<path class=\"bond-33 atom-21 atom-4\" d=\"M 523.8,311.6 L 521.0,316.1\" style=\"fill:none;fill-rule:evenodd;stroke:#000000;stroke-width:2.0px;stroke-linecap:butt;stroke-linejoin:miter;stroke-opacity:1\"/>\n",
       "<path class=\"bond-34 atom-33 atom-23\" d=\"M 460.7,282.3 L 463.7,286.7\" style=\"fill:none;fill-rule:evenodd;stroke:#CCCC00;stroke-width:2.0px;stroke-linecap:butt;stroke-linejoin:miter;stroke-opacity:1\"/>\n",
       "<path class=\"bond-34 atom-33 atom-23\" d=\"M 463.7,286.7 L 466.7,291.0\" style=\"fill:none;fill-rule:evenodd;stroke:#000000;stroke-width:2.0px;stroke-linecap:butt;stroke-linejoin:miter;stroke-opacity:1\"/>\n",
       "<path class=\"bond-35 atom-13 atom-8\" d=\"M 569.3,305.5 L 562.1,317.2\" style=\"fill:none;fill-rule:evenodd;stroke:#000000;stroke-width:2.0px;stroke-linecap:butt;stroke-linejoin:miter;stroke-opacity:1\"/>\n",
       "<path class=\"bond-36 atom-20 atom-15\" d=\"M 542.5,281.0 L 549.0,293.1\" style=\"fill:none;fill-rule:evenodd;stroke:#000000;stroke-width:2.0px;stroke-linecap:butt;stroke-linejoin:miter;stroke-opacity:1\"/>\n",
       "<path class=\"bond-37 atom-31 atom-26\" d=\"M 435.2,318.8 L 434.1,305.1\" style=\"fill:none;fill-rule:evenodd;stroke:#000000;stroke-width:2.0px;stroke-linecap:butt;stroke-linejoin:miter;stroke-opacity:1\"/>\n",
       "<path d=\"M 487.7,303.4 L 487.0,303.4 L 486.9,303.2\" style=\"fill:none;stroke:#000000;stroke-width:2.0px;stroke-linecap:butt;stroke-linejoin:miter;stroke-opacity:1;\"/>\n",
       "<path d=\"M 500.0,303.7 L 500.7,303.7 L 500.8,304.0\" style=\"fill:none;stroke:#000000;stroke-width:2.0px;stroke-linecap:butt;stroke-linejoin:miter;stroke-opacity:1;\"/>\n",
       "<path d=\"M 568.4,328.6 L 568.7,329.2 L 569.4,329.3\" style=\"fill:none;stroke:#000000;stroke-width:2.0px;stroke-linecap:butt;stroke-linejoin:miter;stroke-opacity:1;\"/>\n",
       "<path d=\"M 581.7,329.6 L 582.4,329.6 L 582.8,329.0\" style=\"fill:none;stroke:#000000;stroke-width:2.0px;stroke-linecap:butt;stroke-linejoin:miter;stroke-opacity:1;\"/>\n",
       "<path d=\"M 589.2,318.5 L 589.6,317.9 L 589.2,317.3\" style=\"fill:none;stroke:#000000;stroke-width:2.0px;stroke-linecap:butt;stroke-linejoin:miter;stroke-opacity:1;\"/>\n",
       "<path d=\"M 583.3,306.4 L 583.0,305.8 L 582.3,305.8\" style=\"fill:none;stroke:#000000;stroke-width:2.0px;stroke-linecap:butt;stroke-linejoin:miter;stroke-opacity:1;\"/>\n",
       "<path d=\"M 570.0,305.5 L 569.3,305.5 L 568.9,306.1\" style=\"fill:none;stroke:#000000;stroke-width:2.0px;stroke-linecap:butt;stroke-linejoin:miter;stroke-opacity:1;\"/>\n",
       "<path d=\"M 562.0,293.4 L 562.7,293.4 L 563.1,292.8\" style=\"fill:none;stroke:#000000;stroke-width:2.0px;stroke-linecap:butt;stroke-linejoin:miter;stroke-opacity:1;\"/>\n",
       "<path d=\"M 569.5,282.3 L 569.9,281.7 L 569.6,281.1\" style=\"fill:none;stroke:#000000;stroke-width:2.0px;stroke-linecap:butt;stroke-linejoin:miter;stroke-opacity:1;\"/>\n",
       "<path d=\"M 563.7,270.3 L 563.3,269.7 L 562.6,269.7\" style=\"fill:none;stroke:#000000;stroke-width:2.0px;stroke-linecap:butt;stroke-linejoin:miter;stroke-opacity:1;\"/>\n",
       "<path d=\"M 550.3,269.3 L 549.6,269.3 L 549.3,269.9\" style=\"fill:none;stroke:#000000;stroke-width:2.0px;stroke-linecap:butt;stroke-linejoin:miter;stroke-opacity:1;\"/>\n",
       "<path d=\"M 542.8,280.4 L 542.5,281.0 L 542.8,281.6\" style=\"fill:none;stroke:#000000;stroke-width:2.0px;stroke-linecap:butt;stroke-linejoin:miter;stroke-opacity:1;\"/>\n",
       "<path d=\"M 422.4,299.5 L 421.7,299.2 L 421.2,299.6\" style=\"fill:none;stroke:#000000;stroke-width:2.0px;stroke-linecap:butt;stroke-linejoin:miter;stroke-opacity:1;\"/>\n",
       "<path d=\"M 411.0,306.6 L 410.4,307.0 L 410.5,307.7\" style=\"fill:none;stroke:#000000;stroke-width:2.0px;stroke-linecap:butt;stroke-linejoin:miter;stroke-opacity:1;\"/>\n",
       "<path d=\"M 411.5,320.0 L 411.5,320.7 L 412.2,321.0\" style=\"fill:none;stroke:#000000;stroke-width:2.0px;stroke-linecap:butt;stroke-linejoin:miter;stroke-opacity:1;\"/>\n",
       "<path d=\"M 423.3,326.3 L 423.9,326.6 L 424.5,326.2\" style=\"fill:none;stroke:#000000;stroke-width:2.0px;stroke-linecap:butt;stroke-linejoin:miter;stroke-opacity:1;\"/>\n",
       "<path d=\"M 434.7,319.2 L 435.2,318.8 L 435.2,318.1\" style=\"fill:none;stroke:#000000;stroke-width:2.0px;stroke-linecap:butt;stroke-linejoin:miter;stroke-opacity:1;\"/>\n",
       "<path d=\"M 445.8,284.3 L 445.8,283.6 L 446.1,283.5\" style=\"fill:none;stroke:#000000;stroke-width:2.0px;stroke-linecap:butt;stroke-linejoin:miter;stroke-opacity:1;\"/>\n",
       "<path class=\"atom-0\" d=\"M 477.9 315.1 Q 477.9 314.1, 478.4 313.5 Q 478.9 313.0, 479.8 313.0 Q 480.8 313.0, 481.3 313.5 Q 481.8 314.1, 481.8 315.1 Q 481.8 316.1, 481.3 316.7 Q 480.8 317.3, 479.8 317.3 Q 478.9 317.3, 478.4 316.7 Q 477.9 316.2, 477.9 315.1 M 479.8 316.8 Q 480.5 316.8, 480.8 316.4 Q 481.2 316.0, 481.2 315.1 Q 481.2 314.3, 480.8 313.9 Q 480.5 313.4, 479.8 313.4 Q 479.2 313.4, 478.8 313.9 Q 478.5 314.3, 478.5 315.1 Q 478.5 316.0, 478.8 316.4 Q 479.2 316.8, 479.8 316.8 \" fill=\"#FF0000\"/>\n",
       "<path class=\"atom-3\" d=\"M 506.1 317.3 Q 506.1 317.3, 506.3 317.4 Q 506.5 317.4, 506.7 317.5 Q 506.9 317.5, 507.2 317.5 Q 507.6 317.5, 507.8 317.4 Q 508.0 317.2, 508.0 316.8 Q 508.0 316.6, 507.9 316.4 Q 507.8 316.3, 507.6 316.2 Q 507.4 316.1, 507.1 316.0 Q 506.8 315.9, 506.5 315.8 Q 506.3 315.7, 506.1 315.5 Q 506.0 315.3, 506.0 314.9 Q 506.0 314.3, 506.3 314.0 Q 506.7 313.7, 507.4 313.7 Q 507.9 313.7, 508.5 313.9 L 508.3 314.4 Q 507.8 314.2, 507.5 314.2 Q 507.0 314.2, 506.8 314.3 Q 506.6 314.5, 506.6 314.8 Q 506.6 315.0, 506.7 315.2 Q 506.8 315.3, 507.0 315.4 Q 507.2 315.5, 507.5 315.6 Q 507.8 315.7, 508.1 315.8 Q 508.3 315.9, 508.5 316.2 Q 508.6 316.4, 508.6 316.8 Q 508.6 317.4, 508.2 317.7 Q 507.8 318.0, 507.2 318.0 Q 506.8 318.0, 506.5 317.9 Q 506.2 317.9, 505.9 317.7 L 506.1 317.3 \" fill=\"#CCCC00\"/>\n",
       "<path class=\"atom-5\" d=\"M 526.6 326.1 L 528.0 328.3 Q 528.1 328.5, 528.3 328.9 Q 528.6 329.4, 528.6 329.4 L 528.6 326.1 L 529.1 326.1 L 529.1 330.3 L 528.6 330.3 L 527.1 327.9 Q 526.9 327.6, 526.7 327.2 Q 526.5 326.9, 526.5 326.8 L 526.5 330.3 L 525.9 330.3 L 525.9 326.1 L 526.6 326.1 \" fill=\"#0000FF\"/>\n",
       "<path class=\"atom-6\" d=\"M 540.3 326.4 L 541.7 328.7 Q 541.8 328.9, 542.1 329.3 Q 542.3 329.7, 542.3 329.7 L 542.3 326.4 L 542.9 326.4 L 542.9 330.7 L 542.3 330.7 L 540.8 328.2 Q 540.6 327.9, 540.4 327.6 Q 540.2 327.3, 540.2 327.2 L 540.2 330.7 L 539.6 330.7 L 539.6 326.4 L 540.3 326.4 \" fill=\"#0000FF\"/>\n",
       "<path class=\"atom-21\" d=\"M 527.2 302.3 L 528.6 304.6 Q 528.7 304.8, 528.9 305.2 Q 529.2 305.6, 529.2 305.6 L 529.2 302.3 L 529.7 302.3 L 529.7 306.6 L 529.2 306.6 L 527.7 304.1 Q 527.5 303.8, 527.3 303.5 Q 527.1 303.2, 527.1 303.1 L 527.1 306.6 L 526.5 306.6 L 526.5 302.3 L 527.2 302.3 \" fill=\"#0000FF\"/>\n",
       "<path class=\"atom-22\" d=\"M 479.5 289.2 L 480.9 291.5 Q 481.0 291.7, 481.2 292.1 Q 481.5 292.5, 481.5 292.5 L 481.5 289.2 L 482.0 289.2 L 482.0 293.5 L 481.5 293.5 L 480.0 291.0 Q 479.8 290.7, 479.6 290.4 Q 479.4 290.1, 479.4 290.0 L 479.4 293.5 L 478.8 293.5 L 478.8 289.2 L 479.5 289.2 \" fill=\"#0000FF\"/>\n",
       "<path class=\"atom-22\" d=\"M 482.9 289.2 L 483.4 289.2 L 483.4 291.0 L 485.6 291.0 L 485.6 289.2 L 486.2 289.2 L 486.2 293.5 L 485.6 293.5 L 485.6 291.5 L 483.4 291.5 L 483.4 293.5 L 482.9 293.5 L 482.9 289.2 \" fill=\"#0000FF\"/>\n",
       "<path class=\"atom-24\" d=\"M 457.4 299.8 L 458.8 302.0 Q 459.0 302.2, 459.2 302.6 Q 459.4 303.0, 459.4 303.1 L 459.4 299.8 L 460.0 299.8 L 460.0 304.0 L 459.4 304.0 L 457.9 301.6 Q 457.7 301.3, 457.5 300.9 Q 457.4 300.6, 457.3 300.5 L 457.3 304.0 L 456.8 304.0 L 456.8 299.8 L 457.4 299.8 \" fill=\"#0000FF\"/>\n",
       "<path class=\"atom-33\" d=\"M 457.7 281.2 Q 457.8 281.2, 458.0 281.3 Q 458.2 281.3, 458.4 281.4 Q 458.6 281.4, 458.8 281.4 Q 459.2 281.4, 459.5 281.3 Q 459.7 281.1, 459.7 280.7 Q 459.7 280.5, 459.6 280.3 Q 459.5 280.2, 459.3 280.1 Q 459.1 280.0, 458.8 279.9 Q 458.4 279.8, 458.2 279.7 Q 458.0 279.6, 457.8 279.4 Q 457.7 279.2, 457.7 278.8 Q 457.7 278.2, 458.0 277.9 Q 458.4 277.6, 459.1 277.6 Q 459.6 277.6, 460.2 277.8 L 460.0 278.3 Q 459.5 278.1, 459.1 278.1 Q 458.7 278.1, 458.5 278.2 Q 458.3 278.4, 458.3 278.7 Q 458.3 278.9, 458.4 279.1 Q 458.5 279.2, 458.7 279.3 Q 458.8 279.4, 459.1 279.5 Q 459.5 279.6, 459.7 279.7 Q 460.0 279.8, 460.1 280.1 Q 460.3 280.3, 460.3 280.7 Q 460.3 281.3, 459.9 281.6 Q 459.5 281.9, 458.9 281.9 Q 458.5 281.9, 458.2 281.8 Q 457.9 281.8, 457.6 281.6 L 457.7 281.2 \" fill=\"#CCCC00\"/>\n",
       "<path class=\"bond-0 atom-0 atom-1\" d=\"M 657.0,302.1 L 663.8,290.2\" style=\"fill:none;fill-rule:evenodd;stroke:#000000;stroke-width:2.0px;stroke-linecap:butt;stroke-linejoin:miter;stroke-opacity:1\"/>\n",
       "<path class=\"bond-0 atom-0 atom-1\" d=\"M 659.4,302.1 L 665.0,292.3\" style=\"fill:none;fill-rule:evenodd;stroke:#000000;stroke-width:2.0px;stroke-linecap:butt;stroke-linejoin:miter;stroke-opacity:1\"/>\n",
       "<path class=\"bond-1 atom-1 atom-2\" d=\"M 663.8,290.2 L 677.6,290.2\" style=\"fill:none;fill-rule:evenodd;stroke:#000000;stroke-width:2.0px;stroke-linecap:butt;stroke-linejoin:miter;stroke-opacity:1\"/>\n",
       "<path class=\"bond-2 atom-2 atom-3\" d=\"M 677.6,290.2 L 684.4,302.1\" style=\"fill:none;fill-rule:evenodd;stroke:#000000;stroke-width:2.0px;stroke-linecap:butt;stroke-linejoin:miter;stroke-opacity:1\"/>\n",
       "<path class=\"bond-2 atom-2 atom-3\" d=\"M 676.4,292.3 L 682.0,302.1\" style=\"fill:none;fill-rule:evenodd;stroke:#000000;stroke-width:2.0px;stroke-linecap:butt;stroke-linejoin:miter;stroke-opacity:1\"/>\n",
       "<path class=\"bond-3 atom-3 atom-4\" d=\"M 684.4,302.1 L 698.1,302.1\" style=\"fill:none;fill-rule:evenodd;stroke:#000000;stroke-width:2.0px;stroke-linecap:butt;stroke-linejoin:miter;stroke-opacity:1\"/>\n",
       "<path class=\"bond-4 atom-4 atom-5\" d=\"M 698.1,302.1 L 701.2,306.3\" style=\"fill:none;fill-rule:evenodd;stroke:#000000;stroke-width:2.0px;stroke-linecap:butt;stroke-linejoin:miter;stroke-opacity:1\"/>\n",
       "<path class=\"bond-4 atom-4 atom-5\" d=\"M 701.2,306.3 L 704.3,310.6\" style=\"fill:none;fill-rule:evenodd;stroke:#0000FF;stroke-width:2.0px;stroke-linecap:butt;stroke-linejoin:miter;stroke-opacity:1\"/>\n",
       "<path class=\"bond-4 atom-4 atom-5\" d=\"M 700.7,302.1 L 703.3,305.7\" style=\"fill:none;fill-rule:evenodd;stroke:#000000;stroke-width:2.0px;stroke-linecap:butt;stroke-linejoin:miter;stroke-opacity:1\"/>\n",
       "<path class=\"bond-4 atom-4 atom-5\" d=\"M 703.3,305.7 L 706.0,309.4\" style=\"fill:none;fill-rule:evenodd;stroke:#0000FF;stroke-width:2.0px;stroke-linecap:butt;stroke-linejoin:miter;stroke-opacity:1\"/>\n",
       "<path class=\"bond-5 atom-5 atom-6\" d=\"M 708.3,312.5 L 713.8,310.7\" style=\"fill:none;fill-rule:evenodd;stroke:#0000FF;stroke-width:2.0px;stroke-linecap:butt;stroke-linejoin:miter;stroke-opacity:1\"/>\n",
       "<path class=\"bond-5 atom-5 atom-6\" d=\"M 713.8,310.7 L 719.3,308.9\" style=\"fill:none;fill-rule:evenodd;stroke:#000000;stroke-width:2.0px;stroke-linecap:butt;stroke-linejoin:miter;stroke-opacity:1\"/>\n",
       "<path class=\"bond-6 atom-6 atom-7\" d=\"M 719.3,308.9 L 731.1,315.8\" style=\"fill:none;fill-rule:evenodd;stroke:#000000;stroke-width:2.0px;stroke-linecap:butt;stroke-linejoin:miter;stroke-opacity:1\"/>\n",
       "<path class=\"bond-6 atom-6 atom-7\" d=\"M 721.3,307.8 L 731.1,313.4\" style=\"fill:none;fill-rule:evenodd;stroke:#000000;stroke-width:2.0px;stroke-linecap:butt;stroke-linejoin:miter;stroke-opacity:1\"/>\n",
       "<path class=\"bond-7 atom-7 atom-8\" d=\"M 731.1,315.8 L 743.0,308.9\" style=\"fill:none;fill-rule:evenodd;stroke:#000000;stroke-width:2.0px;stroke-linecap:butt;stroke-linejoin:miter;stroke-opacity:1\"/>\n",
       "<path class=\"bond-8 atom-8 atom-9\" d=\"M 743.0,308.9 L 743.0,295.2\" style=\"fill:none;fill-rule:evenodd;stroke:#000000;stroke-width:2.0px;stroke-linecap:butt;stroke-linejoin:miter;stroke-opacity:1\"/>\n",
       "<path class=\"bond-8 atom-8 atom-9\" d=\"M 741.0,307.8 L 741.0,296.4\" style=\"fill:none;fill-rule:evenodd;stroke:#000000;stroke-width:2.0px;stroke-linecap:butt;stroke-linejoin:miter;stroke-opacity:1\"/>\n",
       "<path class=\"bond-9 atom-9 atom-10\" d=\"M 743.0,295.2 L 731.1,288.4\" style=\"fill:none;fill-rule:evenodd;stroke:#000000;stroke-width:2.0px;stroke-linecap:butt;stroke-linejoin:miter;stroke-opacity:1\"/>\n",
       "<path class=\"bond-10 atom-10 atom-11\" d=\"M 731.1,288.4 L 719.3,295.2\" style=\"fill:none;fill-rule:evenodd;stroke:#000000;stroke-width:2.0px;stroke-linecap:butt;stroke-linejoin:miter;stroke-opacity:1\"/>\n",
       "<path class=\"bond-10 atom-10 atom-11\" d=\"M 731.1,290.7 L 721.3,296.4\" style=\"fill:none;fill-rule:evenodd;stroke:#000000;stroke-width:2.0px;stroke-linecap:butt;stroke-linejoin:miter;stroke-opacity:1\"/>\n",
       "<path class=\"bond-11 atom-11 atom-12\" d=\"M 719.3,295.2 L 713.8,293.4\" style=\"fill:none;fill-rule:evenodd;stroke:#000000;stroke-width:2.0px;stroke-linecap:butt;stroke-linejoin:miter;stroke-opacity:1\"/>\n",
       "<path class=\"bond-11 atom-11 atom-12\" d=\"M 713.8,293.4 L 708.3,291.7\" style=\"fill:none;fill-rule:evenodd;stroke:#0000FF;stroke-width:2.0px;stroke-linecap:butt;stroke-linejoin:miter;stroke-opacity:1\"/>\n",
       "<path class=\"bond-12 atom-3 atom-13\" d=\"M 684.4,302.1 L 677.6,314.0\" style=\"fill:none;fill-rule:evenodd;stroke:#000000;stroke-width:2.0px;stroke-linecap:butt;stroke-linejoin:miter;stroke-opacity:1\"/>\n",
       "<path class=\"bond-13 atom-13 atom-14\" d=\"M 677.6,314.0 L 663.8,314.0\" style=\"fill:none;fill-rule:evenodd;stroke:#000000;stroke-width:2.0px;stroke-linecap:butt;stroke-linejoin:miter;stroke-opacity:1\"/>\n",
       "<path class=\"bond-13 atom-13 atom-14\" d=\"M 676.4,311.9 L 665.0,311.9\" style=\"fill:none;fill-rule:evenodd;stroke:#000000;stroke-width:2.0px;stroke-linecap:butt;stroke-linejoin:miter;stroke-opacity:1\"/>\n",
       "<path class=\"bond-14 atom-14 atom-0\" d=\"M 663.8,314.0 L 657.0,302.1\" style=\"fill:none;fill-rule:evenodd;stroke:#000000;stroke-width:2.0px;stroke-linecap:butt;stroke-linejoin:miter;stroke-opacity:1\"/>\n",
       "<path class=\"bond-15 atom-12 atom-4\" d=\"M 704.3,293.6 L 701.2,297.8\" style=\"fill:none;fill-rule:evenodd;stroke:#0000FF;stroke-width:2.0px;stroke-linecap:butt;stroke-linejoin:miter;stroke-opacity:1\"/>\n",
       "<path class=\"bond-15 atom-12 atom-4\" d=\"M 701.2,297.8 L 698.1,302.1\" style=\"fill:none;fill-rule:evenodd;stroke:#000000;stroke-width:2.0px;stroke-linecap:butt;stroke-linejoin:miter;stroke-opacity:1\"/>\n",
       "<path class=\"bond-16 atom-11 atom-6\" d=\"M 719.3,295.2 L 719.3,308.9\" style=\"fill:none;fill-rule:evenodd;stroke:#000000;stroke-width:2.0px;stroke-linecap:butt;stroke-linejoin:miter;stroke-opacity:1\"/>\n",
       "<path d=\"M 657.3,301.5 L 657.0,302.1 L 657.3,302.7\" style=\"fill:none;stroke:#000000;stroke-width:2.0px;stroke-linecap:butt;stroke-linejoin:miter;stroke-opacity:1;\"/>\n",
       "<path d=\"M 663.5,290.8 L 663.8,290.2 L 664.5,290.2\" style=\"fill:none;stroke:#000000;stroke-width:2.0px;stroke-linecap:butt;stroke-linejoin:miter;stroke-opacity:1;\"/>\n",
       "<path d=\"M 676.9,290.2 L 677.6,290.2 L 677.9,290.8\" style=\"fill:none;stroke:#000000;stroke-width:2.0px;stroke-linecap:butt;stroke-linejoin:miter;stroke-opacity:1;\"/>\n",
       "<path d=\"M 730.5,315.5 L 731.1,315.8 L 731.7,315.5\" style=\"fill:none;stroke:#000000;stroke-width:2.0px;stroke-linecap:butt;stroke-linejoin:miter;stroke-opacity:1;\"/>\n",
       "<path d=\"M 742.4,309.3 L 743.0,308.9 L 743.0,308.3\" style=\"fill:none;stroke:#000000;stroke-width:2.0px;stroke-linecap:butt;stroke-linejoin:miter;stroke-opacity:1;\"/>\n",
       "<path d=\"M 743.0,295.9 L 743.0,295.2 L 742.4,294.9\" style=\"fill:none;stroke:#000000;stroke-width:2.0px;stroke-linecap:butt;stroke-linejoin:miter;stroke-opacity:1;\"/>\n",
       "<path d=\"M 731.7,288.7 L 731.1,288.4 L 730.5,288.7\" style=\"fill:none;stroke:#000000;stroke-width:2.0px;stroke-linecap:butt;stroke-linejoin:miter;stroke-opacity:1;\"/>\n",
       "<path d=\"M 677.9,313.4 L 677.6,314.0 L 676.9,314.0\" style=\"fill:none;stroke:#000000;stroke-width:2.0px;stroke-linecap:butt;stroke-linejoin:miter;stroke-opacity:1;\"/>\n",
       "<path d=\"M 664.5,314.0 L 663.8,314.0 L 663.5,313.4\" style=\"fill:none;stroke:#000000;stroke-width:2.0px;stroke-linecap:butt;stroke-linejoin:miter;stroke-opacity:1;\"/>\n",
       "<path class=\"atom-5\" d=\"M 705.3 311.1 L 706.7 313.3 Q 706.8 313.5, 707.0 313.9 Q 707.2 314.3, 707.3 314.4 L 707.3 311.1 L 707.8 311.1 L 707.8 315.3 L 707.2 315.3 L 705.7 312.9 Q 705.6 312.6, 705.4 312.2 Q 705.2 311.9, 705.1 311.8 L 705.1 315.3 L 704.6 315.3 L 704.6 311.1 L 705.3 311.1 \" fill=\"#0000FF\"/>\n",
       "<path class=\"atom-12\" d=\"M 705.3 288.9 L 706.7 291.1 Q 706.8 291.3, 707.0 291.7 Q 707.2 292.1, 707.3 292.2 L 707.3 288.9 L 707.8 288.9 L 707.8 293.1 L 707.2 293.1 L 705.7 290.7 Q 705.6 290.4, 705.4 290.0 Q 705.2 289.7, 705.1 289.6 L 705.1 293.1 L 704.6 293.1 L 704.6 288.9 L 705.3 288.9 \" fill=\"#0000FF\"/>\n",
       "<path class=\"atom-12\" d=\"M 704.5 284.2 L 705.1 284.2 L 705.1 286.0 L 707.3 286.0 L 707.3 284.2 L 707.9 284.2 L 707.9 288.4 L 707.3 288.4 L 707.3 286.5 L 705.1 286.5 L 705.1 288.4 L 704.5 288.4 L 704.5 284.2 \" fill=\"#0000FF\"/>\n",
       "<path class=\"bond-0 atom-0 atom-1\" d=\"M 880.7,320.3 L 883.6,315.5\" style=\"fill:none;fill-rule:evenodd;stroke:#FF0000;stroke-width:2.0px;stroke-linecap:butt;stroke-linejoin:miter;stroke-opacity:1\"/>\n",
       "<path class=\"bond-0 atom-0 atom-1\" d=\"M 883.6,315.5 L 886.6,310.7\" style=\"fill:none;fill-rule:evenodd;stroke:#000000;stroke-width:2.0px;stroke-linecap:butt;stroke-linejoin:miter;stroke-opacity:1\"/>\n",
       "<path class=\"bond-0 atom-0 atom-1\" d=\"M 882.5,321.4 L 885.4,316.6\" style=\"fill:none;fill-rule:evenodd;stroke:#FF0000;stroke-width:2.0px;stroke-linecap:butt;stroke-linejoin:miter;stroke-opacity:1\"/>\n",
       "<path class=\"bond-0 atom-0 atom-1\" d=\"M 885.4,316.6 L 888.3,311.8\" style=\"fill:none;fill-rule:evenodd;stroke:#000000;stroke-width:2.0px;stroke-linecap:butt;stroke-linejoin:miter;stroke-opacity:1\"/>\n",
       "<path class=\"bond-1 atom-1 atom-2\" d=\"M 887.2,311.7 L 884.6,307.0\" style=\"fill:none;fill-rule:evenodd;stroke:#000000;stroke-width:2.0px;stroke-linecap:butt;stroke-linejoin:miter;stroke-opacity:1\"/>\n",
       "<path class=\"bond-1 atom-1 atom-2\" d=\"M 884.6,307.0 L 882.0,302.2\" style=\"fill:none;fill-rule:evenodd;stroke:#0000FF;stroke-width:2.0px;stroke-linecap:butt;stroke-linejoin:miter;stroke-opacity:1\"/>\n",
       "<path class=\"bond-2 atom-2 atom-3\" d=\"M 878.5,299.6 L 868.9,299.4\" style=\"fill:none;fill-rule:evenodd;stroke:#0000FF;stroke-width:2.0px;stroke-linecap:butt;stroke-linejoin:miter;stroke-opacity:1\"/>\n",
       "<path class=\"bond-3 atom-3 atom-4\" d=\"M 865.5,296.7 L 862.9,292.0\" style=\"fill:none;fill-rule:evenodd;stroke:#0000FF;stroke-width:2.0px;stroke-linecap:butt;stroke-linejoin:miter;stroke-opacity:1\"/>\n",
       "<path class=\"bond-3 atom-3 atom-4\" d=\"M 862.9,292.0 L 860.3,287.3\" style=\"fill:none;fill-rule:evenodd;stroke:#000000;stroke-width:2.0px;stroke-linecap:butt;stroke-linejoin:miter;stroke-opacity:1\"/>\n",
       "<path class=\"bond-3 atom-3 atom-4\" d=\"M 867.3,295.8 L 864.7,291.0\" style=\"fill:none;fill-rule:evenodd;stroke:#0000FF;stroke-width:2.0px;stroke-linecap:butt;stroke-linejoin:miter;stroke-opacity:1\"/>\n",
       "<path class=\"bond-3 atom-3 atom-4\" d=\"M 864.7,291.0 L 862.1,286.3\" style=\"fill:none;fill-rule:evenodd;stroke:#000000;stroke-width:2.0px;stroke-linecap:butt;stroke-linejoin:miter;stroke-opacity:1\"/>\n",
       "<path class=\"bond-4 atom-4 atom-5\" d=\"M 860.3,287.3 L 846.6,286.9\" style=\"fill:none;fill-rule:evenodd;stroke:#000000;stroke-width:2.0px;stroke-linecap:butt;stroke-linejoin:miter;stroke-opacity:1\"/>\n",
       "<path class=\"bond-5 atom-5 atom-6\" d=\"M 846.6,286.9 L 840.0,274.9\" style=\"fill:none;fill-rule:evenodd;stroke:#000000;stroke-width:2.0px;stroke-linecap:butt;stroke-linejoin:miter;stroke-opacity:1\"/>\n",
       "<path class=\"bond-5 atom-5 atom-6\" d=\"M 844.2,286.9 L 838.8,276.9\" style=\"fill:none;fill-rule:evenodd;stroke:#000000;stroke-width:2.0px;stroke-linecap:butt;stroke-linejoin:miter;stroke-opacity:1\"/>\n",
       "<path class=\"bond-6 atom-6 atom-7\" d=\"M 840.0,274.9 L 826.3,274.5\" style=\"fill:none;fill-rule:evenodd;stroke:#000000;stroke-width:2.0px;stroke-linecap:butt;stroke-linejoin:miter;stroke-opacity:1\"/>\n",
       "<path class=\"bond-7 atom-7 atom-8\" d=\"M 826.3,274.5 L 819.2,286.2\" style=\"fill:none;fill-rule:evenodd;stroke:#000000;stroke-width:2.0px;stroke-linecap:butt;stroke-linejoin:miter;stroke-opacity:1\"/>\n",
       "<path class=\"bond-7 atom-7 atom-8\" d=\"M 827.5,276.6 L 821.5,286.3\" style=\"fill:none;fill-rule:evenodd;stroke:#000000;stroke-width:2.0px;stroke-linecap:butt;stroke-linejoin:miter;stroke-opacity:1\"/>\n",
       "<path class=\"bond-8 atom-8 atom-9\" d=\"M 819.2,286.2 L 825.7,298.3\" style=\"fill:none;fill-rule:evenodd;stroke:#000000;stroke-width:2.0px;stroke-linecap:butt;stroke-linejoin:miter;stroke-opacity:1\"/>\n",
       "<path class=\"bond-9 atom-9 atom-10\" d=\"M 825.7,298.3 L 839.4,298.6\" style=\"fill:none;fill-rule:evenodd;stroke:#000000;stroke-width:2.0px;stroke-linecap:butt;stroke-linejoin:miter;stroke-opacity:1\"/>\n",
       "<path class=\"bond-9 atom-9 atom-10\" d=\"M 827.0,296.3 L 838.3,296.5\" style=\"fill:none;fill-rule:evenodd;stroke:#000000;stroke-width:2.0px;stroke-linecap:butt;stroke-linejoin:miter;stroke-opacity:1\"/>\n",
       "<path class=\"bond-10 atom-1 atom-11\" d=\"M 887.2,311.7 L 900.9,312.1\" style=\"fill:none;fill-rule:evenodd;stroke:#000000;stroke-width:2.0px;stroke-linecap:butt;stroke-linejoin:miter;stroke-opacity:1\"/>\n",
       "<path class=\"bond-11 atom-11 atom-12\" d=\"M 900.9,312.1 L 904.1,307.9\" style=\"fill:none;fill-rule:evenodd;stroke:#000000;stroke-width:2.0px;stroke-linecap:butt;stroke-linejoin:miter;stroke-opacity:1\"/>\n",
       "<path class=\"bond-11 atom-11 atom-12\" d=\"M 904.1,307.9 L 907.2,303.8\" style=\"fill:none;fill-rule:evenodd;stroke:#0000FF;stroke-width:2.0px;stroke-linecap:butt;stroke-linejoin:miter;stroke-opacity:1\"/>\n",
       "<path class=\"bond-11 atom-11 atom-12\" d=\"M 903.4,312.1 L 906.1,308.6\" style=\"fill:none;fill-rule:evenodd;stroke:#000000;stroke-width:2.0px;stroke-linecap:butt;stroke-linejoin:miter;stroke-opacity:1\"/>\n",
       "<path class=\"bond-11 atom-11 atom-12\" d=\"M 906.1,308.6 L 908.9,305.0\" style=\"fill:none;fill-rule:evenodd;stroke:#0000FF;stroke-width:2.0px;stroke-linecap:butt;stroke-linejoin:miter;stroke-opacity:1\"/>\n",
       "<path class=\"bond-12 atom-12 atom-13\" d=\"M 911.3,301.9 L 916.7,303.8\" style=\"fill:none;fill-rule:evenodd;stroke:#0000FF;stroke-width:2.0px;stroke-linecap:butt;stroke-linejoin:miter;stroke-opacity:1\"/>\n",
       "<path class=\"bond-12 atom-12 atom-13\" d=\"M 916.7,303.8 L 922.1,305.7\" style=\"fill:none;fill-rule:evenodd;stroke:#000000;stroke-width:2.0px;stroke-linecap:butt;stroke-linejoin:miter;stroke-opacity:1\"/>\n",
       "<path class=\"bond-13 atom-13 atom-14\" d=\"M 922.1,305.7 L 933.4,298.0\" style=\"fill:none;fill-rule:evenodd;stroke:#000000;stroke-width:2.0px;stroke-linecap:butt;stroke-linejoin:miter;stroke-opacity:1\"/>\n",
       "<path class=\"bond-14 atom-14 atom-15\" d=\"M 933.4,298.0 L 945.8,303.9\" style=\"fill:none;fill-rule:evenodd;stroke:#000000;stroke-width:2.0px;stroke-linecap:butt;stroke-linejoin:miter;stroke-opacity:1\"/>\n",
       "<path class=\"bond-14 atom-14 atom-15\" d=\"M 935.4,296.6 L 945.6,301.5\" style=\"fill:none;fill-rule:evenodd;stroke:#000000;stroke-width:2.0px;stroke-linecap:butt;stroke-linejoin:miter;stroke-opacity:1\"/>\n",
       "<path class=\"bond-15 atom-15 atom-16\" d=\"M 945.8,303.9 L 957.1,296.1\" style=\"fill:none;fill-rule:evenodd;stroke:#000000;stroke-width:2.0px;stroke-linecap:butt;stroke-linejoin:miter;stroke-opacity:1\"/>\n",
       "<path class=\"bond-16 atom-16 atom-17\" d=\"M 957.1,296.1 L 969.5,302.0\" style=\"fill:none;fill-rule:evenodd;stroke:#000000;stroke-width:2.0px;stroke-linecap:butt;stroke-linejoin:miter;stroke-opacity:1\"/>\n",
       "<path class=\"bond-16 atom-16 atom-17\" d=\"M 959.1,294.7 L 969.3,299.6\" style=\"fill:none;fill-rule:evenodd;stroke:#000000;stroke-width:2.0px;stroke-linecap:butt;stroke-linejoin:miter;stroke-opacity:1\"/>\n",
       "<path class=\"bond-17 atom-17 atom-18\" d=\"M 969.5,302.0 L 980.8,294.2\" style=\"fill:none;fill-rule:evenodd;stroke:#000000;stroke-width:2.0px;stroke-linecap:butt;stroke-linejoin:miter;stroke-opacity:1\"/>\n",
       "<path class=\"bond-18 atom-18 atom-19\" d=\"M 980.8,294.2 L 979.7,280.5\" style=\"fill:none;fill-rule:evenodd;stroke:#000000;stroke-width:2.0px;stroke-linecap:butt;stroke-linejoin:miter;stroke-opacity:1\"/>\n",
       "<path class=\"bond-18 atom-18 atom-19\" d=\"M 978.7,293.2 L 977.8,281.9\" style=\"fill:none;fill-rule:evenodd;stroke:#000000;stroke-width:2.0px;stroke-linecap:butt;stroke-linejoin:miter;stroke-opacity:1\"/>\n",
       "<path class=\"bond-19 atom-19 atom-20\" d=\"M 979.7,280.5 L 967.3,274.6\" style=\"fill:none;fill-rule:evenodd;stroke:#000000;stroke-width:2.0px;stroke-linecap:butt;stroke-linejoin:miter;stroke-opacity:1\"/>\n",
       "<path class=\"bond-20 atom-20 atom-21\" d=\"M 967.3,274.6 L 956.0,282.4\" style=\"fill:none;fill-rule:evenodd;stroke:#000000;stroke-width:2.0px;stroke-linecap:butt;stroke-linejoin:miter;stroke-opacity:1\"/>\n",
       "<path class=\"bond-20 atom-20 atom-21\" d=\"M 967.5,277.0 L 958.2,283.4\" style=\"fill:none;fill-rule:evenodd;stroke:#000000;stroke-width:2.0px;stroke-linecap:butt;stroke-linejoin:miter;stroke-opacity:1\"/>\n",
       "<path class=\"bond-21 atom-21 atom-22\" d=\"M 956.0,282.4 L 951.1,280.0\" style=\"fill:none;fill-rule:evenodd;stroke:#000000;stroke-width:2.0px;stroke-linecap:butt;stroke-linejoin:miter;stroke-opacity:1\"/>\n",
       "<path class=\"bond-21 atom-21 atom-22\" d=\"M 951.1,280.0 L 946.1,277.7\" style=\"fill:none;fill-rule:evenodd;stroke:#FF0000;stroke-width:2.0px;stroke-linecap:butt;stroke-linejoin:miter;stroke-opacity:1\"/>\n",
       "<path class=\"bond-22 atom-22 atom-23\" d=\"M 941.3,278.2 L 936.8,281.2\" style=\"fill:none;fill-rule:evenodd;stroke:#FF0000;stroke-width:2.0px;stroke-linecap:butt;stroke-linejoin:miter;stroke-opacity:1\"/>\n",
       "<path class=\"bond-22 atom-22 atom-23\" d=\"M 936.8,281.2 L 932.4,284.3\" style=\"fill:none;fill-rule:evenodd;stroke:#000000;stroke-width:2.0px;stroke-linecap:butt;stroke-linejoin:miter;stroke-opacity:1\"/>\n",
       "<path class=\"bond-23 atom-23 atom-24\" d=\"M 933.3,283.6 L 928.1,281.1\" style=\"fill:none;fill-rule:evenodd;stroke:#000000;stroke-width:2.0px;stroke-linecap:butt;stroke-linejoin:miter;stroke-opacity:1\"/>\n",
       "<path class=\"bond-23 atom-23 atom-24\" d=\"M 928.1,281.1 L 922.8,278.6\" style=\"fill:none;fill-rule:evenodd;stroke:#FF0000;stroke-width:2.0px;stroke-linecap:butt;stroke-linejoin:miter;stroke-opacity:1\"/>\n",
       "<path class=\"bond-23 atom-23 atom-24\" d=\"M 932.5,285.5 L 927.2,283.0\" style=\"fill:none;fill-rule:evenodd;stroke:#000000;stroke-width:2.0px;stroke-linecap:butt;stroke-linejoin:miter;stroke-opacity:1\"/>\n",
       "<path class=\"bond-23 atom-23 atom-24\" d=\"M 927.2,283.0 L 921.9,280.5\" style=\"fill:none;fill-rule:evenodd;stroke:#FF0000;stroke-width:2.0px;stroke-linecap:butt;stroke-linejoin:miter;stroke-opacity:1\"/>\n",
       "<path class=\"bond-24 atom-13 atom-25\" d=\"M 922.1,305.7 L 921.8,319.5\" style=\"fill:none;fill-rule:evenodd;stroke:#000000;stroke-width:2.0px;stroke-linecap:butt;stroke-linejoin:miter;stroke-opacity:1\"/>\n",
       "<path class=\"bond-24 atom-13 atom-25\" d=\"M 920.1,307.2 L 919.8,317.9\" style=\"fill:none;fill-rule:evenodd;stroke:#000000;stroke-width:2.0px;stroke-linecap:butt;stroke-linejoin:miter;stroke-opacity:1\"/>\n",
       "<path class=\"bond-25 atom-25 atom-26\" d=\"M 921.8,319.5 L 916.1,321.1\" style=\"fill:none;fill-rule:evenodd;stroke:#000000;stroke-width:2.0px;stroke-linecap:butt;stroke-linejoin:miter;stroke-opacity:1\"/>\n",
       "<path class=\"bond-25 atom-25 atom-26\" d=\"M 916.1,321.1 L 910.5,322.8\" style=\"fill:none;fill-rule:evenodd;stroke:#CCCC00;stroke-width:2.0px;stroke-linecap:butt;stroke-linejoin:miter;stroke-opacity:1\"/>\n",
       "<path class=\"bond-26 atom-10 atom-5\" d=\"M 839.4,298.6 L 846.6,286.9\" style=\"fill:none;fill-rule:evenodd;stroke:#000000;stroke-width:2.0px;stroke-linecap:butt;stroke-linejoin:miter;stroke-opacity:1\"/>\n",
       "<path class=\"bond-27 atom-26 atom-11\" d=\"M 906.9,320.8 L 903.9,316.4\" style=\"fill:none;fill-rule:evenodd;stroke:#CCCC00;stroke-width:2.0px;stroke-linecap:butt;stroke-linejoin:miter;stroke-opacity:1\"/>\n",
       "<path class=\"bond-27 atom-26 atom-11\" d=\"M 903.9,316.4 L 900.9,312.1\" style=\"fill:none;fill-rule:evenodd;stroke:#000000;stroke-width:2.0px;stroke-linecap:butt;stroke-linejoin:miter;stroke-opacity:1\"/>\n",
       "<path class=\"bond-28 atom-23 atom-14\" d=\"M 932.4,284.3 L 933.4,298.0\" style=\"fill:none;fill-rule:evenodd;stroke:#000000;stroke-width:2.0px;stroke-linecap:butt;stroke-linejoin:miter;stroke-opacity:1\"/>\n",
       "<path class=\"bond-29 atom-21 atom-16\" d=\"M 956.0,282.4 L 957.1,296.1\" style=\"fill:none;fill-rule:evenodd;stroke:#000000;stroke-width:2.0px;stroke-linecap:butt;stroke-linejoin:miter;stroke-opacity:1\"/>\n",
       "<path d=\"M 887.0,311.5 L 887.2,311.7 L 887.8,311.7\" style=\"fill:none;stroke:#000000;stroke-width:2.0px;stroke-linecap:butt;stroke-linejoin:miter;stroke-opacity:1;\"/>\n",
       "<path d=\"M 860.4,287.5 L 860.3,287.3 L 859.6,287.3\" style=\"fill:none;stroke:#000000;stroke-width:2.0px;stroke-linecap:butt;stroke-linejoin:miter;stroke-opacity:1;\"/>\n",
       "<path d=\"M 840.4,275.5 L 840.0,274.9 L 839.4,274.9\" style=\"fill:none;stroke:#000000;stroke-width:2.0px;stroke-linecap:butt;stroke-linejoin:miter;stroke-opacity:1;\"/>\n",
       "<path d=\"M 827.0,274.5 L 826.3,274.5 L 826.0,275.1\" style=\"fill:none;stroke:#000000;stroke-width:2.0px;stroke-linecap:butt;stroke-linejoin:miter;stroke-opacity:1;\"/>\n",
       "<path d=\"M 819.5,285.6 L 819.2,286.2 L 819.5,286.8\" style=\"fill:none;stroke:#000000;stroke-width:2.0px;stroke-linecap:butt;stroke-linejoin:miter;stroke-opacity:1;\"/>\n",
       "<path d=\"M 825.4,297.7 L 825.7,298.3 L 826.4,298.3\" style=\"fill:none;stroke:#000000;stroke-width:2.0px;stroke-linecap:butt;stroke-linejoin:miter;stroke-opacity:1;\"/>\n",
       "<path d=\"M 838.8,298.6 L 839.4,298.6 L 839.8,298.0\" style=\"fill:none;stroke:#000000;stroke-width:2.0px;stroke-linecap:butt;stroke-linejoin:miter;stroke-opacity:1;\"/>\n",
       "<path d=\"M 945.2,303.6 L 945.8,303.9 L 946.4,303.5\" style=\"fill:none;stroke:#000000;stroke-width:2.0px;stroke-linecap:butt;stroke-linejoin:miter;stroke-opacity:1;\"/>\n",
       "<path d=\"M 968.9,301.7 L 969.5,302.0 L 970.1,301.6\" style=\"fill:none;stroke:#000000;stroke-width:2.0px;stroke-linecap:butt;stroke-linejoin:miter;stroke-opacity:1;\"/>\n",
       "<path d=\"M 980.3,294.6 L 980.8,294.2 L 980.8,293.5\" style=\"fill:none;stroke:#000000;stroke-width:2.0px;stroke-linecap:butt;stroke-linejoin:miter;stroke-opacity:1;\"/>\n",
       "<path d=\"M 979.8,281.2 L 979.7,280.5 L 979.1,280.2\" style=\"fill:none;stroke:#000000;stroke-width:2.0px;stroke-linecap:butt;stroke-linejoin:miter;stroke-opacity:1;\"/>\n",
       "<path d=\"M 968.0,274.9 L 967.3,274.6 L 966.8,275.0\" style=\"fill:none;stroke:#000000;stroke-width:2.0px;stroke-linecap:butt;stroke-linejoin:miter;stroke-opacity:1;\"/>\n",
       "<path d=\"M 932.6,284.1 L 932.4,284.3 L 932.4,285.0\" style=\"fill:none;stroke:#000000;stroke-width:2.0px;stroke-linecap:butt;stroke-linejoin:miter;stroke-opacity:1;\"/>\n",
       "<path d=\"M 921.8,318.8 L 921.8,319.5 L 921.5,319.5\" style=\"fill:none;stroke:#000000;stroke-width:2.0px;stroke-linecap:butt;stroke-linejoin:miter;stroke-opacity:1;\"/>\n",
       "<path class=\"atom-0\" d=\"M 878.0 323.4 Q 878.0 322.4, 878.5 321.8 Q 879.1 321.3, 880.0 321.3 Q 880.9 321.3, 881.4 321.8 Q 881.9 322.4, 881.9 323.4 Q 881.9 324.5, 881.4 325.1 Q 880.9 325.6, 880.0 325.6 Q 879.1 325.6, 878.5 325.1 Q 878.0 324.5, 878.0 323.4 M 880.0 325.2 Q 880.6 325.2, 881.0 324.7 Q 881.3 324.3, 881.3 323.4 Q 881.3 322.6, 881.0 322.2 Q 880.6 321.8, 880.0 321.8 Q 879.3 321.8, 879.0 322.2 Q 878.6 322.6, 878.6 323.4 Q 878.6 324.3, 879.0 324.7 Q 879.3 325.2, 880.0 325.2 \" fill=\"#FF0000\"/>\n",
       "<path class=\"atom-2\" d=\"M 879.7 297.5 L 881.0 299.8 Q 881.2 300.0, 881.4 300.4 Q 881.6 300.8, 881.6 300.8 L 881.6 297.5 L 882.2 297.5 L 882.2 301.8 L 881.6 301.8 L 880.1 299.3 Q 880.0 299.0, 879.8 298.7 Q 879.6 298.4, 879.5 298.3 L 879.5 301.8 L 879.0 301.8 L 879.0 297.5 L 879.7 297.5 \" fill=\"#0000FF\"/>\n",
       "<path class=\"atom-2\" d=\"M 883.0 297.5 L 883.6 297.5 L 883.6 299.4 L 885.8 299.4 L 885.8 297.5 L 886.4 297.5 L 886.4 301.8 L 885.8 301.8 L 885.8 299.8 L 883.6 299.8 L 883.6 301.8 L 883.0 301.8 L 883.0 297.5 \" fill=\"#0000FF\"/>\n",
       "<path class=\"atom-3\" d=\"M 865.9 297.2 L 867.3 299.4 Q 867.5 299.7, 867.7 300.1 Q 867.9 300.5, 867.9 300.5 L 867.9 297.2 L 868.5 297.2 L 868.5 301.4 L 867.9 301.4 L 866.4 299.0 Q 866.2 298.7, 866.1 298.4 Q 865.9 298.0, 865.8 297.9 L 865.8 301.4 L 865.3 301.4 L 865.3 297.2 L 865.9 297.2 \" fill=\"#0000FF\"/>\n",
       "<path class=\"atom-12\" d=\"M 908.3 299.1 L 909.7 301.3 Q 909.8 301.5, 910.0 301.9 Q 910.2 302.3, 910.3 302.4 L 910.3 299.1 L 910.8 299.1 L 910.8 303.3 L 910.2 303.3 L 908.7 300.8 Q 908.6 300.6, 908.4 300.2 Q 908.2 299.9, 908.2 299.8 L 908.2 303.3 L 907.6 303.3 L 907.6 299.1 L 908.3 299.1 \" fill=\"#0000FF\"/>\n",
       "<path class=\"atom-22\" d=\"M 941.7 276.5 Q 941.7 275.5, 942.2 274.9 Q 942.7 274.4, 943.7 274.4 Q 944.6 274.4, 945.1 274.9 Q 945.6 275.5, 945.6 276.5 Q 945.6 277.6, 945.1 278.1 Q 944.6 278.7, 943.7 278.7 Q 942.7 278.7, 942.2 278.1 Q 941.7 277.6, 941.7 276.5 M 943.7 278.2 Q 944.3 278.2, 944.7 277.8 Q 945.0 277.4, 945.0 276.5 Q 945.0 275.7, 944.7 275.3 Q 944.3 274.8, 943.7 274.8 Q 943.0 274.8, 942.7 275.3 Q 942.3 275.7, 942.3 276.5 Q 942.3 277.4, 942.7 277.8 Q 943.0 278.2, 943.7 278.2 \" fill=\"#FF0000\"/>\n",
       "<path class=\"atom-24\" d=\"M 918.0 278.4 Q 918.0 277.4, 918.5 276.8 Q 919.0 276.2, 920.0 276.2 Q 920.9 276.2, 921.4 276.8 Q 921.9 277.4, 921.9 278.4 Q 921.9 279.4, 921.4 280.0 Q 920.9 280.6, 920.0 280.6 Q 919.0 280.6, 918.5 280.0 Q 918.0 279.4, 918.0 278.4 M 920.0 280.1 Q 920.6 280.1, 921.0 279.7 Q 921.3 279.3, 921.3 278.4 Q 921.3 277.6, 921.0 277.2 Q 920.6 276.7, 920.0 276.7 Q 919.3 276.7, 919.0 277.1 Q 918.6 277.6, 918.6 278.4 Q 918.6 279.3, 919.0 279.7 Q 919.3 280.1, 920.0 280.1 \" fill=\"#FF0000\"/>\n",
       "<path class=\"atom-26\" d=\"M 907.4 324.8 Q 907.5 324.8, 907.7 324.9 Q 907.9 325.0, 908.1 325.1 Q 908.3 325.1, 908.5 325.1 Q 908.9 325.1, 909.2 324.9 Q 909.4 324.7, 909.4 324.4 Q 909.4 324.2, 909.3 324.0 Q 909.2 323.9, 909.0 323.8 Q 908.8 323.7, 908.5 323.6 Q 908.1 323.5, 907.9 323.4 Q 907.7 323.3, 907.5 323.1 Q 907.4 322.8, 907.4 322.4 Q 907.4 321.9, 907.7 321.6 Q 908.1 321.3, 908.8 321.3 Q 909.3 321.3, 909.9 321.5 L 909.7 321.9 Q 909.2 321.7, 908.8 321.7 Q 908.4 321.7, 908.2 321.9 Q 908.0 322.1, 908.0 322.4 Q 908.0 322.6, 908.1 322.7 Q 908.2 322.9, 908.4 323.0 Q 908.6 323.0, 908.8 323.1 Q 909.2 323.2, 909.5 323.4 Q 909.7 323.5, 909.8 323.7 Q 910.0 324.0, 910.0 324.4 Q 910.0 325.0, 909.6 325.3 Q 909.2 325.6, 908.6 325.6 Q 908.2 325.6, 907.9 325.5 Q 907.6 325.4, 907.3 325.3 L 907.4 324.8 \" fill=\"#CCCC00\"/>\n",
       "<path class=\"bond-0 atom-0 atom-1\" d=\"M 117.5,529.9 L 115.6,524.4\" style=\"fill:none;fill-rule:evenodd;stroke:#FF0000;stroke-width:2.0px;stroke-linecap:butt;stroke-linejoin:miter;stroke-opacity:1\"/>\n",
       "<path class=\"bond-0 atom-0 atom-1\" d=\"M 115.6,524.4 L 113.7,519.0\" style=\"fill:none;fill-rule:evenodd;stroke:#000000;stroke-width:2.0px;stroke-linecap:butt;stroke-linejoin:miter;stroke-opacity:1\"/>\n",
       "<path class=\"bond-0 atom-0 atom-1\" d=\"M 119.5,529.2 L 117.5,523.8\" style=\"fill:none;fill-rule:evenodd;stroke:#FF0000;stroke-width:2.0px;stroke-linecap:butt;stroke-linejoin:miter;stroke-opacity:1\"/>\n",
       "<path class=\"bond-0 atom-0 atom-1\" d=\"M 117.5,523.8 L 115.6,518.3\" style=\"fill:none;fill-rule:evenodd;stroke:#000000;stroke-width:2.0px;stroke-linecap:butt;stroke-linejoin:miter;stroke-opacity:1\"/>\n",
       "<path class=\"bond-1 atom-1 atom-2\" d=\"M 114.8,519.2 L 118.2,515.2\" style=\"fill:none;fill-rule:evenodd;stroke:#000000;stroke-width:2.0px;stroke-linecap:butt;stroke-linejoin:miter;stroke-opacity:1\"/>\n",
       "<path class=\"bond-1 atom-1 atom-2\" d=\"M 118.2,515.2 L 121.7,511.2\" style=\"fill:none;fill-rule:evenodd;stroke:#0000FF;stroke-width:2.0px;stroke-linecap:butt;stroke-linejoin:miter;stroke-opacity:1\"/>\n",
       "<path class=\"bond-2 atom-2 atom-3\" d=\"M 125.8,509.2 L 135.2,510.9\" style=\"fill:none;fill-rule:evenodd;stroke:#0000FF;stroke-width:2.0px;stroke-linecap:butt;stroke-linejoin:miter;stroke-opacity:1\"/>\n",
       "<path class=\"bond-3 atom-3 atom-4\" d=\"M 139.3,508.8 L 142.7,504.8\" style=\"fill:none;fill-rule:evenodd;stroke:#0000FF;stroke-width:2.0px;stroke-linecap:butt;stroke-linejoin:miter;stroke-opacity:1\"/>\n",
       "<path class=\"bond-3 atom-3 atom-4\" d=\"M 142.7,504.8 L 146.1,500.8\" style=\"fill:none;fill-rule:evenodd;stroke:#000000;stroke-width:2.0px;stroke-linecap:butt;stroke-linejoin:miter;stroke-opacity:1\"/>\n",
       "<path class=\"bond-4 atom-4 atom-5\" d=\"M 147.3,501.0 L 145.4,495.6\" style=\"fill:none;fill-rule:evenodd;stroke:#000000;stroke-width:2.0px;stroke-linecap:butt;stroke-linejoin:miter;stroke-opacity:1\"/>\n",
       "<path class=\"bond-4 atom-4 atom-5\" d=\"M 145.4,495.6 L 143.5,490.2\" style=\"fill:none;fill-rule:evenodd;stroke:#CCCC00;stroke-width:2.0px;stroke-linecap:butt;stroke-linejoin:miter;stroke-opacity:1\"/>\n",
       "<path class=\"bond-4 atom-4 atom-5\" d=\"M 145.3,501.7 L 143.4,496.3\" style=\"fill:none;fill-rule:evenodd;stroke:#000000;stroke-width:2.0px;stroke-linecap:butt;stroke-linejoin:miter;stroke-opacity:1\"/>\n",
       "<path class=\"bond-4 atom-4 atom-5\" d=\"M 143.4,496.3 L 141.5,490.9\" style=\"fill:none;fill-rule:evenodd;stroke:#CCCC00;stroke-width:2.0px;stroke-linecap:butt;stroke-linejoin:miter;stroke-opacity:1\"/>\n",
       "<path class=\"bond-5 atom-4 atom-6\" d=\"M 146.1,500.8 L 151.8,501.9\" style=\"fill:none;fill-rule:evenodd;stroke:#000000;stroke-width:2.0px;stroke-linecap:butt;stroke-linejoin:miter;stroke-opacity:1\"/>\n",
       "<path class=\"bond-5 atom-4 atom-6\" d=\"M 151.8,501.9 L 157.5,502.9\" style=\"fill:none;fill-rule:evenodd;stroke:#0000FF;stroke-width:2.0px;stroke-linecap:butt;stroke-linejoin:miter;stroke-opacity:1\"/>\n",
       "<path class=\"bond-6 atom-6 atom-7\" d=\"M 161.7,500.9 L 165.1,496.9\" style=\"fill:none;fill-rule:evenodd;stroke:#0000FF;stroke-width:2.0px;stroke-linecap:butt;stroke-linejoin:miter;stroke-opacity:1\"/>\n",
       "<path class=\"bond-6 atom-6 atom-7\" d=\"M 165.1,496.9 L 168.5,492.9\" style=\"fill:none;fill-rule:evenodd;stroke:#000000;stroke-width:2.0px;stroke-linecap:butt;stroke-linejoin:miter;stroke-opacity:1\"/>\n",
       "<path class=\"bond-7 atom-7 atom-8\" d=\"M 168.5,492.9 L 182.0,495.4\" style=\"fill:none;fill-rule:evenodd;stroke:#000000;stroke-width:2.0px;stroke-linecap:butt;stroke-linejoin:miter;stroke-opacity:1\"/>\n",
       "<path class=\"bond-7 atom-7 atom-8\" d=\"M 170.1,491.1 L 181.2,493.1\" style=\"fill:none;fill-rule:evenodd;stroke:#000000;stroke-width:2.0px;stroke-linecap:butt;stroke-linejoin:miter;stroke-opacity:1\"/>\n",
       "<path class=\"bond-8 atom-8 atom-9\" d=\"M 182.0,495.4 L 190.9,484.9\" style=\"fill:none;fill-rule:evenodd;stroke:#000000;stroke-width:2.0px;stroke-linecap:butt;stroke-linejoin:miter;stroke-opacity:1\"/>\n",
       "<path class=\"bond-9 atom-9 atom-10\" d=\"M 190.9,484.9 L 186.3,472.0\" style=\"fill:none;fill-rule:evenodd;stroke:#000000;stroke-width:2.0px;stroke-linecap:butt;stroke-linejoin:miter;stroke-opacity:1\"/>\n",
       "<path class=\"bond-9 atom-9 atom-10\" d=\"M 188.6,484.5 L 184.8,473.8\" style=\"fill:none;fill-rule:evenodd;stroke:#000000;stroke-width:2.0px;stroke-linecap:butt;stroke-linejoin:miter;stroke-opacity:1\"/>\n",
       "<path class=\"bond-10 atom-10 atom-11\" d=\"M 186.3,472.0 L 172.8,469.5\" style=\"fill:none;fill-rule:evenodd;stroke:#000000;stroke-width:2.0px;stroke-linecap:butt;stroke-linejoin:miter;stroke-opacity:1\"/>\n",
       "<path class=\"bond-11 atom-11 atom-12\" d=\"M 172.8,469.5 L 163.9,479.9\" style=\"fill:none;fill-rule:evenodd;stroke:#000000;stroke-width:2.0px;stroke-linecap:butt;stroke-linejoin:miter;stroke-opacity:1\"/>\n",
       "<path class=\"bond-11 atom-11 atom-12\" d=\"M 173.6,471.7 L 166.3,480.4\" style=\"fill:none;fill-rule:evenodd;stroke:#000000;stroke-width:2.0px;stroke-linecap:butt;stroke-linejoin:miter;stroke-opacity:1\"/>\n",
       "<path class=\"bond-12 atom-1 atom-13\" d=\"M 114.8,519.2 L 101.3,516.7\" style=\"fill:none;fill-rule:evenodd;stroke:#000000;stroke-width:2.0px;stroke-linecap:butt;stroke-linejoin:miter;stroke-opacity:1\"/>\n",
       "<path class=\"bond-13 atom-13 atom-14\" d=\"M 101.3,516.7 L 96.7,503.8\" style=\"fill:none;fill-rule:evenodd;stroke:#000000;stroke-width:2.0px;stroke-linecap:butt;stroke-linejoin:miter;stroke-opacity:1\"/>\n",
       "<path class=\"bond-13 atom-13 atom-14\" d=\"M 99.0,516.3 L 95.2,505.6\" style=\"fill:none;fill-rule:evenodd;stroke:#000000;stroke-width:2.0px;stroke-linecap:butt;stroke-linejoin:miter;stroke-opacity:1\"/>\n",
       "<path class=\"bond-14 atom-14 atom-15\" d=\"M 96.7,503.8 L 83.2,501.3\" style=\"fill:none;fill-rule:evenodd;stroke:#000000;stroke-width:2.0px;stroke-linecap:butt;stroke-linejoin:miter;stroke-opacity:1\"/>\n",
       "<path class=\"bond-15 atom-15 atom-16\" d=\"M 83.2,501.3 L 74.3,511.8\" style=\"fill:none;fill-rule:evenodd;stroke:#000000;stroke-width:2.0px;stroke-linecap:butt;stroke-linejoin:miter;stroke-opacity:1\"/>\n",
       "<path class=\"bond-15 atom-15 atom-16\" d=\"M 84.0,503.6 L 76.7,512.2\" style=\"fill:none;fill-rule:evenodd;stroke:#000000;stroke-width:2.0px;stroke-linecap:butt;stroke-linejoin:miter;stroke-opacity:1\"/>\n",
       "<path class=\"bond-16 atom-16 atom-17\" d=\"M 74.3,511.8 L 60.9,509.3\" style=\"fill:none;fill-rule:evenodd;stroke:#000000;stroke-width:2.0px;stroke-linecap:butt;stroke-linejoin:miter;stroke-opacity:1\"/>\n",
       "<path class=\"bond-17 atom-17 atom-18\" d=\"M 60.9,509.3 L 56.9,513.0\" style=\"fill:none;fill-rule:evenodd;stroke:#000000;stroke-width:2.0px;stroke-linecap:butt;stroke-linejoin:miter;stroke-opacity:1\"/>\n",
       "<path class=\"bond-17 atom-17 atom-18\" d=\"M 56.9,513.0 L 53.0,516.8\" style=\"fill:none;fill-rule:evenodd;stroke:#0000FF;stroke-width:2.0px;stroke-linecap:butt;stroke-linejoin:miter;stroke-opacity:1\"/>\n",
       "<path class=\"bond-17 atom-17 atom-18\" d=\"M 58.4,508.8 L 55.0,512.0\" style=\"fill:none;fill-rule:evenodd;stroke:#000000;stroke-width:2.0px;stroke-linecap:butt;stroke-linejoin:miter;stroke-opacity:1\"/>\n",
       "<path class=\"bond-17 atom-17 atom-18\" d=\"M 55.0,512.0 L 51.6,515.3\" style=\"fill:none;fill-rule:evenodd;stroke:#0000FF;stroke-width:2.0px;stroke-linecap:butt;stroke-linejoin:miter;stroke-opacity:1\"/>\n",
       "<path class=\"bond-18 atom-18 atom-19\" d=\"M 48.8,517.6 L 40.9,513.3\" style=\"fill:none;fill-rule:evenodd;stroke:#0000FF;stroke-width:2.0px;stroke-linecap:butt;stroke-linejoin:miter;stroke-opacity:1\"/>\n",
       "<path class=\"bond-19 atom-19 atom-20\" d=\"M 39.3,509.6 L 40.3,504.1\" style=\"fill:none;fill-rule:evenodd;stroke:#0000FF;stroke-width:2.0px;stroke-linecap:butt;stroke-linejoin:miter;stroke-opacity:1\"/>\n",
       "<path class=\"bond-19 atom-19 atom-20\" d=\"M 40.3,504.1 L 41.3,498.7\" style=\"fill:none;fill-rule:evenodd;stroke:#000000;stroke-width:2.0px;stroke-linecap:butt;stroke-linejoin:miter;stroke-opacity:1\"/>\n",
       "<path class=\"bond-19 atom-19 atom-20\" d=\"M 41.3,510.0 L 42.2,505.3\" style=\"fill:none;fill-rule:evenodd;stroke:#0000FF;stroke-width:2.0px;stroke-linecap:butt;stroke-linejoin:miter;stroke-opacity:1\"/>\n",
       "<path class=\"bond-19 atom-19 atom-20\" d=\"M 42.2,505.3 L 43.1,500.5\" style=\"fill:none;fill-rule:evenodd;stroke:#000000;stroke-width:2.0px;stroke-linecap:butt;stroke-linejoin:miter;stroke-opacity:1\"/>\n",
       "<path class=\"bond-20 atom-20 atom-21\" d=\"M 41.3,498.7 L 31.9,488.7\" style=\"fill:none;fill-rule:evenodd;stroke:#000000;stroke-width:2.0px;stroke-linecap:butt;stroke-linejoin:miter;stroke-opacity:1\"/>\n",
       "<path class=\"bond-21 atom-21 atom-22\" d=\"M 31.9,488.7 L 35.8,475.6\" style=\"fill:none;fill-rule:evenodd;stroke:#000000;stroke-width:2.0px;stroke-linecap:butt;stroke-linejoin:miter;stroke-opacity:1\"/>\n",
       "<path class=\"bond-21 atom-21 atom-22\" d=\"M 30.2,487.0 L 33.5,476.1\" style=\"fill:none;fill-rule:evenodd;stroke:#000000;stroke-width:2.0px;stroke-linecap:butt;stroke-linejoin:miter;stroke-opacity:1\"/>\n",
       "<path class=\"bond-22 atom-22 atom-23\" d=\"M 35.8,475.6 L 26.3,465.6\" style=\"fill:none;fill-rule:evenodd;stroke:#000000;stroke-width:2.0px;stroke-linecap:butt;stroke-linejoin:miter;stroke-opacity:1\"/>\n",
       "<path class=\"bond-23 atom-23 atom-24\" d=\"M 26.3,465.6 L 13.0,468.8\" style=\"fill:none;fill-rule:evenodd;stroke:#000000;stroke-width:2.0px;stroke-linecap:butt;stroke-linejoin:miter;stroke-opacity:1\"/>\n",
       "<path class=\"bond-23 atom-23 atom-24\" d=\"M 25.6,467.9 L 14.6,470.6\" style=\"fill:none;fill-rule:evenodd;stroke:#000000;stroke-width:2.0px;stroke-linecap:butt;stroke-linejoin:miter;stroke-opacity:1\"/>\n",
       "<path class=\"bond-24 atom-24 atom-25\" d=\"M 13.0,468.8 L 9.1,482.0\" style=\"fill:none;fill-rule:evenodd;stroke:#000000;stroke-width:2.0px;stroke-linecap:butt;stroke-linejoin:miter;stroke-opacity:1\"/>\n",
       "<path class=\"bond-25 atom-25 atom-26\" d=\"M 9.1,482.0 L 18.5,492.0\" style=\"fill:none;fill-rule:evenodd;stroke:#000000;stroke-width:2.0px;stroke-linecap:butt;stroke-linejoin:miter;stroke-opacity:1\"/>\n",
       "<path class=\"bond-25 atom-25 atom-26\" d=\"M 11.4,481.5 L 19.2,489.7\" style=\"fill:none;fill-rule:evenodd;stroke:#000000;stroke-width:2.0px;stroke-linecap:butt;stroke-linejoin:miter;stroke-opacity:1\"/>\n",
       "<path class=\"bond-26 atom-20 atom-27\" d=\"M 41.3,498.7 L 46.9,497.9\" style=\"fill:none;fill-rule:evenodd;stroke:#000000;stroke-width:2.0px;stroke-linecap:butt;stroke-linejoin:miter;stroke-opacity:1\"/>\n",
       "<path class=\"bond-26 atom-20 atom-27\" d=\"M 46.9,497.9 L 52.5,497.2\" style=\"fill:none;fill-rule:evenodd;stroke:#FF0000;stroke-width:2.0px;stroke-linecap:butt;stroke-linejoin:miter;stroke-opacity:1\"/>\n",
       "<path class=\"bond-27 atom-16 atom-28\" d=\"M 74.3,511.8 L 78.9,524.7\" style=\"fill:none;fill-rule:evenodd;stroke:#000000;stroke-width:2.0px;stroke-linecap:butt;stroke-linejoin:miter;stroke-opacity:1\"/>\n",
       "<path class=\"bond-28 atom-28 atom-29\" d=\"M 78.9,524.7 L 92.4,527.2\" style=\"fill:none;fill-rule:evenodd;stroke:#000000;stroke-width:2.0px;stroke-linecap:butt;stroke-linejoin:miter;stroke-opacity:1\"/>\n",
       "<path class=\"bond-28 atom-28 atom-29\" d=\"M 80.5,522.9 L 91.6,524.9\" style=\"fill:none;fill-rule:evenodd;stroke:#000000;stroke-width:2.0px;stroke-linecap:butt;stroke-linejoin:miter;stroke-opacity:1\"/>\n",
       "<path class=\"bond-29 atom-12 atom-7\" d=\"M 163.9,479.9 L 168.5,492.9\" style=\"fill:none;fill-rule:evenodd;stroke:#000000;stroke-width:2.0px;stroke-linecap:butt;stroke-linejoin:miter;stroke-opacity:1\"/>\n",
       "<path class=\"bond-30 atom-29 atom-13\" d=\"M 92.4,527.2 L 101.3,516.7\" style=\"fill:none;fill-rule:evenodd;stroke:#000000;stroke-width:2.0px;stroke-linecap:butt;stroke-linejoin:miter;stroke-opacity:1\"/>\n",
       "<path class=\"bond-31 atom-27 atom-17\" d=\"M 56.2,499.5 L 58.5,504.4\" style=\"fill:none;fill-rule:evenodd;stroke:#FF0000;stroke-width:2.0px;stroke-linecap:butt;stroke-linejoin:miter;stroke-opacity:1\"/>\n",
       "<path class=\"bond-31 atom-27 atom-17\" d=\"M 58.5,504.4 L 60.9,509.3\" style=\"fill:none;fill-rule:evenodd;stroke:#000000;stroke-width:2.0px;stroke-linecap:butt;stroke-linejoin:miter;stroke-opacity:1\"/>\n",
       "<path class=\"bond-32 atom-26 atom-21\" d=\"M 18.5,492.0 L 31.9,488.7\" style=\"fill:none;fill-rule:evenodd;stroke:#000000;stroke-width:2.0px;stroke-linecap:butt;stroke-linejoin:miter;stroke-opacity:1\"/>\n",
       "<path d=\"M 115.0,519.0 L 114.8,519.2 L 114.1,519.1\" style=\"fill:none;stroke:#000000;stroke-width:2.0px;stroke-linecap:butt;stroke-linejoin:miter;stroke-opacity:1;\"/>\n",
       "<path d=\"M 145.9,501.0 L 146.1,500.8 L 146.4,500.9\" style=\"fill:none;stroke:#000000;stroke-width:2.0px;stroke-linecap:butt;stroke-linejoin:miter;stroke-opacity:1;\"/>\n",
       "<path d=\"M 181.3,495.2 L 182.0,495.4 L 182.5,494.8\" style=\"fill:none;stroke:#000000;stroke-width:2.0px;stroke-linecap:butt;stroke-linejoin:miter;stroke-opacity:1;\"/>\n",
       "<path d=\"M 190.5,485.5 L 190.9,484.9 L 190.7,484.3\" style=\"fill:none;stroke:#000000;stroke-width:2.0px;stroke-linecap:butt;stroke-linejoin:miter;stroke-opacity:1;\"/>\n",
       "<path d=\"M 186.5,472.6 L 186.3,472.0 L 185.6,471.9\" style=\"fill:none;stroke:#000000;stroke-width:2.0px;stroke-linecap:butt;stroke-linejoin:miter;stroke-opacity:1;\"/>\n",
       "<path d=\"M 173.5,469.6 L 172.8,469.5 L 172.4,470.0\" style=\"fill:none;stroke:#000000;stroke-width:2.0px;stroke-linecap:butt;stroke-linejoin:miter;stroke-opacity:1;\"/>\n",
       "<path d=\"M 164.4,479.4 L 163.9,479.9 L 164.2,480.6\" style=\"fill:none;stroke:#000000;stroke-width:2.0px;stroke-linecap:butt;stroke-linejoin:miter;stroke-opacity:1;\"/>\n",
       "<path d=\"M 97.0,504.4 L 96.7,503.8 L 96.1,503.7\" style=\"fill:none;stroke:#000000;stroke-width:2.0px;stroke-linecap:butt;stroke-linejoin:miter;stroke-opacity:1;\"/>\n",
       "<path d=\"M 83.9,501.4 L 83.2,501.3 L 82.8,501.8\" style=\"fill:none;stroke:#000000;stroke-width:2.0px;stroke-linecap:butt;stroke-linejoin:miter;stroke-opacity:1;\"/>\n",
       "<path d=\"M 35.6,476.2 L 35.8,475.6 L 35.3,475.1\" style=\"fill:none;stroke:#000000;stroke-width:2.0px;stroke-linecap:butt;stroke-linejoin:miter;stroke-opacity:1;\"/>\n",
       "<path d=\"M 26.8,466.1 L 26.3,465.6 L 25.6,465.8\" style=\"fill:none;stroke:#000000;stroke-width:2.0px;stroke-linecap:butt;stroke-linejoin:miter;stroke-opacity:1;\"/>\n",
       "<path d=\"M 13.6,468.7 L 13.0,468.8 L 12.8,469.5\" style=\"fill:none;stroke:#000000;stroke-width:2.0px;stroke-linecap:butt;stroke-linejoin:miter;stroke-opacity:1;\"/>\n",
       "<path d=\"M 9.3,481.4 L 9.1,482.0 L 9.6,482.5\" style=\"fill:none;stroke:#000000;stroke-width:2.0px;stroke-linecap:butt;stroke-linejoin:miter;stroke-opacity:1;\"/>\n",
       "<path d=\"M 18.1,491.5 L 18.5,492.0 L 19.2,491.8\" style=\"fill:none;stroke:#000000;stroke-width:2.0px;stroke-linecap:butt;stroke-linejoin:miter;stroke-opacity:1;\"/>\n",
       "<path d=\"M 78.7,524.0 L 78.9,524.7 L 79.6,524.8\" style=\"fill:none;stroke:#000000;stroke-width:2.0px;stroke-linecap:butt;stroke-linejoin:miter;stroke-opacity:1;\"/>\n",
       "<path d=\"M 91.8,527.0 L 92.4,527.2 L 92.9,526.6\" style=\"fill:none;stroke:#000000;stroke-width:2.0px;stroke-linecap:butt;stroke-linejoin:miter;stroke-opacity:1;\"/>\n",
       "<path class=\"atom-0\" d=\"M 117.5 532.2 Q 117.5 531.1, 118.0 530.6 Q 118.5 530.0, 119.4 530.0 Q 120.4 530.0, 120.9 530.6 Q 121.4 531.1, 121.4 532.2 Q 121.4 533.2, 120.9 533.8 Q 120.3 534.4, 119.4 534.4 Q 118.5 534.4, 118.0 533.8 Q 117.5 533.2, 117.5 532.2 M 119.4 533.9 Q 120.1 533.9, 120.4 533.5 Q 120.8 533.0, 120.8 532.2 Q 120.8 531.3, 120.4 530.9 Q 120.1 530.5, 119.4 530.5 Q 118.8 530.5, 118.4 530.9 Q 118.1 531.3, 118.1 532.2 Q 118.1 533.0, 118.4 533.5 Q 118.8 533.9, 119.4 533.9 \" fill=\"#FF0000\"/>\n",
       "<path class=\"atom-2\" d=\"M 122.8 506.7 L 124.2 508.9 Q 124.3 509.1, 124.5 509.5 Q 124.8 509.9, 124.8 510.0 L 124.8 506.7 L 125.3 506.7 L 125.3 510.9 L 124.8 510.9 L 123.3 508.4 Q 123.1 508.2, 122.9 507.8 Q 122.7 507.5, 122.7 507.4 L 122.7 510.9 L 122.1 510.9 L 122.1 506.7 L 122.8 506.7 \" fill=\"#0000FF\"/>\n",
       "<path class=\"atom-2\" d=\"M 122.1 502.0 L 122.6 502.0 L 122.6 503.8 L 124.8 503.8 L 124.8 502.0 L 125.4 502.0 L 125.4 506.2 L 124.8 506.2 L 124.8 504.3 L 122.6 504.3 L 122.6 506.2 L 122.1 506.2 L 122.1 502.0 \" fill=\"#0000FF\"/>\n",
       "<path class=\"atom-3\" d=\"M 136.3 509.1 L 137.7 511.4 Q 137.8 511.6, 138.0 512.0 Q 138.3 512.4, 138.3 512.4 L 138.3 509.1 L 138.8 509.1 L 138.8 513.4 L 138.2 513.4 L 136.8 510.9 Q 136.6 510.6, 136.4 510.3 Q 136.2 510.0, 136.2 509.9 L 136.2 513.4 L 135.6 513.4 L 135.6 509.1 L 136.3 509.1 \" fill=\"#0000FF\"/>\n",
       "<path class=\"atom-3\" d=\"M 135.6 513.8 L 136.1 513.8 L 136.1 515.6 L 138.3 515.6 L 138.3 513.8 L 138.9 513.8 L 138.9 518.1 L 138.3 518.1 L 138.3 516.1 L 136.1 516.1 L 136.1 518.1 L 135.6 518.1 L 135.6 513.8 \" fill=\"#0000FF\"/>\n",
       "<path class=\"atom-5\" d=\"M 140.3 489.4 Q 140.4 489.4, 140.6 489.5 Q 140.8 489.5, 141.0 489.6 Q 141.2 489.6, 141.4 489.6 Q 141.8 489.6, 142.1 489.5 Q 142.3 489.3, 142.3 488.9 Q 142.3 488.7, 142.2 488.5 Q 142.1 488.4, 141.9 488.3 Q 141.7 488.2, 141.4 488.1 Q 141.0 488.0, 140.8 487.9 Q 140.6 487.8, 140.4 487.6 Q 140.3 487.4, 140.3 487.0 Q 140.3 486.4, 140.6 486.1 Q 141.0 485.8, 141.7 485.8 Q 142.2 485.8, 142.8 486.0 L 142.6 486.5 Q 142.1 486.3, 141.7 486.3 Q 141.3 486.3, 141.1 486.4 Q 140.9 486.6, 140.9 486.9 Q 140.9 487.1, 141.0 487.3 Q 141.1 487.4, 141.3 487.5 Q 141.4 487.6, 141.7 487.7 Q 142.1 487.8, 142.3 487.9 Q 142.6 488.0, 142.7 488.3 Q 142.9 488.5, 142.9 488.9 Q 142.9 489.5, 142.5 489.8 Q 142.1 490.1, 141.5 490.1 Q 141.1 490.1, 140.8 490.0 Q 140.5 490.0, 140.2 489.8 L 140.3 489.4 \" fill=\"#CCCC00\"/>\n",
       "<path class=\"atom-6\" d=\"M 158.7 501.2 L 160.1 503.4 Q 160.2 503.7, 160.4 504.1 Q 160.6 504.5, 160.7 504.5 L 160.7 501.2 L 161.2 501.2 L 161.2 505.4 L 160.6 505.4 L 159.1 503.0 Q 159.0 502.7, 158.8 502.4 Q 158.6 502.0, 158.6 501.9 L 158.6 505.4 L 158.0 505.4 L 158.0 501.2 L 158.7 501.2 \" fill=\"#0000FF\"/>\n",
       "<path class=\"atom-6\" d=\"M 157.9 505.9 L 158.5 505.9 L 158.5 507.7 L 160.7 507.7 L 160.7 505.9 L 161.3 505.9 L 161.3 510.1 L 160.7 510.1 L 160.7 508.2 L 158.5 508.2 L 158.5 510.1 L 157.9 510.1 L 157.9 505.9 \" fill=\"#0000FF\"/>\n",
       "<path class=\"atom-18\" d=\"M 50.0 516.6 L 51.4 518.8 Q 51.5 519.1, 51.7 519.5 Q 51.9 519.9, 52.0 519.9 L 52.0 516.6 L 52.5 516.6 L 52.5 520.8 L 51.9 520.8 L 50.4 518.4 Q 50.3 518.1, 50.1 517.8 Q 49.9 517.4, 49.8 517.3 L 49.8 520.8 L 49.3 520.8 L 49.3 516.6 L 50.0 516.6 \" fill=\"#0000FF\"/>\n",
       "<path class=\"atom-19\" d=\"M 37.9 510.1 L 39.3 512.3 Q 39.4 512.5, 39.7 512.9 Q 39.9 513.3, 39.9 513.4 L 39.9 510.1 L 40.5 510.1 L 40.5 514.3 L 39.9 514.3 L 38.4 511.8 Q 38.2 511.6, 38.0 511.2 Q 37.8 510.9, 37.8 510.8 L 37.8 514.3 L 37.2 514.3 L 37.2 510.1 L 37.9 510.1 \" fill=\"#0000FF\"/>\n",
       "<path class=\"atom-27\" d=\"M 53.0 496.9 Q 53.0 495.9, 53.5 495.3 Q 54.0 494.7, 54.9 494.7 Q 55.9 494.7, 56.4 495.3 Q 56.9 495.9, 56.9 496.9 Q 56.9 497.9, 56.4 498.5 Q 55.9 499.1, 54.9 499.1 Q 54.0 499.1, 53.5 498.5 Q 53.0 497.9, 53.0 496.9 M 54.9 498.6 Q 55.6 498.6, 55.9 498.2 Q 56.3 497.7, 56.3 496.9 Q 56.3 496.1, 55.9 495.6 Q 55.6 495.2, 54.9 495.2 Q 54.3 495.2, 53.9 495.6 Q 53.6 496.1, 53.6 496.9 Q 53.6 497.8, 53.9 498.2 Q 54.3 498.6, 54.9 498.6 \" fill=\"#FF0000\"/>\n",
       "</svg>"
      ],
      "text/plain": [
       "<IPython.core.display.SVG object>"
      ]
     },
     "execution_count": 37,
     "metadata": {},
     "output_type": "execute_result"
    }
   ],
   "source": [
    "import pandas as pd\n",
    "from rdkit import Chem\n",
    "from rdkit.Chem import Draw\n",
    "\n",
    "# 读取 CSV 文件，确保第一列被读作字符串\n",
    "csv_file = 'murcko_summarize.csv'  # 替换为你的文件路径\n",
    "data = pd.read_csv(csv_file, dtype={0: str})\n",
    "\n",
    "# 检查是否有非字符串的行\n",
    "for i, smile in enumerate(data.iloc[:, 0]):\n",
    "    if not isinstance(smile, str):\n",
    "        print(f\"Row {i} contains non-string data: {smile}\")\n",
    "        continue\n",
    "\n",
    "# 获取前 10 个 SMILES 字符串\n",
    "top_smiles = data.iloc[:11, 0].dropna()  # 排除空值\n",
    "\n",
    "# 将 SMILES 字符串转换为 RDKit 分子对象，并且排除无法解析的 SMILES\n",
    "molecules = [Chem.MolFromSmiles(smile) for smile in top_smiles if smile is not None and Chem.MolFromSmiles(smile)]\n",
    "\n",
    "# 使用 RDKit 生成分子的网格图像\n",
    "img = Draw.MolsToGridImage(molecules, molsPerRow=5, subImgSize=(200, 200), useSVG=True)\n",
    "\n",
    "# 显示图像\n",
    "img"
   ]
  }
 ],
 "metadata": {
  "kernelspec": {
   "display_name": "fbw",
   "language": "python",
   "name": "fbw"
  },
  "language_info": {
   "codemirror_mode": {
    "name": "ipython",
    "version": 3
   },
   "file_extension": ".py",
   "mimetype": "text/x-python",
   "name": "python",
   "nbconvert_exporter": "python",
   "pygments_lexer": "ipython3",
   "version": "3.8.17"
  }
 },
 "nbformat": 4,
 "nbformat_minor": 4
}
