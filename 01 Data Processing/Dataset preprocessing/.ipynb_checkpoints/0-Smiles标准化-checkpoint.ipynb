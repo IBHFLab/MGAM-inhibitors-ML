{
 "cells": [
  {
   "cell_type": "code",
   "execution_count": 9,
   "id": "827be3f9-2f96-404b-b49c-0339b882d242",
   "metadata": {},
   "outputs": [
    {
     "name": "stdout",
     "output_type": "stream",
     "text": [
      "标准化后的 SMILES 已添加到新列并保存到 MGAM-3.csv\n"
     ]
    }
   ],
   "source": [
    "#不包含立体异构信息\n",
    "from rdkit import Chem\n",
    "from rdkit.Chem.MolStandardize import rdMolStandardize\n",
    "from rdkit import RDLogger\n",
    "import pandas as pd\n",
    "\n",
    "RDLogger.DisableLog('rdApp.*')\n",
    "\n",
    "# 读取CSV文件\n",
    "df = pd.read_csv('MGAM-2.csv')\n",
    "\n",
    "# 定义标准化函数\n",
    "def standardize_smi(smiles, basicClean=True, clearCharge=True, clearFrag=True, canonTautomer=True, isomeric=False):\n",
    "    try:\n",
    "        clean_mol = Chem.MolFromSmiles(smiles)\n",
    "        if basicClean:\n",
    "            clean_mol = rdMolStandardize.Cleanup(clean_mol)# 除去氢、金属原子、标准化分子\n",
    "        if clearFrag:\n",
    "            clean_mol = rdMolStandardize.FragmentParent(clean_mol)# 仅仅保留主要片段作为分子\n",
    "        if clearCharge:\n",
    "            uncharger = rdMolStandardize.Uncharger()\n",
    "            clean_mol = uncharger.uncharge(clean_mol)# 尝试中性化处理分子\n",
    "        if canonTautomer:\n",
    "            te = rdMolStandardize.TautomerEnumerator() # idem\n",
    "            clean_mol = te.Canonicalize(clean_mol)# 处理互变异构情形，这一步在某些情况下可能不够完美\n",
    "\n",
    "        stan_smiles = Chem.MolToSmiles(clean_mol, isomericSmiles=isomeric)# 一出立体信息，并将分子存为标准化后的SMILES形式\n",
    "    except Exception as e:\n",
    "        print(e, smiles)\n",
    "        return None\n",
    "    return stan_smiles\n",
    "\n",
    "# 应用标准化函数到每一行的 SMILES 字符串，并将结果存储在新列 'Standardized_SMILES' 中\n",
    "df['Standardized_SMILES'] = df['Smiles'].apply(standardize_smi)\n",
    "\n",
    "# 将更新后的 DataFrame 保存到新的 CSV 文件，避免覆盖原始数据\n",
    "df.to_csv('MGAM-3.csv', index=False)\n",
    "\n",
    "# 如果你想覆盖原始文件，可以改用以下代码：\n",
    "# df.to_csv('MGAM-2.csv', index=False)\n",
    "\n",
    "print(\"标准化后的 SMILES 已添加到新列并保存到 MGAM-3.csv\")\n"
   ]
  },
  {
   "cell_type": "code",
   "execution_count": 8,
   "id": "406d81e4-4123-43b9-804a-8ccda88c4bbd",
   "metadata": {},
   "outputs": [
    {
     "name": "stdout",
     "output_type": "stream",
     "text": [
      "标准化后的 SMILES 已添加到新列并保存到 MGAM-4.csv\n"
     ]
    }
   ],
   "source": [
    "#包含立体异构信息\n",
    "from rdkit import Chem\n",
    "from rdkit.Chem.MolStandardize import rdMolStandardize\n",
    "from rdkit import RDLogger\n",
    "import pandas as pd\n",
    "\n",
    "RDLogger.DisableLog('rdApp.*')\n",
    "\n",
    "# 读取CSV文件\n",
    "df = pd.read_csv('MGAM-2.csv')\n",
    "\n",
    "# 定义标准化函数\n",
    "def standardize_smi(smiles, basicClean=True, clearCharge=True, clearFrag=True, canonTautomer=True, isomeric=True):\n",
    "    try:\n",
    "        clean_mol = Chem.MolFromSmiles(smiles)\n",
    "        if basicClean:\n",
    "            clean_mol = rdMolStandardize.Cleanup(clean_mol)# 除去氢、金属原子、标准化分子\n",
    "        if clearFrag:\n",
    "            clean_mol = rdMolStandardize.FragmentParent(clean_mol)# 仅仅保留主要片段作为分子\n",
    "        if clearCharge:\n",
    "            uncharger = rdMolStandardize.Uncharger()\n",
    "            clean_mol = uncharger.uncharge(clean_mol)# 尝试中性化处理分子\n",
    "        if canonTautomer:\n",
    "            te = rdMolStandardize.TautomerEnumerator() # idem\n",
    "            clean_mol = te.Canonicalize(clean_mol)# 处理互变异构情形，这一步在某些情况下可能不够完美\n",
    "\n",
    "        stan_smiles = Chem.MolToSmiles(clean_mol, isomericSmiles=isomeric)# 一出立体信息，并将分子存为标准化后的SMILES形式\n",
    "    except Exception as e:\n",
    "        print(e, smiles)\n",
    "        return None\n",
    "    return stan_smiles\n",
    "\n",
    "# 应用标准化函数到每一行的 SMILES 字符串，并将结果存储在新列 'Standardized_SMILES' 中\n",
    "df['Standardized_SMILES'] = df['Smiles'].apply(standardize_smi)\n",
    "\n",
    "# 将更新后的 DataFrame 保存到新的 CSV 文件，避免覆盖原始数据\n",
    "df.to_csv('MGAM-4.csv', index=False)\n",
    "\n",
    "# 如果你想覆盖原始文件，可以改用以下代码：\n",
    "# df.to_csv('MGAM-2.csv', index=False)\n",
    "\n",
    "print(\"标准化后的 SMILES 已添加到新列并保存到 MGAM-4.csv\")\n"
   ]
  }
 ],
 "metadata": {
  "kernelspec": {
   "display_name": "Python 3 (ipykernel)",
   "language": "python",
   "name": "python3"
  },
  "language_info": {
   "codemirror_mode": {
    "name": "ipython",
    "version": 3
   },
   "file_extension": ".py",
   "mimetype": "text/x-python",
   "name": "python",
   "nbconvert_exporter": "python",
   "pygments_lexer": "ipython3",
   "version": "3.8.0"
  }
 },
 "nbformat": 4,
 "nbformat_minor": 5
}
