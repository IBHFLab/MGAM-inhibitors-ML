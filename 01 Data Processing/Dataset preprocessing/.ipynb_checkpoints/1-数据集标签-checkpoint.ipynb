{
 "cells": [
  {
   "cell_type": "code",
   "execution_count": 8,
   "id": "d9dda07d-74c6-4a3f-b585-fd262a75654f",
   "metadata": {},
   "outputs": [],
   "source": [
    "import os\n",
    "import pandas as pd"
   ]
  },
  {
   "cell_type": "code",
   "execution_count": 9,
   "id": "edd7ba50-59da-4acb-ae9e-bfd15898bee9",
   "metadata": {},
   "outputs": [
    {
     "name": "stdout",
     "output_type": "stream",
     "text": [
      "当前工作目录: /home/md04/public/jupyter/xyt/数据集\n"
     ]
    }
   ],
   "source": [
    "# 检查当前工作目录\n",
    "current_directory = os.getcwd()\n",
    "print(\"当前工作目录:\", current_directory)"
   ]
  },
  {
   "cell_type": "code",
   "execution_count": 10,
   "id": "7525d9cb-d164-4835-99df-1397b50c53eb",
   "metadata": {},
   "outputs": [],
   "source": [
    "# 使用pandas的read_csv函数加载CSV文件\n",
    "df = pd.read_csv(\"MGAM-2.csv\")"
   ]
  },
  {
   "cell_type": "code",
   "execution_count": 11,
   "id": "cca273aa-dd63-43c7-bbf7-837c6d8ddcc5",
   "metadata": {},
   "outputs": [
    {
     "data": {
      "text/html": [
       "<div>\n",
       "<style scoped>\n",
       "    .dataframe tbody tr th:only-of-type {\n",
       "        vertical-align: middle;\n",
       "    }\n",
       "\n",
       "    .dataframe tbody tr th {\n",
       "        vertical-align: top;\n",
       "    }\n",
       "\n",
       "    .dataframe thead th {\n",
       "        text-align: right;\n",
       "    }\n",
       "</style>\n",
       "<table border=\"1\" class=\"dataframe\">\n",
       "  <thead>\n",
       "    <tr style=\"text-align: right;\">\n",
       "      <th></th>\n",
       "      <th>Molecule_ChEMBL_ID</th>\n",
       "      <th>Smiles</th>\n",
       "      <th>Standard_Value</th>\n",
       "      <th>Unit</th>\n",
       "    </tr>\n",
       "  </thead>\n",
       "  <tbody>\n",
       "    <tr>\n",
       "      <th>0</th>\n",
       "      <td>CHEMBL2051983</td>\n",
       "      <td>CO[C@H]1O[C@H](C)[C@@H](N[C@H]2C[C@](O)(CO)[C@...</td>\n",
       "      <td>4.9</td>\n",
       "      <td>nM</td>\n",
       "    </tr>\n",
       "    <tr>\n",
       "      <th>1</th>\n",
       "      <td>CHEMBL2374254</td>\n",
       "      <td>OC[C@@]1(O)C[C@H](NC[C@H](O)c2ccccc2)[C@H](O)[...</td>\n",
       "      <td>5.8</td>\n",
       "      <td>nM</td>\n",
       "    </tr>\n",
       "    <tr>\n",
       "      <th>2</th>\n",
       "      <td>CHEMBL3349432</td>\n",
       "      <td>OC[C@@]1(O)C[C@H](N[C@@H]2CCCC[C@H]2O)[C@H](O)...</td>\n",
       "      <td>6.1</td>\n",
       "      <td>nM</td>\n",
       "    </tr>\n",
       "    <tr>\n",
       "      <th>3</th>\n",
       "      <td>CHEMBL2374253</td>\n",
       "      <td>OC[C@H](N[C@H]1C[C@](O)(CO)[C@@H](O)[C@H](O)[C...</td>\n",
       "      <td>13.0</td>\n",
       "      <td>nM</td>\n",
       "    </tr>\n",
       "    <tr>\n",
       "      <th>4</th>\n",
       "      <td>CHEMBL3349431</td>\n",
       "      <td>OCN(CO)[C@H]1C[C@](O)(CO)[C@@H](O)[C@H](O)[C@H]1O</td>\n",
       "      <td>15.0</td>\n",
       "      <td>nM</td>\n",
       "    </tr>\n",
       "  </tbody>\n",
       "</table>\n",
       "</div>"
      ],
      "text/plain": [
       "  Molecule_ChEMBL_ID                                             Smiles  \\\n",
       "0      CHEMBL2051983  CO[C@H]1O[C@H](C)[C@@H](N[C@H]2C[C@](O)(CO)[C@...   \n",
       "1      CHEMBL2374254  OC[C@@]1(O)C[C@H](NC[C@H](O)c2ccccc2)[C@H](O)[...   \n",
       "2      CHEMBL3349432  OC[C@@]1(O)C[C@H](N[C@@H]2CCCC[C@H]2O)[C@H](O)...   \n",
       "3      CHEMBL2374253  OC[C@H](N[C@H]1C[C@](O)(CO)[C@@H](O)[C@H](O)[C...   \n",
       "4      CHEMBL3349431  OCN(CO)[C@H]1C[C@](O)(CO)[C@@H](O)[C@H](O)[C@H]1O   \n",
       "\n",
       "   Standard_Value Unit  \n",
       "0             4.9   nM  \n",
       "1             5.8   nM  \n",
       "2             6.1   nM  \n",
       "3            13.0   nM  \n",
       "4            15.0   nM  "
      ]
     },
     "execution_count": 11,
     "metadata": {},
     "output_type": "execute_result"
    }
   ],
   "source": [
    "# 显示DataFrame的前几行以确保数据被正确加载\n",
    "df.head()"
   ]
  },
  {
   "cell_type": "code",
   "execution_count": 12,
   "id": "af90833d",
   "metadata": {},
   "outputs": [],
   "source": [
    "bioactivity_class = []#对IC50值进行分类\n",
    "for i in df.Standard_Value:\n",
    "    if float(i) >= 7000:\n",
    "        bioactivity_class.append(\"0\")\n",
    "    elif float(i) <= 7000:\n",
    "        bioactivity_class.append(\"1\")"
   ]
  },
  {
   "cell_type": "code",
   "execution_count": 13,
   "id": "43ff555a",
   "metadata": {},
   "outputs": [],
   "source": [
    "mol_cid = []\n",
    "for i in df[\"Molecule_ChEMBL_ID\"]:\n",
    "    mol_cid.append(i)"
   ]
  },
  {
   "cell_type": "code",
   "execution_count": 14,
   "id": "7b2929fc",
   "metadata": {},
   "outputs": [],
   "source": [
    "canonical_smiles = []\n",
    "for i in df[\"Smiles\"]:\n",
    "    canonical_smiles.append(i)"
   ]
  },
  {
   "cell_type": "code",
   "execution_count": 15,
   "id": "b8edef20",
   "metadata": {},
   "outputs": [],
   "source": [
    "standard_value = []\n",
    "for i in df[\"Standard_Value\"]:\n",
    "    standard_value.append(i)"
   ]
  },
  {
   "cell_type": "code",
   "execution_count": 17,
   "id": "cd9d2f85",
   "metadata": {},
   "outputs": [
    {
     "data": {
      "text/html": [
       "<div>\n",
       "<style scoped>\n",
       "    .dataframe tbody tr th:only-of-type {\n",
       "        vertical-align: middle;\n",
       "    }\n",
       "\n",
       "    .dataframe tbody tr th {\n",
       "        vertical-align: top;\n",
       "    }\n",
       "\n",
       "    .dataframe thead th {\n",
       "        text-align: right;\n",
       "    }\n",
       "</style>\n",
       "<table border=\"1\" class=\"dataframe\">\n",
       "  <thead>\n",
       "    <tr style=\"text-align: right;\">\n",
       "      <th></th>\n",
       "      <th>molecule_chembl_id</th>\n",
       "      <th>canonical_smiles</th>\n",
       "      <th>bioactivity_class</th>\n",
       "      <th>standard_value</th>\n",
       "    </tr>\n",
       "  </thead>\n",
       "  <tbody>\n",
       "    <tr>\n",
       "      <th>0</th>\n",
       "      <td>CHEMBL2051983</td>\n",
       "      <td>CO[C@H]1O[C@H](C)[C@@H](N[C@H]2C[C@](O)(CO)[C@...</td>\n",
       "      <td>1</td>\n",
       "      <td>4.90</td>\n",
       "    </tr>\n",
       "    <tr>\n",
       "      <th>1</th>\n",
       "      <td>CHEMBL2374254</td>\n",
       "      <td>OC[C@@]1(O)C[C@H](NC[C@H](O)c2ccccc2)[C@H](O)[...</td>\n",
       "      <td>1</td>\n",
       "      <td>5.80</td>\n",
       "    </tr>\n",
       "    <tr>\n",
       "      <th>2</th>\n",
       "      <td>CHEMBL3349432</td>\n",
       "      <td>OC[C@@]1(O)C[C@H](N[C@@H]2CCCC[C@H]2O)[C@H](O)...</td>\n",
       "      <td>1</td>\n",
       "      <td>6.10</td>\n",
       "    </tr>\n",
       "    <tr>\n",
       "      <th>3</th>\n",
       "      <td>CHEMBL2374253</td>\n",
       "      <td>OC[C@H](N[C@H]1C[C@](O)(CO)[C@@H](O)[C@H](O)[C...</td>\n",
       "      <td>1</td>\n",
       "      <td>13.00</td>\n",
       "    </tr>\n",
       "    <tr>\n",
       "      <th>4</th>\n",
       "      <td>CHEMBL3349431</td>\n",
       "      <td>OCN(CO)[C@H]1C[C@](O)(CO)[C@@H](O)[C@H](O)[C@H]1O</td>\n",
       "      <td>1</td>\n",
       "      <td>15.00</td>\n",
       "    </tr>\n",
       "    <tr>\n",
       "      <th>...</th>\n",
       "      <td>...</td>\n",
       "      <td>...</td>\n",
       "      <td>...</td>\n",
       "      <td>...</td>\n",
       "    </tr>\n",
       "    <tr>\n",
       "      <th>752</th>\n",
       "      <td>CHEMBL1088292</td>\n",
       "      <td>OC[C@H]1[C@H](O)[C@H](O)[C@@H](O)CN1CCCCCOCC12...</td>\n",
       "      <td>0</td>\n",
       "      <td>1000000.00</td>\n",
       "    </tr>\n",
       "    <tr>\n",
       "      <th>753</th>\n",
       "      <td>CHEMBL1088291</td>\n",
       "      <td>CCCCN1C[C@H](O)[C@@H](O)[C@@H](O)[C@@H]1CO</td>\n",
       "      <td>0</td>\n",
       "      <td>1000000.00</td>\n",
       "    </tr>\n",
       "    <tr>\n",
       "      <th>754</th>\n",
       "      <td>CHEMBL4543696</td>\n",
       "      <td>O=c1ccc2ccc(Oc3cc4ccc(O)c(-c5c(OC6O[C@H](CO)[C...</td>\n",
       "      <td>0</td>\n",
       "      <td>1210165.39</td>\n",
       "    </tr>\n",
       "    <tr>\n",
       "      <th>755</th>\n",
       "      <td>CHEMBL5172902</td>\n",
       "      <td>COc1cc2c(c(O)c1CO)C(=O)OC[C@@H]2O</td>\n",
       "      <td>0</td>\n",
       "      <td>1410000.00</td>\n",
       "    </tr>\n",
       "    <tr>\n",
       "      <th>756</th>\n",
       "      <td>CHEMBL4555601</td>\n",
       "      <td>O=c1ccc2ccc(O)c(-c3c(OC4O[C@H](CO)[C@@H](O)[C@...</td>\n",
       "      <td>0</td>\n",
       "      <td>1568919.00</td>\n",
       "    </tr>\n",
       "  </tbody>\n",
       "</table>\n",
       "<p>757 rows × 4 columns</p>\n",
       "</div>"
      ],
      "text/plain": [
       "    molecule_chembl_id                                   canonical_smiles  \\\n",
       "0        CHEMBL2051983  CO[C@H]1O[C@H](C)[C@@H](N[C@H]2C[C@](O)(CO)[C@...   \n",
       "1        CHEMBL2374254  OC[C@@]1(O)C[C@H](NC[C@H](O)c2ccccc2)[C@H](O)[...   \n",
       "2        CHEMBL3349432  OC[C@@]1(O)C[C@H](N[C@@H]2CCCC[C@H]2O)[C@H](O)...   \n",
       "3        CHEMBL2374253  OC[C@H](N[C@H]1C[C@](O)(CO)[C@@H](O)[C@H](O)[C...   \n",
       "4        CHEMBL3349431  OCN(CO)[C@H]1C[C@](O)(CO)[C@@H](O)[C@H](O)[C@H]1O   \n",
       "..                 ...                                                ...   \n",
       "752      CHEMBL1088292  OC[C@H]1[C@H](O)[C@H](O)[C@@H](O)CN1CCCCCOCC12...   \n",
       "753      CHEMBL1088291         CCCCN1C[C@H](O)[C@@H](O)[C@@H](O)[C@@H]1CO   \n",
       "754      CHEMBL4543696  O=c1ccc2ccc(Oc3cc4ccc(O)c(-c5c(OC6O[C@H](CO)[C...   \n",
       "755      CHEMBL5172902                  COc1cc2c(c(O)c1CO)C(=O)OC[C@@H]2O   \n",
       "756      CHEMBL4555601  O=c1ccc2ccc(O)c(-c3c(OC4O[C@H](CO)[C@@H](O)[C@...   \n",
       "\n",
       "    bioactivity_class  standard_value  \n",
       "0                   1            4.90  \n",
       "1                   1            5.80  \n",
       "2                   1            6.10  \n",
       "3                   1           13.00  \n",
       "4                   1           15.00  \n",
       "..                ...             ...  \n",
       "752                 0      1000000.00  \n",
       "753                 0      1000000.00  \n",
       "754                 0      1210165.39  \n",
       "755                 0      1410000.00  \n",
       "756                 0      1568919.00  \n",
       "\n",
       "[757 rows x 4 columns]"
      ]
     },
     "execution_count": 17,
     "metadata": {},
     "output_type": "execute_result"
    }
   ],
   "source": [
    "data_tuples = list(zip(mol_cid, canonical_smiles, bioactivity_class, standard_value))\n",
    "df3 = pd.DataFrame( data_tuples,  columns=['molecule_chembl_id', 'canonical_smiles', 'bioactivity_class', 'standard_value'])\n",
    "df3"
   ]
  },
  {
   "cell_type": "code",
   "execution_count": 18,
   "id": "05e470d5",
   "metadata": {},
   "outputs": [],
   "source": [
    "df3.to_csv('bioactivity_preprocessed_MGAM.csv', index=False)#到这一步即可"
   ]
  },
  {
   "cell_type": "code",
   "execution_count": 84,
   "id": "96a35bcb",
   "metadata": {},
   "outputs": [],
   "source": [
    "# selection = ['molecule_chembl_id', 'canonical_smiles', 'bioactivity_class','standard_value']\n",
    "# df4 = df3[selection]\n",
    "# df4"
   ]
  },
  {
   "cell_type": "code",
   "execution_count": 73,
   "id": "859cdd77",
   "metadata": {},
   "outputs": [],
   "source": [
    "# pd.concat([df4,pd.Series(bioactivity_class)], axis=1)"
   ]
  }
 ],
 "metadata": {
  "kernelspec": {
   "display_name": "Python 3 (ipykernel)",
   "language": "python",
   "name": "python3"
  },
  "language_info": {
   "codemirror_mode": {
    "name": "ipython",
    "version": 3
   },
   "file_extension": ".py",
   "mimetype": "text/x-python",
   "name": "python",
   "nbconvert_exporter": "python",
   "pygments_lexer": "ipython3",
   "version": "3.8.0"
  },
  "widgets": {
   "application/vnd.jupyter.widget-state+json": {
    "state": {},
    "version_major": 2,
    "version_minor": 0
   }
  }
 },
 "nbformat": 4,
 "nbformat_minor": 5
}
