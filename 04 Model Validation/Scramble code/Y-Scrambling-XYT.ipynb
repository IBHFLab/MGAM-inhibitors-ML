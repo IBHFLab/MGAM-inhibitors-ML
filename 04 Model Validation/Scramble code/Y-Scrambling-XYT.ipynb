{
 "cells": [
  {
   "cell_type": "code",
   "execution_count": 5,
   "id": "94c95d0f-b1cf-408d-a58b-03b0f7a016e1",
   "metadata": {},
   "outputs": [
    {
     "data": {
      "text/plain": [
       "'/home/md04/public/jupyter/xyt/模型验证'"
      ]
     },
     "execution_count": 5,
     "metadata": {},
     "output_type": "execute_result"
    }
   ],
   "source": [
    "# 查看当前路径\n",
    "pwd"
   ]
  },
  {
   "cell_type": "code",
   "execution_count": 4,
   "id": "73302caa-3d58-4b22-b5b3-f33eb1c607d7",
   "metadata": {},
   "outputs": [
    {
     "name": "stdout",
     "output_type": "stream",
     "text": [
      "Looking in indexes: https://mirrors.aliyun.com/pypi/simple\n",
      "Processing ./y_scramble-0.0.8-py3-none-any.whl\n",
      "Requirement already satisfied: pandas in /home/md04/anaconda3/envs/fbw/lib/python3.8/site-packages (from y-scramble==0.0.8) (2.0.3)\n",
      "Requirement already satisfied: numpy in /home/md04/anaconda3/envs/fbw/lib/python3.8/site-packages (from y-scramble==0.0.8) (1.24.4)\n",
      "Requirement already satisfied: scipy in /home/md04/anaconda3/envs/fbw/lib/python3.8/site-packages (from y-scramble==0.0.8) (1.10.1)\n",
      "Requirement already satisfied: scikit-learn in /home/md04/anaconda3/envs/fbw/lib/python3.8/site-packages (from y-scramble==0.0.8) (1.3.1)\n",
      "Requirement already satisfied: pytest in /home/md04/anaconda3/envs/fbw/lib/python3.8/site-packages (from y-scramble==0.0.8) (7.4.2)\n",
      "Requirement already satisfied: tqdm in /home/md04/anaconda3/envs/fbw/lib/python3.8/site-packages (from y-scramble==0.0.8) (4.66.1)\n",
      "Requirement already satisfied: python-dateutil>=2.8.2 in /home/md04/anaconda3/envs/fbw/lib/python3.8/site-packages (from pandas->y-scramble==0.0.8) (2.8.2)\n",
      "Requirement already satisfied: pytz>=2020.1 in /home/md04/anaconda3/envs/fbw/lib/python3.8/site-packages (from pandas->y-scramble==0.0.8) (2023.3.post1)\n",
      "Requirement already satisfied: tzdata>=2022.1 in /home/md04/anaconda3/envs/fbw/lib/python3.8/site-packages (from pandas->y-scramble==0.0.8) (2023.3)\n",
      "Requirement already satisfied: iniconfig in /home/md04/anaconda3/envs/fbw/lib/python3.8/site-packages (from pytest->y-scramble==0.0.8) (2.0.0)\n",
      "Requirement already satisfied: packaging in /home/md04/anaconda3/envs/fbw/lib/python3.8/site-packages (from pytest->y-scramble==0.0.8) (23.2)\n",
      "Requirement already satisfied: pluggy<2.0,>=0.12 in /home/md04/anaconda3/envs/fbw/lib/python3.8/site-packages (from pytest->y-scramble==0.0.8) (1.3.0)\n",
      "Requirement already satisfied: exceptiongroup>=1.0.0rc8 in /home/md04/anaconda3/envs/fbw/lib/python3.8/site-packages (from pytest->y-scramble==0.0.8) (1.1.3)\n",
      "Requirement already satisfied: tomli>=1.0.0 in /home/md04/anaconda3/envs/fbw/lib/python3.8/site-packages (from pytest->y-scramble==0.0.8) (2.0.1)\n",
      "Requirement already satisfied: joblib>=1.1.1 in /home/md04/anaconda3/envs/fbw/lib/python3.8/site-packages (from scikit-learn->y-scramble==0.0.8) (1.3.2)\n",
      "Requirement already satisfied: threadpoolctl>=2.0.0 in /home/md04/anaconda3/envs/fbw/lib/python3.8/site-packages (from scikit-learn->y-scramble==0.0.8) (3.2.0)\n",
      "Requirement already satisfied: six>=1.5 in /home/md04/anaconda3/envs/fbw/lib/python3.8/site-packages (from python-dateutil>=2.8.2->pandas->y-scramble==0.0.8) (1.16.0)\n",
      "Installing collected packages: y-scramble\n",
      "Successfully installed y-scramble-0.0.8\n",
      "Note: you may need to restart the kernel to use updated packages.\n"
     ]
    }
   ],
   "source": [
    "# 文件y_scramble-0.0.8-py3-none-any.whl是一个Python Wheel包。\n",
    "# Wheel是Python的一种分发格式，旨在替代传统的源代码分发（例如.tar.gz文件）和编译后分发（如.egg文件）。\n",
    "# 这种格式的主要优点包括更快的安装速度和避免运行setup.py可能带来的安全风险。\n",
    "pip install y_scramble-0.0.8-py3-none-any.whl"
   ]
  },
  {
   "cell_type": "code",
   "execution_count": 7,
   "id": "ced0bd01-04b9-41e1-a310-164fa9e2315d",
   "metadata": {},
   "outputs": [],
   "source": [
    "# 模型扰动\n",
    "from y_scramble import Scrambler  # 确保y_scramble已正确安装和可用\n",
    "\n",
    "\n",
    "# 设置训练集和测试集的特征和标签\n",
    "X_train = train_X = x_mor_train\n",
    "Y_train = train_Y = y_mor_train\n",
    "X_test = test_X = x_mor_test\n",
    "Y_test = test_Y = y_mor_test\n",
    "\n",
    "# 初始化XGBClassifier分类器，并设置超参数\n",
    "xgb = XGBClassifier(\n",
    "    random_state=0,  # 随机种子，保证可复现性\n",
    "    objective='binary:logistic',  # 目标函数为二元逻辑回归\n",
    "    colsample_bytree=0.8,  # 构造每棵树时列的采样率\n",
    "    gamma=0.0,  # 叶子节点分裂所需的最小损失减少\n",
    "    max_depth=9,  # 最大深度\n",
    "    min_child_weight=1,  # 孩子节点所需的最小权重和\n",
    "    n_estimators=40,  # 树的个数\n",
    "    reg_alpha=0.1,  # L1正则化系数\n",
    "    reg_lambda=0.1,  # L2正则化系数\n",
    "    subsample=0.8  # 训练每棵树时样本的采样率\n",
    ")\n",
    "\n",
    "# 训练模型\n",
    "estimator = xgb\n",
    "estimator.fit(X_train, Y_train)\n",
    "\n",
    "# 转换Y_train为numpy数组以避免KeyError\n",
    "Y_train_np = Y_train.values.ravel()\n",
    "\n",
    "# 确保X和Y被正确赋值为训练数据集和标签\n",
    "X = X_train\n",
    "Y = Y_train_np  # 使用Y_train转换为numpy数组的版本\n",
    "\n",
    "# 初始化Scrambler实例\n",
    "scrambler = Scrambler(model=xgb, iterations=100)\n",
    "\n",
    "# 使用Scrambler验证模型\n",
    "scores, zscores, pvalues, significances = scrambler.validate(\n",
    "    X, Y, \n",
    "    scoring=\"roc_auc\", #'accuracy', 'recall', precision'\n",
    "    cross_val_score_aggregator=\"mean\", \n",
    "    pvalue_threshold=0.01\n",
    ")"
   ]
  },
  {
   "cell_type": "code",
   "execution_count": 8,
   "id": "e6bd9175-48d1-45e0-9066-46fb2d9836a4",
   "metadata": {},
   "outputs": [
    {
     "name": "stdout",
     "output_type": "stream",
     "text": [
      "基模型得分: 0.8947368421052632\n",
      "基模型显著性: 显著\n",
      "打乱模型平均得分: 0.33447368421052637\n",
      "打乱模型最高得分: 0.5263157894736842\n",
      "显著的打乱次数/总打乱次数: 0/100 (0.00%)\n",
      "\n",
      "前5个打乱模型的得分、z分数和p值:\n",
      "打乱模型 1: 得分=0.47368421052631576, z分数=1.3343819174016471, p值=0.18207872314500007, 显著性=不显著\n",
      "打乱模型 2: 得分=0.2631578947368421, z分数=-0.7673346308644964, p值=0.4428825833733361, 显著性=不显著\n",
      "打乱模型 3: 得分=0.3157894736842105, z分数=-0.24190549379796053, p值=0.8088533931102685, 显著性=不显著\n",
      "打乱模型 4: 得分=0.3684210526315789, z分数=0.2835236432685753, p值=0.7767754601879973, 显著性=不显著\n",
      "打乱模型 5: 得分=0.3157894736842105, z分数=-0.24190549379796053, p值=0.8088533931102685, 显著性=不显著\n"
     ]
    }
   ],
   "source": [
    "import numpy as np  # 用于数值运算和数据操作\n",
    "# 打印基模型的得分和显著性\n",
    "print(f\"基模型得分: {scores[0]}\")\n",
    "print(f\"基模型显著性: {'显著' if significances[0] else '不显著'}\")\n",
    "\n",
    "# 打印打乱模型的平均得分、最高得分和显著性比例\n",
    "average_scrambled_score = np.mean(scores[1:])\n",
    "max_scrambled_score = np.max(scores[1:])\n",
    "significant_scrambles = np.sum(significances[1:])\n",
    "total_scrambles = len(significances[1:])\n",
    "\n",
    "print(f\"打乱模型平均得分: {average_scrambled_score}\")\n",
    "print(f\"打乱模型最高得分: {max_scrambled_score}\")\n",
    "print(f\"显著的打乱次数/总打乱次数: {significant_scrambles}/{total_scrambles} ({significant_scrambles/total_scrambles*100:.2f}%)\")\n",
    "\n",
    "# 可选：展示具体的得分、z分数和p值\n",
    "# 为了简洁，这里只展示前5个打乱模型的结果\n",
    "print(\"\\n前5个打乱模型的得分、z分数和p值:\")\n",
    "for i in range(1, 6):\n",
    "    print(f\"打乱模型 {i}: 得分={scores[i]}, z分数={zscores[i]}, p值={pvalues[i]}, 显著性={'显著' if significances[i] else '不显著'}\")"
   ]
  },
  {
   "cell_type": "code",
   "execution_count": 6,
   "id": "5a5121dd-1668-4d91-858e-32b92257ca0d",
   "metadata": {},
   "outputs": [
    {
     "name": "stdout",
     "output_type": "stream",
     "text": [
      "['accuracy', 'adjusted_mutual_info_score', 'adjusted_rand_score', 'average_precision', 'balanced_accuracy', 'completeness_score', 'explained_variance', 'f1', 'f1_macro', 'f1_micro', 'f1_samples', 'f1_weighted', 'fowlkes_mallows_score', 'homogeneity_score', 'jaccard', 'jaccard_macro', 'jaccard_micro', 'jaccard_samples', 'jaccard_weighted', 'matthews_corrcoef', 'max_error', 'mutual_info_score', 'neg_brier_score', 'neg_log_loss', 'neg_mean_absolute_error', 'neg_mean_absolute_percentage_error', 'neg_mean_gamma_deviance', 'neg_mean_poisson_deviance', 'neg_mean_squared_error', 'neg_mean_squared_log_error', 'neg_median_absolute_error', 'neg_negative_likelihood_ratio', 'neg_root_mean_squared_error', 'neg_root_mean_squared_log_error', 'normalized_mutual_info_score', 'positive_likelihood_ratio', 'precision', 'precision_macro', 'precision_micro', 'precision_samples', 'precision_weighted', 'r2', 'rand_score', 'recall', 'recall_macro', 'recall_micro', 'recall_samples', 'recall_weighted', 'roc_auc', 'roc_auc_ovo', 'roc_auc_ovo_weighted', 'roc_auc_ovr', 'roc_auc_ovr_weighted', 'top_k_accuracy', 'v_measure_score']\n"
     ]
    }
   ],
   "source": [
    "from sklearn.metrics import get_scorer_names, get_scorer\n",
    "\n",
    "# 获取并打印所有可用的评分器名称\n",
    "scorer_names = get_scorer_names()\n",
    "print(scorer_names)\n",
    "\n",
    "# 示例：获取并使用“准确率”评分器\n",
    "accuracy_scorer = get_scorer('accuracy')\n",
    "\n",
    "# 现在，accuracy_scorer 可以被用在模型评估中，例如：\n",
    "# score = accuracy_scorer(model, X_test, y_test)"
   ]
  }
 ],
 "metadata": {
  "kernelspec": {
   "display_name": "Python 3 (ipykernel)",
   "language": "python",
   "name": "python3"
  },
  "language_info": {
   "codemirror_mode": {
    "name": "ipython",
    "version": 3
   },
   "file_extension": ".py",
   "mimetype": "text/x-python",
   "name": "python",
   "nbconvert_exporter": "python",
   "pygments_lexer": "ipython3",
   "version": "3.8.0"
  }
 },
 "nbformat": 4,
 "nbformat_minor": 5
}
