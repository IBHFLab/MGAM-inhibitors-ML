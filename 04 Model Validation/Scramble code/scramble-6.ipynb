{
 "cells": [
  {
   "cell_type": "code",
   "execution_count": null,
   "id": "71eaf06d-a467-42db-9b2c-a2e3e5a92906",
   "metadata": {},
   "outputs": [],
   "source": [
    "from sklearn.metrics import roc_auc_score, matthews_corrcoef, average_precision_score\n",
    "# 确保已经导入了其他必需的库和函数\n",
    "\n",
    "class Scrambler:\n",
    "\n",
    "    # 省略其他部分以节省空间\n",
    "\n",
    "    def __evaluate_model(self, X_train, Y_train, X_test, Y_test, scorer, progress_bar, cross_val=False, cv_kfolds=7):\n",
    "        self.base_model.fit(X_train, Y_train)\n",
    "        \n",
    "        # 初始化列表来存储各项评分\n",
    "        accuracy_scores = []\n",
    "        recall_scores = []\n",
    "        precision_scores = []\n",
    "        roc_auc_scores = []  # 存储ROC AUC分数\n",
    "        mcc_scores = []  # 存储Matthews相关系数分数\n",
    "        avg_precision_scores = []  # 存储平均精确度分数\n",
    "\n",
    "        if cross_val:\n",
    "            Y_pred = cross_val_predict(self.base_model, X_train, Y_train, cv=cv_kfolds)\n",
    "        else:\n",
    "            Y_pred = self.base_model.predict(X_test)\n",
    "\n",
    "        # 对原始模型进行评分\n",
    "        accuracy_scores.append(accuracy_score(Y_test, Y_pred))\n",
    "        recall_scores.append(recall_score(Y_test, Y_pred, average='binary'))\n",
    "        precision_scores.append(precision_score(Y_test, Y_pred, average='binary'))\n",
    "        roc_auc_scores.append(roc_auc_score(Y_test, Y_pred))\n",
    "        mcc_scores.append(matthews_corrcoef(Y_test, Y_pred))\n",
    "        avg_precision_scores.append(average_precision_score(Y_test, Y_pred))\n",
    "\n",
    "        # 对扰乱模型进行评分\n",
    "        scrambled_models_iterator = tqdm(range(self.iterations)) if progress_bar else range(self.iterations)\n",
    "        for _ in scrambled_models_iterator:\n",
    "            Y_train_scrambled = np.random.permutation(Y_train)\n",
    "            self.base_model.fit(X_train, Y_train_scrambled)\n",
    "            if cross_val:\n",
    "                Y_pred_scrambled = cross_val_predict(self.base_model, X_train, Y_train_scrambled, cv=cv_kfolds)\n",
    "            else:\n",
    "                Y_pred_scrambled = self.base_model.predict(X_test)\n",
    "            \n",
    "            accuracy_scores.append(accuracy_score(Y_test, Y_pred_scrambled))\n",
    "            recall_scores.append(recall_score(Y_test, Y_pred_scrambled, average='binary'))\n",
    "            precision_scores.append(precision_score(Y_test, Y_pred_scrambled, average='binary'))\n",
    "            roc_auc_scores.append(roc_auc_score(Y_test, Y_pred_scrambled))\n",
    "            mcc_scores.append(matthews_corrcoef(Y_test, Y_pred_scrambled))\n",
    "            avg_precision_scores.append(average_precision_score(Y_test, Y_pred_scrambled))\n",
    "\n",
    "        return accuracy_scores, recall_scores, precision_scores, roc_auc_scores, mcc_scores, avg_precision_scores\n"
   ]
  }
 ],
 "metadata": {
  "kernelspec": {
   "display_name": "Python 3 (ipykernel)",
   "language": "python",
   "name": "python3"
  },
  "language_info": {
   "codemirror_mode": {
    "name": "ipython",
    "version": 3
   },
   "file_extension": ".py",
   "mimetype": "text/x-python",
   "name": "python",
   "nbconvert_exporter": "python",
   "pygments_lexer": "ipython3",
   "version": "3.8.0"
  }
 },
 "nbformat": 4,
 "nbformat_minor": 5
}
